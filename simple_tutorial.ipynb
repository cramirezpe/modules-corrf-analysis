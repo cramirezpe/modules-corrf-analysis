{
 "cells": [
  {
   "cell_type": "markdown",
   "id": "cc23e39d-7cdc-4606-b2a9-87404e93ae6f",
   "metadata": {},
   "source": [
    "# 10 Boxes analysis."
   ]
  },
  {
   "cell_type": "code",
   "execution_count": 1,
   "id": "c24da405-8188-451c-88db-d919021c84d5",
   "metadata": {},
   "outputs": [],
   "source": [
    "from module_files_plots import Plots, FileFuncs, Fitter\n",
    "from read_theory_to_xi import ComputeModelsCoLoRe"
   ]
  },
  {
   "cell_type": "code",
   "execution_count": 2,
   "id": "af010e6b-0f20-4c43-9838-342375f5ce60",
   "metadata": {},
   "outputs": [],
   "source": [
    "from pathlib import Path\n",
    "import matplotlib.pyplot as plt"
   ]
  },
  {
   "cell_type": "markdown",
   "id": "e83ab7b9-e626-4d24-9699-a781db81bbf3",
   "metadata": {},
   "source": [
    "We need to provide the following files to the theory object:"
   ]
  },
  {
   "cell_type": "code",
   "execution_count": 3,
   "id": "04c6564d-f489-4183-81cc-8dbb75d6bd61",
   "metadata": {},
   "outputs": [],
   "source": [
    "theory_path=Path('/global/cscratch1/sd/damonge/CoLoRe_sims/sim1000')\n",
    "bias_filename=Path('/global/cscratch1/sd/cramirez/NBodyKit/hanyu_david_box/input_files/BzBlue.txt')\n",
    "nz_filename=Path('/global/cscratch1/sd/cramirez/NBodyKit/hanyu_david_box/input_files/NzBlue.txt')\n",
    "pk_filename=Path('/global/cscratch1/sd/cramirez/NBodyKit/hanyu_david_box/input_files/Pk_CAMB_test.dat')"
   ]
  },
  {
   "cell_type": "markdown",
   "id": "003be14b-accb-4efe-8bd6-857fd74e3fb6",
   "metadata": {},
   "source": [
    "Create theory object:"
   ]
  },
  {
   "cell_type": "code",
   "execution_count": 4,
   "id": "d4058acd-8e4d-4b14-83cc-738c1ab705ae",
   "metadata": {},
   "outputs": [],
   "source": [
    "theory = ComputeModelsCoLoRe(\n",
    "    box_path=theory_path,\n",
    "    source=2,\n",
    "    nz_filename=nz_filename,\n",
    "    pk_filename=pk_filename,\n",
    "    param_cfg_filename='/global/cscratch1/sd/damonge/CoLoRe_sims/sim1000/out_params.cfg',\n",
    "    bias_filename=bias_filename,\n",
    "    apply_lognormal=True)"
   ]
  },
  {
   "cell_type": "markdown",
   "id": "7836921b-f283-4d91-bc9d-38332017c7a9",
   "metadata": {},
   "source": [
    "Read boxes output. We will use the analysis of the 10 boxes here:"
   ]
  },
  {
   "cell_type": "code",
   "execution_count": 5,
   "id": "601afb8f-9c9f-4d2e-86f3-510501addf8d",
   "metadata": {},
   "outputs": [],
   "source": [
    "boxes_path=Path('/global/cscratch1/sd/cramirez/NBodyKit/hanyu_david_box/binned_analysis_with_error')\n",
    "\n",
    "boxes = FileFuncs.mix_sims(\n",
    "    FileFuncs.get_full_path(boxes_path,\n",
    "                            rsd=True,\n",
    "                            rmin=0.1, rmax=200, N_bins=41,\n",
    "                            zmin=0.5, zmax=0.7, #Also results for 0.7 and 0.9\n",
    "                            nside=2)\n",
    ")"
   ]
  },
  {
   "cell_type": "markdown",
   "id": "6deabdcf-a80f-4d79-bcb4-725901741081",
   "metadata": {},
   "source": [
    "available_sims.py can be used to search for configurations available for the previous cell:"
   ]
  },
  {
   "cell_type": "code",
   "execution_count": 6,
   "id": "126b3024-dbe7-404a-ad20-93acef3cf1e5",
   "metadata": {},
   "outputs": [
    {
     "name": "stdout",
     "output_type": "stream",
     "text": [
      "+-------+-------+------+------+------+------+-----+\n",
      "| nside |  rsd  | rmin | rmax | zmin | zmax |  N  |\n",
      "+-------+-------+------+------+------+------+-----+\n",
      "|   1   |  rsd  | 0.1  | 200  | 0.7  | 0.9  | 12  |\n",
      "|   2   |  rsd  | 0.1  | 400  | 0.7  | 0.9  | 48  |\n",
      "|   2   |  rsd  | 0.1  | 200  | 0.6  | 0.9  | 144 |\n",
      "|   2   |  rsd  | 0.1  | 200  |  0   | 1.42 | 48  |\n",
      "|   2   |  rsd  | 0.1  | 200  | 0.9  | 1.1  | 480 |\n",
      "|   2   |  rsd  | 0.1  | 200  | 0.3  | 0.5  | 480 |\n",
      "|   2   |  rsd  | 0.1  | 200  | 1.1  | 1.4  | 48  |\n",
      "|   2   |  rsd  | 0.1  | 200  | 0.5  | 0.7  | 480 |\n",
      "|   2   |  rsd  | 0.1  | 200  | 0.1  | 0.3  | 48  |\n",
      "|   2   |  rsd  | 0.1  | 200  | 0.7  | 0.9  | 480 |\n",
      "|   2   |  rsd  | 0.1  | 300  | 0.7  | 0.9  | 48  |\n",
      "|   2   | norsd | 0.1  |  50  | 0.5  | 0.7  | 192 |\n",
      "|   2   | norsd | 0.1  |  50  | 0.5  | 0.7  | 192 |\n",
      "|   2   | norsd | 0.1  |  50  | 0.5  | 0.7  | 192 |\n",
      "|   2   | norsd | 0.1  |  50  | 0.5  | 0.7  | 192 |\n",
      "|   2   | norsd | 0.1  |  50  | 0.5  | 0.7  | 192 |\n",
      "|   2   | norsd | 0.1  |  50  | 0.5  | 0.7  | 192 |\n",
      "|   2   | norsd | 0.1  | 200  | 0.9  | 1.1  | 48  |\n",
      "|   2   | norsd | 0.1  | 200  | 0.5  | 0.7  | 480 |\n",
      "|   2   | norsd | 0.1  | 200  | 0.7  | 0.9  | 144 |\n",
      "|   2   | norsd | 0.1  |  50  | 0.5  | 0.7  | 192 |\n",
      "|   2   | norsd | 0.1  |  50  | 0.5  | 0.7  | 192 |\n",
      "|   2   | norsd | 0.1  |  50  | 0.5  | 0.7  | 192 |\n",
      "|   2   | norsd | 0.1  |  50  | 0.5  | 0.7  | 192 |\n",
      "+-------+-------+------+------+------+------+-----+\n"
     ]
    }
   ],
   "source": [
    "%run available_sims.py --path /global/cscratch1/sd/cramirez/NBodyKit/hanyu_david_box/binned_analysis_with_error"
   ]
  },
  {
   "cell_type": "markdown",
   "id": "aaa24b43-1a7a-454e-b831-dc65db523999",
   "metadata": {},
   "source": [
    "We should have 480 boxes for analysis, that is 48 pixels for each of the 10 CoLoRe boxes."
   ]
  },
  {
   "cell_type": "code",
   "execution_count": 7,
   "id": "c753f869-c24f-4844-abab-539a103da1b5",
   "metadata": {},
   "outputs": [
    {
     "data": {
      "text/plain": [
       "480"
      ]
     },
     "execution_count": 7,
     "metadata": {},
     "output_type": "execute_result"
    }
   ],
   "source": [
    "len(boxes)"
   ]
  },
  {
   "cell_type": "markdown",
   "id": "701d4518-dbb2-45de-ba01-7e6f39e55a2d",
   "metadata": {},
   "source": [
    "We can easily make plots using Plots.plot_data, Plots.plot_theory. These methods are defined in module_files_plots.Plots"
   ]
  },
  {
   "cell_type": "code",
   "execution_count": 8,
   "id": "8b366d0b-1a2b-4dd4-9a87-2b2192f517b1",
   "metadata": {},
   "outputs": [],
   "source": [
    "z = theory.get_zeff(zmin=0.5, zmax=0.7)"
   ]
  },
  {
   "cell_type": "code",
   "execution_count": 9,
   "id": "a2e1ab7c-d4ce-498a-baca-a1610083ff08",
   "metadata": {},
   "outputs": [
    {
     "name": "stderr",
     "output_type": "stream",
     "text": [
      "/global/homes/c/cramirez/.local/cori/3.8-anaconda-2020.11/lib/python3.8/site-packages/mcfit/mcfit.py:126: UserWarning: The default value of lowring has been changed to False, set it to True if you cannot reproduce previous results\n",
      "  warnings.warn(\"The default value of lowring has been changed to False, \"\n",
      "/global/homes/c/cramirez/.local/cori/3.8-anaconda-2020.11/lib/python3.8/site-packages/mcfit/mcfit.py:217: UserWarning: The default value of extrap has been changed to False, set it to True if you cannot reproduce previous results\n",
      "  warnings.warn(\"The default value of extrap has been changed to False, \"\n"
     ]
    },
    {
     "data": {
      "image/png": "[encoded data removed]",
      "text/plain": [
       "<Figure size 432x288 with 1 Axes>"
      ]
     },
     "metadata": {
      "needs_background": "light"
     },
     "output_type": "display_data"
    }
   ],
   "source": [
    "fig, ax = plt.subplots()\n",
    "pole=2\n",
    "\n",
    "Plots.plot_data(pole=pole, boxes=boxes, ax=ax, plot_args=dict(c='C0', label='data'))\n",
    "Plots.plot_theory(pole=pole, theory=theory, z=z, bias=1.3, rsd=True, ax=ax, plot_args=dict(c='C1', label='model'))"
   ]
  },
  {
   "cell_type": "markdown",
   "id": "bbe39a12-e723-430d-b1dd-a077321cb722",
   "metadata": {},
   "source": [
    "# Fitter"
   ]
  },
  {
   "cell_type": "markdown",
   "id": "b60c5d03-5fab-46c7-affc-0e51f0052680",
   "metadata": {},
   "source": [
    "To perform a fit, we use the class Fitter from module_files_plots:"
   ]
  },
  {
   "cell_type": "code",
   "execution_count": 10,
   "id": "f36383a5-5d93-469b-957a-669361327539",
   "metadata": {},
   "outputs": [
    {
     "name": "stderr",
     "output_type": "stream",
     "text": [
      "/global/homes/c/cramirez/.local/cori/3.8-anaconda-2020.11/lib/python3.8/site-packages/mcfit/mcfit.py:126: UserWarning: The default value of lowring has been changed to False, set it to True if you cannot reproduce previous results\n",
      "  warnings.warn(\"The default value of lowring has been changed to False, \"\n",
      "/global/homes/c/cramirez/.local/cori/3.8-anaconda-2020.11/lib/python3.8/site-packages/mcfit/mcfit.py:217: UserWarning: The default value of extrap has been changed to False, set it to True if you cannot reproduce previous results\n",
      "  warnings.warn(\"The default value of extrap has been changed to False, \"\n"
     ]
    },
    {
     "data": {
      "text/html": [
       "<h2>Fit Statistics</h2><table><tr><td>fitting method</td><td>leastsq</td><td></td></tr><tr><td># function evals</td><td>7</td><td></td></tr><tr><td># data points</td><td>70</td><td></td></tr><tr><td># variables</td><td>1</td><td></td></tr><tr><td>chi-square</td><td> 60494.4983</td><td></td></tr><tr><td>reduced chi-square</td><td> 876.731859</td><td></td></tr><tr><td>Akaike info crit.</td><td> 475.326872</td><td></td></tr><tr><td>Bayesian info crit.</td><td> 477.575367</td><td></td></tr></table><h2>Variables</h2><table><tr><th> name </th><th> value </th><th> standard error </th><th> relative error </th><th> initial value </th><th> min </th><th> max </th><th> vary </th></tr><tr><td> bias </td><td>  1.31646315 </td><td>  9.0301e-04 </td><td> (0.07%) </td><td> 1.3 </td><td>  0.00000000 </td><td>         inf </td><td> True </td></tr><tr><td> smooth_factor </td><td>  1.00000000 </td><td>  0.00000000 </td><td> (0.00%) </td><td> 1 </td><td>  0.00000000 </td><td>         inf </td><td> False </td></tr><tr><td> smooth_factor_rsd </td><td>  1.00000000 </td><td>  0.00000000 </td><td> (0.00%) </td><td> 1 </td><td>  0.00000000 </td><td>         inf </td><td> False </td></tr><tr><td> smooth_factor_cross </td><td>  1.00000000 </td><td>  0.00000000 </td><td> (0.00%) </td><td> 1 </td><td>  0.00000000 </td><td>         inf </td><td> False </td></tr></table>"
      ],
      "text/plain": [
       "<lmfit.minimizer.MinimizerResult at 0x2aaaee6f5970>"
      ]
     },
     "execution_count": 10,
     "metadata": {},
     "output_type": "execute_result"
    }
   ],
   "source": [
    "fitter = Fitter(boxes=boxes, z=z, theory=theory, poles=[0,2], rsd=True, bias0=1.3,\n",
    "    smooth_factor0=1, smooth_factor_rsd0=1, smooth_factor_cross0=1)\n",
    "\n",
    "fitter.run_fit(free_params=['bias'])"
   ]
  },
  {
   "cell_type": "code",
   "execution_count": 11,
   "id": "893588fd-e5ce-43c9-8962-071f2850fb55",
   "metadata": {},
   "outputs": [
    {
     "name": "stdout",
     "output_type": "stream",
     "text": [
      "| name                |   value |   stderr |   stderror(%) |   init value |   min |   max | vary   |\n",
      "|---------------------|---------|----------|---------------|--------------|-------|-------|--------|\n",
      "| bias                |   1.316 |    0.001 |         0.069 |          1.3 |     0 |   inf | True   |\n",
      "| smooth_factor       |   1     |    0     |         0     |          1   |     0 |   inf | False  |\n",
      "| smooth_factor_rsd   |   1     |    0     |         0     |          1   |     0 |   inf | False  |\n",
      "| smooth_factor_cross |   1     |    0     |         0     |          1   |     0 |   inf | False  |\n"
     ]
    }
   ],
   "source": [
    "print(fitter.pars_tab())"
   ]
  },
  {
   "cell_type": "markdown",
   "id": "c9a53cce-6e0b-4650-aa58-127077dea3d4",
   "metadata": {},
   "source": [
    "If more than one parameter is free, we can get the correlation between these values by using."
   ]
  },
  {
   "cell_type": "code",
   "execution_count": 12,
   "id": "2af0280d-ffc1-45db-bade-3b1ba79e1740",
   "metadata": {},
   "outputs": [
    {
     "name": "stdout",
     "output_type": "stream",
     "text": [
      "| name   | name   | corr   |\n",
      "|--------|--------|--------|\n"
     ]
    }
   ],
   "source": [
    "print(fitter.corrs_tab())"
   ]
  },
  {
   "cell_type": "markdown",
   "id": "94ccd9a0-017b-4ce4-b9fd-bb9e119ce46f",
   "metadata": {},
   "source": [
    "We can plot the best fit as well:"
   ]
  },
  {
   "cell_type": "code",
   "execution_count": 13,
   "id": "859bd57f-799f-41d1-8a50-8fe339f33142",
   "metadata": {},
   "outputs": [
    {
     "data": {
      "text/plain": [
       "0.5990093404246088"
      ]
     },
     "execution_count": 13,
     "metadata": {},
     "output_type": "execute_result"
    }
   ],
   "source": [
    "fitter.z"
   ]
  },
  {
   "cell_type": "code",
   "execution_count": 14,
   "id": "e6aa9463-fb14-43cd-8284-9836b2eb9d2f",
   "metadata": {},
   "outputs": [
    {
     "data": {
      "image/png": "[encoded data removed]",
      "text/plain": [
       "<Figure size 432x288 with 1 Axes>"
      ]
     },
     "metadata": {
      "needs_background": "light"
     },
     "output_type": "display_data"
    }
   ],
   "source": [
    "fig, ax = plt.subplots()\n",
    "pole=0\n",
    "\n",
    "Plots.plot_data(pole=pole, boxes=boxes, ax=ax, plot_args=dict(c='C0', label='data'))\n",
    "Plots.plot_best_fit(fitter=fitter, pole=pole, ax=ax, plot_args=dict(c='k', lw=1, label='best fit'))"
   ]
  },
  {
   "cell_type": "markdown",
   "id": "8c73511d-ebb2-4ee6-b6cf-00198465bfe7",
   "metadata": {},
   "source": [
    "# Playing with cross-correlations"
   ]
  },
  {
   "cell_type": "markdown",
   "id": "2f698b50-f9eb-45b5-8430-036e074e8b09",
   "metadata": {},
   "source": [
    "The theory is exactly the same besides the bias, but we will be forcing it all the time. We can stay with the same object"
   ]
  },
  {
   "cell_type": "code",
   "execution_count": 15,
   "id": "188d2d8d-fb0a-4d09-8137-f76f4f5ecd3d",
   "metadata": {},
   "outputs": [
    {
     "data": {
      "text/plain": [
       "<read_theory_to_xi.ComputeModelsCoLoRe at 0x2aaae64ba700>"
      ]
     },
     "execution_count": 15,
     "metadata": {},
     "output_type": "execute_result"
    }
   ],
   "source": [
    "theory"
   ]
  },
  {
   "cell_type": "markdown",
   "id": "15816493-2b32-45e8-bc2e-fde1bcd2a7d5",
   "metadata": {
    "tags": []
   },
   "source": [
    "### Unclustered rsd vs clustered norsd"
   ]
  },
  {
   "cell_type": "markdown",
   "id": "c0d42a0e-395c-4482-be13-6334e5692db2",
   "metadata": {},
   "source": [
    "In principle we have:\n",
    "\n",
    "$$P_0(k) = \\frac{f}{3} \\left( <\\delta_{\\rm LN}^{\\rm b_B}\\delta_{\\rm L}>\\right)$$\n",
    "\n",
    "$$P_2(k) = \\frac{2 f}{3} \\left(<\\delta_{\\rm LN}^{\\rm b_B}\\delta_{\\rm L}>\\right)$$"
   ]
  },
  {
   "cell_type": "code",
   "execution_count": 16,
   "id": "e957d8f1-38ee-4f33-814e-6253fc1edd18",
   "metadata": {},
   "outputs": [],
   "source": [
    "boxes_path=Path('/global/cscratch1/sd/cramirez/NBodyKit/cross_correlations/multibias/s1_s5')\n",
    "\n",
    "boxes = FileFuncs.mix_sims(\n",
    "    FileFuncs.get_full_path(boxes_path,\n",
    "                            rsd=True, rsd2=False,\n",
    "                            rmin=0.1, rmax=200, N_bins=41,\n",
    "                            zmin=0.5, zmax=0.7, #Also results for 0.7 and 0.9\n",
    "                            nside=2)\n",
    ")"
   ]
  },
  {
   "cell_type": "markdown",
   "id": "e61c976d-aaf6-45ea-9f76-b4a6db0f8feb",
   "metadata": {},
   "source": [
    "Now we only have one CoLoRe box so 48 pixels"
   ]
  },
  {
   "cell_type": "code",
   "execution_count": 17,
   "id": "1c5e4335-5a59-4f24-a2b6-114e43c62b16",
   "metadata": {},
   "outputs": [
    {
     "data": {
      "text/plain": [
       "48"
      ]
     },
     "execution_count": 17,
     "metadata": {},
     "output_type": "execute_result"
    }
   ],
   "source": [
    "len(boxes)"
   ]
  },
  {
   "cell_type": "code",
   "execution_count": 18,
   "id": "3539475c-10bf-4d8d-91de-7f25c216eed0",
   "metadata": {},
   "outputs": [
    {
     "name": "stderr",
     "output_type": "stream",
     "text": [
      "/global/homes/c/cramirez/.local/cori/3.8-anaconda-2020.11/lib/python3.8/site-packages/mcfit/mcfit.py:126: UserWarning: The default value of lowring has been changed to False, set it to True if you cannot reproduce previous results\n",
      "  warnings.warn(\"The default value of lowring has been changed to False, \"\n",
      "/global/homes/c/cramirez/.local/cori/3.8-anaconda-2020.11/lib/python3.8/site-packages/mcfit/mcfit.py:217: UserWarning: The default value of extrap has been changed to False, set it to True if you cannot reproduce previous results\n",
      "  warnings.warn(\"The default value of extrap has been changed to False, \"\n",
      "/global/homes/c/cramirez/.local/cori/3.8-anaconda-2020.11/lib/python3.8/site-packages/mcfit/mcfit.py:126: UserWarning: The default value of lowring has been changed to False, set it to True if you cannot reproduce previous results\n",
      "  warnings.warn(\"The default value of lowring has been changed to False, \"\n",
      "/global/homes/c/cramirez/.local/cori/3.8-anaconda-2020.11/lib/python3.8/site-packages/mcfit/mcfit.py:217: UserWarning: The default value of extrap has been changed to False, set it to True if you cannot reproduce previous results\n",
      "  warnings.warn(\"The default value of extrap has been changed to False, \"\n"
     ]
    },
    {
     "data": {
      "text/plain": [
       "Text(0.5, 1.0, 'Bias2 = 2')"
      ]
     },
     "execution_count": 18,
     "metadata": {},
     "output_type": "execute_result"
    },
    {
     "data": {
      "image/png": "[encoded data removed]",
      "text/plain": [
       "<Figure size 432x288 with 1 Axes>"
      ]
     },
     "metadata": {
      "needs_background": "light"
     },
     "output_type": "display_data"
    }
   ],
   "source": [
    "bias = 0.001\n",
    "bias2 = 2\n",
    "rsd = True\n",
    "rsd2 = False\n",
    "\n",
    "fig, ax = plt.subplots()\n",
    "pole=2\n",
    "Plots.plot_data(pole, boxes, ax=ax, plot_args=dict(c='C0'))\n",
    "Plots.plot_theory(pole, z=z, theory=theory, ax=ax, bias=bias, bias2=bias2, rsd=rsd, rsd2=rsd2, plot_args=dict(alpha=0.5, c='C1'))\n",
    "pole=0\n",
    "Plots.plot_data(pole, boxes, ax=ax, plot_args=dict(c='C0'))\n",
    "Plots.plot_theory(pole, z=z, theory=theory, ax=ax, bias=bias, bias2=bias2, rsd=rsd, rsd2=rsd2, plot_args=dict(alpha=0.5, c='C1'))\n",
    "ax.set_title('Bias2 = 2')"
   ]
  },
  {
   "cell_type": "code",
   "execution_count": 22,
   "id": "f059f443-6a8d-4eba-8958-6f6d64a8099e",
   "metadata": {},
   "outputs": [
    {
     "data": {
      "text/html": [
       "<h2>Fit Statistics</h2><table><tr><td>fitting method</td><td>leastsq</td><td></td></tr><tr><td># function evals</td><td>24</td><td></td></tr><tr><td># data points</td><td>70</td><td></td></tr><tr><td># variables</td><td>2</td><td></td></tr><tr><td>chi-square</td><td> 791.396870</td><td></td></tr><tr><td>reduced chi-square</td><td> 11.6381893</td><td></td></tr><tr><td>Akaike info crit.</td><td> 173.771303</td><td></td></tr><tr><td>Bayesian info crit.</td><td> 178.268294</td><td></td></tr></table><h2>Variables</h2><table><tr><th> name </th><th> value </th><th> initial value </th><th> min </th><th> max </th><th> vary </th></tr><tr><td> bias </td><td>  1.9197e-09 </td><td> 0.1 </td><td>  0.00000000 </td><td>         inf </td><td> True </td></tr><tr><td> smooth_factor </td><td>  1.00000000 </td><td> 1 </td><td>  0.00000000 </td><td>         inf </td><td> False </td></tr><tr><td> smooth_factor_rsd </td><td>  1.00000000 </td><td> 1 </td><td>  0.00000000 </td><td>         inf </td><td> False </td></tr><tr><td> smooth_factor_cross </td><td>  1.00000000 </td><td> 1 </td><td>  0.00000000 </td><td>         inf </td><td> False </td></tr><tr><td> bias2 </td><td>  1.46687372 </td><td> 2 </td><td>  0.00000000 </td><td>         inf </td><td> True </td></tr></table>"
      ],
      "text/plain": [
       "<lmfit.minimizer.MinimizerResult at 0x2aaaee901370>"
      ]
     },
     "execution_count": 22,
     "metadata": {},
     "output_type": "execute_result"
    }
   ],
   "source": [
    "fitter = Fitter(boxes=boxes, z=z, theory=theory, poles=[0, 2], rsd=True, rsd2=False,\n",
    "                bias0=0.1, bias20=2, smooth_factor0=1, smooth_factor_rsd0=1, smooth_factor_cross0=1)\n",
    "\n",
    "fitter.run_fit(free_params=['bias', 'bias2'])"
   ]
  },
  {
   "cell_type": "code",
   "execution_count": 20,
   "id": "380b68a7-725f-4e33-a3c4-1b55d222b494",
   "metadata": {},
   "outputs": [
    {
     "name": "stderr",
     "output_type": "stream",
     "text": [
      "/global/homes/c/cramirez/.local/cori/3.8-anaconda-2020.11/lib/python3.8/site-packages/mcfit/mcfit.py:126: UserWarning: The default value of lowring has been changed to False, set it to True if you cannot reproduce previous results\n",
      "  warnings.warn(\"The default value of lowring has been changed to False, \"\n",
      "/global/homes/c/cramirez/.local/cori/3.8-anaconda-2020.11/lib/python3.8/site-packages/mcfit/mcfit.py:217: UserWarning: The default value of extrap has been changed to False, set it to True if you cannot reproduce previous results\n",
      "  warnings.warn(\"The default value of extrap has been changed to False, \"\n"
     ]
    },
    {
     "data": {
      "image/png": "[encoded data removed]",
      "text/plain": [
       "<Figure size 432x288 with 1 Axes>"
      ]
     },
     "metadata": {
      "needs_background": "light"
     },
     "output_type": "display_data"
    }
   ],
   "source": [
    "fig, ax = plt.subplots()\n",
    "pole=2\n",
    "\n",
    "Plots.plot_data(pole=pole, boxes=boxes, ax=ax, plot_args=dict(c='C0', label='data'))\n",
    "Plots.plot_best_fit(fitter=fitter, pole=pole, ax=ax, plot_args=dict(c='k', lw=1, label='best fit'))\n",
    "\n",
    "pole=0\n",
    "\n",
    "Plots.plot_data(pole=pole, boxes=boxes, ax=ax, plot_args=dict(c='C0', label='data'))\n",
    "Plots.plot_best_fit(fitter=fitter, pole=pole, ax=ax, plot_args=dict(c='k', lw=1, label='best fit'))"
   ]
  }
 ],
 "metadata": {
  "kernelspec": {
   "display_name": "CoLoRe",
   "language": "python",
   "name": "colore"
  },
  "language_info": {
   "codemirror_mode": {
    "name": "ipython",
    "version": 3
   },
   "file_extension": ".py",
   "mimetype": "text/x-python",
   "name": "python",
   "nbconvert_exporter": "python",
   "pygments_lexer": "ipython3",
   "version": "3.8.5"
  }
 },
 "nbformat": 4,
 "nbformat_minor": 5
}
