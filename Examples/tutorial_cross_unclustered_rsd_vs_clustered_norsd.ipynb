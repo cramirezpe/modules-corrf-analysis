{
 "cells": [
  {
   "cell_type": "markdown",
   "id": "bfdfe347-ea70-4762-b8e2-53960a1a0b69",
   "metadata": {
    "tags": []
   },
   "source": [
    "# unclusteredRSD-clusteredNORSD"
   ]
  },
  {
   "cell_type": "code",
   "execution_count": 1,
   "id": "691b1b20-9589-4356-acc1-f5b6fd1d1b6b",
   "metadata": {},
   "outputs": [],
   "source": [
    "source1=1\n",
    "source2=4"
   ]
  },
  {
   "cell_type": "code",
   "execution_count": 2,
   "id": "96652c69-37de-4acd-9393-75411be15a62",
   "metadata": {
    "tags": []
   },
   "outputs": [],
   "source": [
    "from CoLoRe_corrf_analysis.plot_methods import Plots\n",
    "from CoLoRe_corrf_analysis.file_funcs import FileFuncs\n",
    "from CoLoRe_corrf_analysis.fitter import Fitter\n",
    "from CoLoRe_corrf_analysis.read_colore import ComputeModelsCoLoRe"
   ]
  },
  {
   "cell_type": "code",
   "execution_count": 3,
   "id": "ef3188e0-9fcc-4b92-b9c5-7d43911a0113",
   "metadata": {},
   "outputs": [],
   "source": [
    "from pathlib import Path\n",
    "import matplotlib.pyplot as plt\n",
    "import numpy as np"
   ]
  },
  {
   "cell_type": "markdown",
   "id": "3ad233d5-007c-4a8a-a604-a15cc3a279d8",
   "metadata": {},
   "source": [
    "We need to provide the following files to the theory object:"
   ]
  },
  {
   "cell_type": "code",
   "execution_count": 4,
   "id": "93d247fb-105d-4df2-8314-34b91fe5d1bd",
   "metadata": {},
   "outputs": [],
   "source": [
    "theory_path=Path('/global/cscratch1/sd/damonge/CoLoRe_sims/sim1000')\n",
    "bias_filename=Path('/global/cscratch1/sd/cramirez/NBodyKit/hanyu_david_box/input_files/BzBlue.txt')\n",
    "nz_filename=Path('/global/cscratch1/sd/cramirez/NBodyKit/hanyu_david_box/input_files/NzBlue.txt')\n",
    "pk_filename=Path('/global/cscratch1/sd/cramirez/NBodyKit/hanyu_david_box/input_files/Pk_CAMB_test.dat')"
   ]
  },
  {
   "cell_type": "markdown",
   "id": "adf3bf8b-7c0f-4134-bc50-c4e01457f69d",
   "metadata": {},
   "source": [
    "Create theory object:"
   ]
  },
  {
   "cell_type": "code",
   "execution_count": 5,
   "id": "a2f90811-4e04-48f7-84d6-4c28ac82687c",
   "metadata": {},
   "outputs": [],
   "source": [
    "theory = ComputeModelsCoLoRe(\n",
    "    box_path=theory_path,\n",
    "    source=2,\n",
    "    nz_filename=nz_filename,\n",
    "    pk_filename=pk_filename,\n",
    "    param_cfg_filename='/global/cscratch1/sd/damonge/CoLoRe_sims/sim1000/out_params.cfg',\n",
    "    bias_filename=bias_filename,\n",
    "    apply_lognormal=True)"
   ]
  },
  {
   "cell_type": "code",
   "execution_count": 7,
   "id": "0b377414-2558-4c42-909e-94a0b00d9f4a",
   "metadata": {},
   "outputs": [
    {
     "name": "stdout",
     "output_type": "stream",
     "text": [
      "+-------+-----------+------+------+--------+------+------+----+\n",
      "| nside |    rsd    | rmin | rmax | N_bins | zmin | zmax | N  |\n",
      "+-------+-----------+------+------+--------+------+------+----+\n",
      "|   2   | rsd_norsd | 0.1  | 200  |   41   | 0.5  | 0.7  | 48 |\n",
      "+-------+-----------+------+------+--------+------+------+----+\n"
     ]
    }
   ],
   "source": [
    "print(FileFuncs.get_available_runs(f'/global/cscratch1/sd/cramirez/NBodyKit/cross_correlations/multibias/s{source1}_s{source2}'))"
   ]
  },
  {
   "cell_type": "markdown",
   "id": "b8abf6c6-895c-478f-81a5-38c655981f25",
   "metadata": {},
   "source": [
    "Expected model:\n",
    "\n",
    "$$P_0(k) = \\frac{f}{3} \\left(r_{\\rm A} <\\delta_{\\rm LN}^{\\rm b_B}\\delta_{\\rm L}>\\right)$$\n",
    "\n",
    "$$P_2(k) = \\frac{2 f}{3} \\left( r_{\\rm A} <\\delta_{\\rm LN}^{\\rm b_B}\\delta_{\\rm L}>\\right)$$"
   ]
  },
  {
   "cell_type": "code",
   "execution_count": 8,
   "id": "7f94914b-c57b-41a3-901d-b77f120bfd26",
   "metadata": {},
   "outputs": [
    {
     "name": "stdout",
     "output_type": "stream",
     "text": [
      "zeff:  0.5990093404246088\n",
      "input bias 1:  0.01\n",
      "input bias 2:  1\n"
     ]
    }
   ],
   "source": [
    "boxes_path=Path(f'/global/cscratch1/sd/cramirez/NBodyKit/cross_correlations/multibias/s{source1}_s{source2}/')\n",
    "\n",
    "zmin=0.5\n",
    "zmax=0.7\n",
    "rsd=True\n",
    "rsd2=False\n",
    "\n",
    "sub_boxes = FileFuncs.mix_sims(\n",
    "    FileFuncs.get_full_path(boxes_path,\n",
    "                            rsd=rsd, rsd2=rsd2, #Must specify here rsd2 \n",
    "                            rmin=0.1, rmax=200, N_bins=41,\n",
    "                            zmin=zmin, zmax=zmax, #Also results for 0.7 and 0.9\n",
    "                            nside=2)\n",
    ")\n",
    "z = theory.get_zeff(zmin=zmin, zmax=zmax) #\n",
    "print('zeff: ', z)\n",
    "bias = 0.01\n",
    "print('input bias 1: ', bias)\n",
    "bias2 = 1\n",
    "print('input bias 2: ', bias2)"
   ]
  },
  {
   "cell_type": "code",
   "execution_count": 9,
   "id": "471aec9f-e826-49f5-a3d6-98274bd4c4a3",
   "metadata": {},
   "outputs": [
    {
     "data": {
      "text/plain": [
       "48"
      ]
     },
     "execution_count": 9,
     "metadata": {},
     "output_type": "execute_result"
    }
   ],
   "source": [
    "len(sub_boxes)"
   ]
  },
  {
   "cell_type": "code",
   "execution_count": 10,
   "id": "ceb37a4d-af96-4e47-92ff-a2e7777ae541",
   "metadata": {},
   "outputs": [
    {
     "name": "stderr",
     "output_type": "stream",
     "text": [
      "/global/homes/c/cramirez/.local/cori/3.8-anaconda-2020.11/lib/python3.8/site-packages/mcfit/mcfit.py:126: UserWarning: The default value of lowring has been changed to False, set it to True if you cannot reproduce previous results\n",
      "  warnings.warn(\"The default value of lowring has been changed to False, \"\n",
      "/global/homes/c/cramirez/.local/cori/3.8-anaconda-2020.11/lib/python3.8/site-packages/mcfit/mcfit.py:217: UserWarning: The default value of extrap has been changed to False, set it to True if you cannot reproduce previous results\n",
      "  warnings.warn(\"The default value of extrap has been changed to False, \"\n",
      "/global/homes/c/cramirez/.local/cori/3.8-anaconda-2020.11/lib/python3.8/site-packages/mcfit/mcfit.py:126: UserWarning: The default value of lowring has been changed to False, set it to True if you cannot reproduce previous results\n",
      "  warnings.warn(\"The default value of lowring has been changed to False, \"\n",
      "/global/homes/c/cramirez/.local/cori/3.8-anaconda-2020.11/lib/python3.8/site-packages/mcfit/mcfit.py:217: UserWarning: The default value of extrap has been changed to False, set it to True if you cannot reproduce previous results\n",
      "  warnings.warn(\"The default value of extrap has been changed to False, \"\n"
     ]
    },
    {
     "data": {
      "text/plain": [
       "Text(0.5, 1.0, 'Bias2 = 2')"
      ]
     },
     "execution_count": 10,
     "metadata": {},
     "output_type": "execute_result"
    },
    {
     "data": {
      "image/png": "[encoded data removed]",
      "text/plain": [
       "<Figure size 432x288 with 1 Axes>"
      ]
     },
     "metadata": {
      "needs_background": "light"
     },
     "output_type": "display_data"
    }
   ],
   "source": [
    "fig, ax = plt.subplots()\n",
    "pole=2\n",
    "Plots.plot_data(pole, sub_boxes, ax=ax, plot_args=dict(c='C0'))\n",
    "Plots.plot_theory(pole, z=z, theory=theory, ax=ax, bias=bias, bias2=bias2, rsd=rsd, rsd2=rsd2, plot_args=dict(alpha=0.5, c='C1'))\n",
    "pole=0\n",
    "Plots.plot_data(pole, sub_boxes, ax=ax, plot_args=dict(c='C0'))\n",
    "Plots.plot_theory(pole, z=z, theory=theory, ax=ax, bias=bias, bias2=bias2, rsd=rsd, rsd2=rsd2, plot_args=dict(alpha=0.5, c='C1'))\n",
    "ax.set_title('Bias2 = 2')"
   ]
  },
  {
   "cell_type": "code",
   "execution_count": 11,
   "id": "f14ed8ba-f6a9-415e-bb11-ac50b05dfc9d",
   "metadata": {},
   "outputs": [
    {
     "name": "stderr",
     "output_type": "stream",
     "text": [
      "/global/homes/c/cramirez/.local/cori/3.8-anaconda-2020.11/lib/python3.8/site-packages/mcfit/mcfit.py:126: UserWarning: The default value of lowring has been changed to False, set it to True if you cannot reproduce previous results\n",
      "  warnings.warn(\"The default value of lowring has been changed to False, \"\n",
      "/global/homes/c/cramirez/.local/cori/3.8-anaconda-2020.11/lib/python3.8/site-packages/mcfit/mcfit.py:217: UserWarning: The default value of extrap has been changed to False, set it to True if you cannot reproduce previous results\n",
      "  warnings.warn(\"The default value of extrap has been changed to False, \"\n"
     ]
    },
    {
     "data": {
      "text/html": [
       "<h2>Fit Statistics</h2><table><tr><td>fitting method</td><td>leastsq</td><td></td></tr><tr><td># function evals</td><td>16</td><td></td></tr><tr><td># data points</td><td>70</td><td></td></tr><tr><td># variables</td><td>2</td><td></td></tr><tr><td>chi-square</td><td> 1691.29431</td><td></td></tr><tr><td>reduced chi-square</td><td> 24.8719752</td><td></td></tr><tr><td>Akaike info crit.</td><td> 226.932790</td><td></td></tr><tr><td>Bayesian info crit.</td><td> 231.429780</td><td></td></tr></table><h2>Variables</h2><table><tr><th> name </th><th> value </th><th> standard error </th><th> relative error </th><th> initial value </th><th> min </th><th> max </th><th> vary </th></tr><tr><td> bias </td><td>  0.00126873 </td><td>  9.7432e-04 </td><td> (76.79%) </td><td> 0.01 </td><td>  0.00000000 </td><td>         inf </td><td> True </td></tr><tr><td> smooth_factor </td><td>  1.00000000 </td><td>  0.00000000 </td><td> (0.00%) </td><td> 1 </td><td>  0.00000000 </td><td>         inf </td><td> False </td></tr><tr><td> smooth_factor_rsd </td><td>  1.00000000 </td><td>  0.00000000 </td><td> (0.00%) </td><td> 1 </td><td>  0.00000000 </td><td>         inf </td><td> False </td></tr><tr><td> smooth_factor_cross </td><td>  1.00000000 </td><td>  0.00000000 </td><td> (0.00%) </td><td> 1 </td><td>  0.00000000 </td><td>         inf </td><td> False </td></tr><tr><td> bias2 </td><td>  1.12733886 </td><td>  0.00358878 </td><td> (0.32%) </td><td> 1 </td><td>  0.00000000 </td><td>         inf </td><td> True </td></tr></table><h2>Correlations (unreported correlations are < 0.100)</h2><table><tr><td>bias</td><td>bias2</td><td>-0.8543</td></tr></table>"
      ],
      "text/plain": [
       "<lmfit.minimizer.MinimizerResult at 0x2aaaee2c0e80>"
      ]
     },
     "execution_count": 11,
     "metadata": {},
     "output_type": "execute_result"
    }
   ],
   "source": [
    "fitter = Fitter(boxes=sub_boxes, z=z, theory=theory, poles=[0, 2], rsd=rsd, rsd2=rsd2,\n",
    "                bias0=bias, bias20=bias2, smooth_factor0=1, smooth_factor_rsd0=1, smooth_factor_cross0=1)\n",
    "\n",
    "fitter.run_fit(free_params=['bias', 'bias2'])"
   ]
  },
  {
   "cell_type": "code",
   "execution_count": 12,
   "id": "a6de5c59-d5ca-4045-bbc8-f5e84dd6b2de",
   "metadata": {},
   "outputs": [
    {
     "name": "stderr",
     "output_type": "stream",
     "text": [
      "/global/homes/c/cramirez/.local/cori/3.8-anaconda-2020.11/lib/python3.8/site-packages/mcfit/mcfit.py:126: UserWarning: The default value of lowring has been changed to False, set it to True if you cannot reproduce previous results\n",
      "  warnings.warn(\"The default value of lowring has been changed to False, \"\n",
      "/global/homes/c/cramirez/.local/cori/3.8-anaconda-2020.11/lib/python3.8/site-packages/mcfit/mcfit.py:217: UserWarning: The default value of extrap has been changed to False, set it to True if you cannot reproduce previous results\n",
      "  warnings.warn(\"The default value of extrap has been changed to False, \"\n"
     ]
    },
    {
     "data": {
      "image/png": "[encoded data removed]",
      "text/plain": [
       "<Figure size 432x288 with 1 Axes>"
      ]
     },
     "metadata": {
      "needs_background": "light"
     },
     "output_type": "display_data"
    }
   ],
   "source": [
    "fig, ax = plt.subplots()\n",
    "pole=2\n",
    "\n",
    "Plots.plot_data(pole=pole, boxes=sub_boxes, ax=ax, plot_args=dict(c='C0', label='data'))\n",
    "Plots.plot_best_fit(fitter=fitter, pole=pole, ax=ax, plot_args=dict(c='k', lw=1, label='best fit'))\n",
    "\n",
    "pole=0\n",
    "\n",
    "Plots.plot_data(pole=pole, boxes=sub_boxes, ax=ax, plot_args=dict(c='C0', label='data'))\n",
    "Plots.plot_best_fit(fitter=fitter, pole=pole, ax=ax, plot_args=dict(c='k', lw=1, label='best fit'))"
   ]
  }
 ],
 "metadata": {
  "kernelspec": {
   "display_name": "CoLoRe",
   "language": "python",
   "name": "colore"
  },
  "language_info": {
   "codemirror_mode": {
    "name": "ipython",
    "version": 3
   },
   "file_extension": ".py",
   "mimetype": "text/x-python",
   "name": "python",
   "nbconvert_exporter": "python",
   "pygments_lexer": "ipython3",
   "version": "3.8.5"
  }
 },
 "nbformat": 4,
 "nbformat_minor": 5
}
