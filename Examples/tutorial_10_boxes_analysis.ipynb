{
 "cells": [
  {
   "cell_type": "markdown",
   "id": "c8e0e5d2-4c17-4aa2-8a91-9e81055c2211",
   "metadata": {},
   "source": [
    "# 10 Boxes analysis."
   ]
  },
  {
   "cell_type": "code",
   "execution_count": 1,
   "id": "25d54a78-89d3-4224-9e74-ba304f613303",
   "metadata": {},
   "outputs": [],
   "source": [
    "from CoLoRe_corrf_analysis.plot_methods import Plots\n",
    "from CoLoRe_corrf_analysis.file_funcs import FileFuncs\n",
    "from CoLoRe_corrf_analysis.fitter import Fitter\n",
    "from CoLoRe_corrf_analysis.read_colore import ComputeModelsCoLoRe"
   ]
  },
  {
   "cell_type": "code",
   "execution_count": 2,
   "id": "d1f33474-1078-4dc4-9884-dbc25f29ad96",
   "metadata": {},
   "outputs": [],
   "source": [
    "from pathlib import Path\n",
    "import matplotlib.pyplot as plt\n",
    "import numpy as np"
   ]
  },
  {
   "cell_type": "markdown",
   "id": "31f5d300-8830-40b9-a25b-abf0006f0190",
   "metadata": {},
   "source": [
    "We need to provide the following files to the theory object:"
   ]
  },
  {
   "cell_type": "code",
   "execution_count": 3,
   "id": "7847af3a-4205-4b12-8b1b-4a11f3b0a2d9",
   "metadata": {},
   "outputs": [],
   "source": [
    "theory_path=Path('/global/cscratch1/sd/damonge/CoLoRe_sims/sim1000')\n",
    "bias_filename=Path('/global/cscratch1/sd/cramirez/NBodyKit/hanyu_david_box/input_files/BzBlue.txt')\n",
    "nz_filename=Path('/global/cscratch1/sd/cramirez/NBodyKit/hanyu_david_box/input_files/NzBlue.txt')\n",
    "pk_filename=Path('/global/cscratch1/sd/cramirez/NBodyKit/hanyu_david_box/input_files/Pk_CAMB_test.dat')"
   ]
  },
  {
   "cell_type": "markdown",
   "id": "65e04d52-ab75-44d0-a3af-e605c1c67ddc",
   "metadata": {},
   "source": [
    "Create theory object:"
   ]
  },
  {
   "cell_type": "code",
   "execution_count": 4,
   "id": "cf09efbf-c90e-409c-948a-a8243f8560ab",
   "metadata": {},
   "outputs": [],
   "source": [
    "theory = ComputeModelsCoLoRe(\n",
    "    box_path=theory_path,\n",
    "    source=2,\n",
    "    nz_filename=nz_filename,\n",
    "    pk_filename=pk_filename,\n",
    "    param_cfg_filename='/global/cscratch1/sd/damonge/CoLoRe_sims/sim1000/out_params.cfg',\n",
    "    bias_filename=bias_filename,\n",
    "    apply_lognormal=True)"
   ]
  },
  {
   "cell_type": "markdown",
   "id": "a76668fc-f468-4e29-81aa-19bfd00039c2",
   "metadata": {},
   "source": [
    "Read boxes output. We will use the analysis of the 10 boxes here: sim1000-sim1009"
   ]
  },
  {
   "cell_type": "code",
   "execution_count": 17,
   "id": "61e784fd-84c1-4180-9197-b821af547f50",
   "metadata": {},
   "outputs": [],
   "source": [
    "boxes_path=Path('/global/cscratch1/sd/cramirez/NBodyKit/hanyu_david_box/analysis')\n",
    "\n",
    "zmin=0.5\n",
    "zmax=0.7\n",
    "rsd=True\n",
    "\n",
    "sub_boxes = FileFuncs.mix_sims(\n",
    "    FileFuncs.get_full_path(boxes_path,\n",
    "                            rsd=rsd,\n",
    "                            rmin=0.1, rmax=200, N_bins=41,\n",
    "                            zmin=zmin, zmax=zmax, #Also results for 0.7 and 0.9\n",
    "                            nside=2)\n",
    ")"
   ]
  },
  {
   "cell_type": "markdown",
   "id": "8d5813df-e426-465e-93a8-fc0dc05d8b71",
   "metadata": {},
   "source": [
    "FileFuncs.get_available_runs can be used to search for configurations available for the previous cell:"
   ]
  },
  {
   "cell_type": "code",
   "execution_count": 18,
   "id": "7f265b1f-1471-4468-98bd-51b9c6ec98ba",
   "metadata": {},
   "outputs": [
    {
     "name": "stdout",
     "output_type": "stream",
     "text": [
      "+-------+-------+------+------+--------+------+------+-----+\n",
      "| nside |  rsd  | rmin | rmax | N_bins | zmin | zmax |  N  |\n",
      "+-------+-------+------+------+--------+------+------+-----+\n",
      "|   1   |  rsd  | 0.1  | 200  |   41   | 0.7  | 0.9  | 12  |\n",
      "|   2   |  rsd  | 0.1  | 400  |   41   | 0.7  | 0.9  | 48  |\n",
      "|   2   |  rsd  | 0.1  | 200  |   41   | 0.6  | 0.9  | 144 |\n",
      "|   2   |  rsd  | 0.1  | 200  |   41   |  0   | 1.42 | 48  |\n",
      "|   2   |  rsd  | 0.1  | 200  |   41   | 0.9  | 1.1  | 480 |\n",
      "|   2   |  rsd  | 0.1  | 200  |   41   | 0.3  | 0.5  | 480 |\n",
      "|   2   |  rsd  | 0.1  | 200  |   41   | 1.1  | 1.4  | 48  |\n",
      "|   2   |  rsd  | 0.1  | 200  |   41   | 0.5  | 0.7  | 480 |\n",
      "|   2   |  rsd  | 0.1  | 200  |   41   | 0.1  | 0.3  | 48  |\n",
      "|   2   |  rsd  | 0.1  | 200  |   41   | 0.7  | 0.9  | 480 |\n",
      "|   2   |  rsd  | 0.1  | 300  |   41   | 0.7  | 0.9  | 48  |\n",
      "|   2   | norsd | 0.1  |  50  |   20   | 0.5  | 0.7  | 192 |\n",
      "|   2   | norsd | 0.1  |  50  |   5    | 0.5  | 0.7  | 192 |\n",
      "|   2   | norsd | 0.1  |  50  |   40   | 0.5  | 0.7  | 192 |\n",
      "|   2   | norsd | 0.1  |  50  |   15   | 0.5  | 0.7  | 192 |\n",
      "|   2   | norsd | 0.1  |  50  |   8    | 0.5  | 0.7  | 192 |\n",
      "|   2   | norsd | 0.1  |  50  |   60   | 0.5  | 0.7  | 192 |\n",
      "|   2   | norsd | 0.1  | 200  |   41   | 0.9  | 1.1  | 48  |\n",
      "|   2   | norsd | 0.1  | 200  |   41   | 0.5  | 0.7  | 480 |\n",
      "|   2   | norsd | 0.1  | 200  |   41   | 0.7  | 0.9  | 144 |\n",
      "|   2   | norsd | 0.1  |  50  |   30   | 0.5  | 0.7  | 192 |\n",
      "|   2   | norsd | 0.1  |  50  |   7    | 0.5  | 0.7  | 192 |\n",
      "|   2   | norsd | 0.1  |  50  |   10   | 0.5  | 0.7  | 192 |\n",
      "|   2   | norsd | 0.1  |  50  |   6    | 0.5  | 0.7  | 192 |\n",
      "+-------+-------+------+------+--------+------+------+-----+\n"
     ]
    }
   ],
   "source": [
    "print(FileFuncs.get_available_runs(boxes_path))"
   ]
  },
  {
   "cell_type": "markdown",
   "id": "1d5fa80f-b3ba-42a4-8543-f66a5c530457",
   "metadata": {},
   "source": [
    "We should have 480 **sub**-boxes for analysis, that is 48 pixels for each of the 10 CoLoRe boxes."
   ]
  },
  {
   "cell_type": "code",
   "execution_count": 19,
   "id": "3fbd2dd7-dede-4b9a-99c0-d6f0124872ed",
   "metadata": {},
   "outputs": [
    {
     "data": {
      "text/plain": [
       "480"
      ]
     },
     "execution_count": 19,
     "metadata": {},
     "output_type": "execute_result"
    }
   ],
   "source": [
    "len(sub_boxes)"
   ]
  },
  {
   "cell_type": "markdown",
   "id": "14b856fd-0b3e-41b8-869b-639759c26594",
   "metadata": {},
   "source": [
    "We can easily make plots using Plots.plot_data, Plots.plot_theory. These methods are defined in module_files_plots.Plots"
   ]
  },
  {
   "cell_type": "code",
   "execution_count": 20,
   "id": "080902ef-b9b1-4e19-b794-73b18b2095d1",
   "metadata": {},
   "outputs": [
    {
     "name": "stdout",
     "output_type": "stream",
     "text": [
      "0.5990093404246088\n"
     ]
    }
   ],
   "source": [
    "z = theory.get_zeff(zmin=zmin, zmax=zmax) #\n",
    "print(z)"
   ]
  },
  {
   "cell_type": "code",
   "execution_count": 29,
   "id": "585416bf-8db6-4c50-9075-efb4eab3712e",
   "metadata": {},
   "outputs": [
    {
     "data": {
      "text/plain": [
       "array(1.36669002)"
      ]
     },
     "execution_count": 29,
     "metadata": {},
     "output_type": "execute_result"
    }
   ],
   "source": [
    "bias = theory.bias(z)\n",
    "bias"
   ]
  },
  {
   "cell_type": "code",
   "execution_count": 40,
   "id": "1e2f4d39-b96f-4ee5-8bc1-c6b42768a708",
   "metadata": {
    "tags": []
   },
   "outputs": [
    {
     "name": "stderr",
     "output_type": "stream",
     "text": [
      "/global/homes/c/cramirez/.local/cori/3.8-anaconda-2020.11/lib/python3.8/site-packages/mcfit/mcfit.py:126: UserWarning: The default value of lowring has been changed to False, set it to True if you cannot reproduce previous results\n",
      "  warnings.warn(\"The default value of lowring has been changed to False, \"\n",
      "/global/homes/c/cramirez/.local/cori/3.8-anaconda-2020.11/lib/python3.8/site-packages/mcfit/mcfit.py:217: UserWarning: The default value of extrap has been changed to False, set it to True if you cannot reproduce previous results\n",
      "  warnings.warn(\"The default value of extrap has been changed to False, \"\n"
     ]
    },
    {
     "data": {
      "image/png": "[encoded data removed]",
      "text/plain": [
       "<Figure size 432x288 with 1 Axes>"
      ]
     },
     "metadata": {
      "needs_background": "light"
     },
     "output_type": "display_data"
    }
   ],
   "source": [
    "fig, ax = plt.subplots()\n",
    "pole=2 \n",
    "\n",
    "Plots.plot_data(pole=pole, boxes=sub_boxes, ax=ax, plot_args=dict(c='C0', label='data'))\n",
    "Plots.plot_theory(pole=pole, theory=theory, z=z, bias=bias, rsd=rsd, ax=ax, plot_args=dict(c='C1', label='model'))"
   ]
  },
  {
   "cell_type": "markdown",
   "id": "74a2dd70-e7f3-4462-8704-482665eea8d3",
   "metadata": {},
   "source": [
    "To simply obtain the data for the plot:"
   ]
  },
  {
   "cell_type": "code",
   "execution_count": 41,
   "id": "3c3f0135-d063-4f48-80ee-05e598b74641",
   "metadata": {},
   "outputs": [
    {
     "name": "stderr",
     "output_type": "stream",
     "text": [
      "/global/homes/c/cramirez/.local/cori/3.8-anaconda-2020.11/lib/python3.8/site-packages/mcfit/mcfit.py:126: UserWarning: The default value of lowring has been changed to False, set it to True if you cannot reproduce previous results\n",
      "  warnings.warn(\"The default value of lowring has been changed to False, \"\n",
      "/global/homes/c/cramirez/.local/cori/3.8-anaconda-2020.11/lib/python3.8/site-packages/mcfit/mcfit.py:217: UserWarning: The default value of extrap has been changed to False, set it to True if you cannot reproduce previous results\n",
      "  warnings.warn(\"The default value of extrap has been changed to False, \"\n"
     ]
    }
   ],
   "source": [
    "# For theory\n",
    "r = theory.r\n",
    "xi = theory.get_npole(n=2, z=z, rsd=rsd, bias=bias, rsd2=None, bias2=None, \n",
    "                         smooth_factor=1, smooth_factor_rsd=1, smooth_factor_cross=1)\n",
    "\n",
    "# For data:\n",
    "r_dat = sub_boxes[0].savg\n",
    "xis_dat = np.array([box.compute_npole(2) for box in sub_boxes])\n",
    "xis_mean = xis_dat.mean(axis=0)\n",
    "xis_err = xis_dat.std(ddof=1, axis=0)/np.sqrt(len(sub_boxes))\n",
    "\n",
    "# alternatively: xis_mean, xis_err = Plots.get_xi(2, sub_boxes)"
   ]
  },
  {
   "cell_type": "code",
   "execution_count": 33,
   "id": "ce3b79a3-fa57-4b30-9454-c4ee8f18f318",
   "metadata": {},
   "outputs": [
    {
     "data": {
      "text/plain": [
       "(-5.0, 300.0)"
      ]
     },
     "execution_count": 33,
     "metadata": {},
     "output_type": "execute_result"
    },
    {
     "data": {
      "image/png": "[encoded data removed]",
      "text/plain": [
       "<Figure size 432x288 with 1 Axes>"
      ]
     },
     "metadata": {
      "needs_background": "light"
     },
     "output_type": "display_data"
    }
   ],
   "source": [
    "fig, ax = plt.subplots()\n",
    "\n",
    "ax.plot(r, xi*r**2)\n",
    "\n",
    "ax.errorbar(r_dat, r_dat**2*xis_mean, r_dat**2*xis_err, fmt='.') \n",
    "ax.set_xlim(-5, 300)"
   ]
  },
  {
   "cell_type": "markdown",
   "id": "fe9dc837-97cc-49e9-a05a-6dd9c5c79ccb",
   "metadata": {
    "tags": []
   },
   "source": [
    "# Fitter"
   ]
  },
  {
   "cell_type": "markdown",
   "id": "49b7aa90-2140-4ec6-bc78-5fde488a34e1",
   "metadata": {},
   "source": [
    "To perform a fit, we use the class Fitter from module_files_plots:"
   ]
  },
  {
   "cell_type": "code",
   "execution_count": 34,
   "id": "f4071482-ce1c-4d39-b097-6a7fc66680fd",
   "metadata": {},
   "outputs": [
    {
     "name": "stderr",
     "output_type": "stream",
     "text": [
      "/global/homes/c/cramirez/.local/cori/3.8-anaconda-2020.11/lib/python3.8/site-packages/mcfit/mcfit.py:126: UserWarning: The default value of lowring has been changed to False, set it to True if you cannot reproduce previous results\n",
      "  warnings.warn(\"The default value of lowring has been changed to False, \"\n",
      "/global/homes/c/cramirez/.local/cori/3.8-anaconda-2020.11/lib/python3.8/site-packages/mcfit/mcfit.py:217: UserWarning: The default value of extrap has been changed to False, set it to True if you cannot reproduce previous results\n",
      "  warnings.warn(\"The default value of extrap has been changed to False, \"\n"
     ]
    },
    {
     "data": {
      "text/html": [
       "<h2>Fit Statistics</h2><table><tr><td>fitting method</td><td>leastsq</td><td></td></tr><tr><td># function evals</td><td>7</td><td></td></tr><tr><td># data points</td><td>70</td><td></td></tr><tr><td># variables</td><td>1</td><td></td></tr><tr><td>chi-square</td><td> 60494.4983</td><td></td></tr><tr><td>reduced chi-square</td><td> 876.731859</td><td></td></tr><tr><td>Akaike info crit.</td><td> 475.326872</td><td></td></tr><tr><td>Bayesian info crit.</td><td> 477.575367</td><td></td></tr></table><h2>Variables</h2><table><tr><th> name </th><th> value </th><th> standard error </th><th> relative error </th><th> initial value </th><th> min </th><th> max </th><th> vary </th></tr><tr><td> bias </td><td>  1.31646315 </td><td>  9.0301e-04 </td><td> (0.07%) </td><td> 1.3666900208504704 </td><td>  0.00000000 </td><td>         inf </td><td> True </td></tr><tr><td> smooth_factor </td><td>  1.00000000 </td><td>  0.00000000 </td><td> (0.00%) </td><td> 1 </td><td>  0.00000000 </td><td>         inf </td><td> False </td></tr><tr><td> smooth_factor_rsd </td><td>  1.00000000 </td><td>  0.00000000 </td><td> (0.00%) </td><td> 1 </td><td>  0.00000000 </td><td>         inf </td><td> False </td></tr><tr><td> smooth_factor_cross </td><td>  1.00000000 </td><td>  0.00000000 </td><td> (0.00%) </td><td> 1 </td><td>  0.00000000 </td><td>         inf </td><td> False </td></tr></table>"
      ],
      "text/plain": [
       "<lmfit.minimizer.MinimizerResult at 0x2aaae72257f0>"
      ]
     },
     "execution_count": 34,
     "metadata": {},
     "output_type": "execute_result"
    }
   ],
   "source": [
    "fitter = Fitter(boxes=sub_boxes, z=z, theory=theory, poles=[0,2], rsd=rsd, bias0=bias,\n",
    "    smooth_factor0=1, smooth_factor_rsd0=1, smooth_factor_cross0=1)# put here fitted regions\n",
    "\n",
    "fitter.run_fit(free_params=['bias'])"
   ]
  },
  {
   "cell_type": "code",
   "execution_count": 35,
   "id": "1fe9b862-80d0-4366-b32c-3e22c8e2c865",
   "metadata": {},
   "outputs": [
    {
     "data": {
      "text/html": [
       "<table><tr><th> name </th><th> value </th><th> standard error </th><th> relative error </th><th> initial value </th><th> min </th><th> max </th><th> vary </th></tr><tr><td> bias </td><td>  1.31646315 </td><td>  9.0301e-04 </td><td> (0.07%) </td><td> 1.3666900208504704 </td><td>  0.00000000 </td><td>         inf </td><td> True </td></tr><tr><td> smooth_factor </td><td>  1.00000000 </td><td>  0.00000000 </td><td> (0.00%) </td><td> 1 </td><td>  0.00000000 </td><td>         inf </td><td> False </td></tr><tr><td> smooth_factor_rsd </td><td>  1.00000000 </td><td>  0.00000000 </td><td> (0.00%) </td><td> 1 </td><td>  0.00000000 </td><td>         inf </td><td> False </td></tr><tr><td> smooth_factor_cross </td><td>  1.00000000 </td><td>  0.00000000 </td><td> (0.00%) </td><td> 1 </td><td>  0.00000000 </td><td>         inf </td><td> False </td></tr></table>"
      ],
      "text/plain": [
       "Parameters([('bias',\n",
       "             <Parameter 'bias', value=1.3164631531349587 +/- 0.000903, bounds=[0:inf]>),\n",
       "            ('smooth_factor',\n",
       "             <Parameter 'smooth_factor', value=1 (fixed), bounds=[0:inf]>),\n",
       "            ('smooth_factor_rsd',\n",
       "             <Parameter 'smooth_factor_rsd', value=1 (fixed), bounds=[0:inf]>),\n",
       "            ('smooth_factor_cross',\n",
       "             <Parameter 'smooth_factor_cross', value=1 (fixed), bounds=[0:inf]>)])"
      ]
     },
     "execution_count": 35,
     "metadata": {},
     "output_type": "execute_result"
    }
   ],
   "source": [
    "fitter.out.params"
   ]
  },
  {
   "cell_type": "code",
   "execution_count": 36,
   "id": "4a8b9efd-1b86-473b-b755-41265ce48f95",
   "metadata": {},
   "outputs": [
    {
     "name": "stdout",
     "output_type": "stream",
     "text": [
      "| name                |   value |   stderr |   stderror(%) |   init value |   min |   max | vary   |\n",
      "|---------------------|---------|----------|---------------|--------------|-------|-------|--------|\n",
      "| bias                |   1.316 |    0.001 |         0.069 |      1.36669 |     0 |   inf | True   |\n",
      "| smooth_factor       |   1     |    0     |         0     |      1       |     0 |   inf | False  |\n",
      "| smooth_factor_rsd   |   1     |    0     |         0     |      1       |     0 |   inf | False  |\n",
      "| smooth_factor_cross |   1     |    0     |         0     |      1       |     0 |   inf | False  |\n"
     ]
    }
   ],
   "source": [
    "print(fitter.pars_tab())"
   ]
  },
  {
   "cell_type": "markdown",
   "id": "01f07e2d-93aa-4bc0-99e3-209a6753374c",
   "metadata": {},
   "source": [
    "If more than one parameter is free, we can get the correlation between these values by using."
   ]
  },
  {
   "cell_type": "code",
   "execution_count": 37,
   "id": "e97477d2-b062-4323-93c1-9af5aa3d5e87",
   "metadata": {},
   "outputs": [
    {
     "name": "stdout",
     "output_type": "stream",
     "text": [
      "| name   | name   | corr   |\n",
      "|--------|--------|--------|\n"
     ]
    }
   ],
   "source": [
    "print(fitter.corrs_tab())"
   ]
  },
  {
   "cell_type": "markdown",
   "id": "591019e7-53c7-411c-b67d-73342a93b6f1",
   "metadata": {},
   "source": [
    "We can plot the best fit as well:"
   ]
  },
  {
   "cell_type": "code",
   "execution_count": 42,
   "id": "1179b3f8-db39-4fe8-8d9d-56e95bad659f",
   "metadata": {},
   "outputs": [
    {
     "name": "stderr",
     "output_type": "stream",
     "text": [
      "/global/homes/c/cramirez/.local/cori/3.8-anaconda-2020.11/lib/python3.8/site-packages/mcfit/mcfit.py:126: UserWarning: The default value of lowring has been changed to False, set it to True if you cannot reproduce previous results\n",
      "  warnings.warn(\"The default value of lowring has been changed to False, \"\n",
      "/global/homes/c/cramirez/.local/cori/3.8-anaconda-2020.11/lib/python3.8/site-packages/mcfit/mcfit.py:217: UserWarning: The default value of extrap has been changed to False, set it to True if you cannot reproduce previous results\n",
      "  warnings.warn(\"The default value of extrap has been changed to False, \"\n"
     ]
    },
    {
     "data": {
      "image/png": "[encoded data removed]",
      "text/plain": [
       "<Figure size 432x288 with 1 Axes>"
      ]
     },
     "metadata": {
      "needs_background": "light"
     },
     "output_type": "display_data"
    }
   ],
   "source": [
    "fig, ax = plt.subplots()\n",
    "pole=2\n",
    "\n",
    "Plots.plot_data(pole=pole, boxes=sub_boxes, ax=ax, plot_args=dict(c='C0', label='data'))\n",
    "Plots.plot_best_fit(fitter=fitter, pole=pole, ax=ax, plot_args=dict(c='k', lw=1, label='best fit'))\n",
    "\n",
    "pole=0\n",
    "\n",
    "Plots.plot_data(pole=pole, boxes=sub_boxes, ax=ax, plot_args=dict(c='C0', label='data'))\n",
    "Plots.plot_best_fit(fitter=fitter, pole=pole, ax=ax, plot_args=dict(c='k', lw=1, label='best fit'))"
   ]
  }
 ],
 "metadata": {
  "kernelspec": {
   "display_name": "CoLoRe",
   "language": "python",
   "name": "colore"
  },
  "language_info": {
   "codemirror_mode": {
    "name": "ipython",
    "version": 3
   },
   "file_extension": ".py",
   "mimetype": "text/x-python",
   "name": "python",
   "nbconvert_exporter": "python",
   "pygments_lexer": "ipython3",
   "version": "3.8.5"
  }
 },
 "nbformat": 4,
 "nbformat_minor": 5
}
