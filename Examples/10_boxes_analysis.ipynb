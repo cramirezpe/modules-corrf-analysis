{
 "cells": [
  {
   "cell_type": "code",
   "execution_count": 8,
   "id": "e7b69a3f-8953-4343-a6fd-d7cde82ba177",
   "metadata": {},
   "outputs": [],
   "source": [
    "from CoLoRe_corrf_analysis.plot_methods import Plots\n",
    "from CoLoRe_corrf_analysis.file_funcs import FileFuncs\n",
    "from CoLoRe_corrf_analysis.fitter import Fitter\n",
    "from CoLoRe_corrf_analysis.read_colore import ComputeModelsCoLoRe"
   ]
  },
  {
   "cell_type": "code",
   "execution_count": 9,
   "id": "d160bf21-b902-453f-a9e2-9581c7d8a146",
   "metadata": {},
   "outputs": [],
   "source": [
    "from pathlib import Path\n",
    "import matplotlib.pyplot as plt\n",
    "import numpy as np"
   ]
  },
  {
   "cell_type": "code",
   "execution_count": 10,
   "id": "6428d048-2497-485a-81a6-3022ef90bf32",
   "metadata": {},
   "outputs": [],
   "source": [
    "source1=2\n",
    "rsd1=True\n",
    "bias1=None # Set to None if you want to read it from bz file\n",
    "\n",
    "\n",
    "# Set all 2nd properties to None if you want auto-correlations\n",
    "source2=None\n",
    "rsd2=None\n",
    "bias2=None\n",
    "\n",
    "\n",
    "assert (source2==None)==(rsd2==None)\n",
    "if source2!=None and source2>=source1:\n",
    "    raise ValueError('sources must be sorted to match folders')\n",
    "if (source2==None) and (bias2!=None):\n",
    "    raise ValueError('Bias != None in autocorrelation will give wrong results!')"
   ]
  },
  {
   "cell_type": "code",
   "execution_count": 11,
   "id": "f72f4858-4821-427e-8698-6d624c1d3240",
   "metadata": {},
   "outputs": [],
   "source": [
    "boxes_path=Path('/global/cscratch1/sd/cramirez/NBodyKit/hanyu_david_box/analysis')"
   ]
  },
  {
   "cell_type": "code",
   "execution_count": 12,
   "id": "b0047f8a-fa0c-4366-872f-0ca588bee79e",
   "metadata": {},
   "outputs": [
    {
     "name": "stdout",
     "output_type": "stream",
     "text": [
      "+-------+-------+------+------+--------+------+------+-----+\n",
      "| nside |  rsd  | rmin | rmax | N_bins | zmin | zmax |  N  |\n",
      "+-------+-------+------+------+--------+------+------+-----+\n",
      "|   1   |  rsd  | 0.1  | 200  |   41   | 0.7  | 0.9  | 12  |\n",
      "|   2   |  rsd  | 0.1  | 400  |   41   | 0.7  | 0.9  | 48  |\n",
      "|   2   |  rsd  | 0.1  | 200  |   41   | 0.6  | 0.9  | 144 |\n",
      "|   2   |  rsd  | 0.1  | 200  |   41   |  0   | 1.42 | 48  |\n",
      "|   2   |  rsd  | 0.1  | 200  |   41   | 0.9  | 1.1  | 480 |\n",
      "|   2   |  rsd  | 0.1  | 200  |   41   | 0.3  | 0.5  | 480 |\n",
      "|   2   |  rsd  | 0.1  | 200  |   41   | 1.1  | 1.4  | 48  |\n",
      "|   2   |  rsd  | 0.1  | 200  |   41   | 0.5  | 0.7  | 480 |\n",
      "|   2   |  rsd  | 0.1  | 200  |   41   | 0.1  | 0.3  | 48  |\n",
      "|   2   |  rsd  | 0.1  | 200  |   41   | 0.7  | 0.9  | 480 |\n",
      "|   2   |  rsd  | 0.1  | 300  |   41   | 0.7  | 0.9  | 48  |\n",
      "|   2   | norsd | 0.1  |  50  |   20   | 0.5  | 0.7  | 192 |\n",
      "|   2   | norsd | 0.1  |  50  |   5    | 0.5  | 0.7  | 192 |\n",
      "|   2   | norsd | 0.1  |  50  |   40   | 0.5  | 0.7  | 192 |\n",
      "|   2   | norsd | 0.1  |  50  |   15   | 0.5  | 0.7  | 192 |\n",
      "|   2   | norsd | 0.1  |  50  |   8    | 0.5  | 0.7  | 192 |\n",
      "|   2   | norsd | 0.1  |  50  |   60   | 0.5  | 0.7  | 192 |\n",
      "|   2   | norsd | 0.1  | 200  |   41   | 0.9  | 1.1  | 48  |\n",
      "|   2   | norsd | 0.1  | 200  |   41   | 0.5  | 0.7  | 480 |\n",
      "|   2   | norsd | 0.1  | 200  |   41   | 0.7  | 0.9  | 144 |\n",
      "|   2   | norsd | 0.1  |  50  |   30   | 0.5  | 0.7  | 192 |\n",
      "|   2   | norsd | 0.1  |  50  |   7    | 0.5  | 0.7  | 192 |\n",
      "|   2   | norsd | 0.1  |  50  |   10   | 0.5  | 0.7  | 192 |\n",
      "|   2   | norsd | 0.1  |  50  |   6    | 0.5  | 0.7  | 192 |\n",
      "+-------+-------+------+------+--------+------+------+-----+\n"
     ]
    }
   ],
   "source": [
    "print(FileFuncs.get_available_runs(boxes_path))"
   ]
  },
  {
   "cell_type": "code",
   "execution_count": 13,
   "id": "b1b46ca6-4c37-4b73-affd-cb6bfc963faf",
   "metadata": {},
   "outputs": [],
   "source": [
    "zmin=0.5\n",
    "zmax=0.7"
   ]
  },
  {
   "cell_type": "markdown",
   "id": "a5fc0f0b-a795-491e-b58a-085e91b8edbd",
   "metadata": {},
   "source": [
    "Theory object for the first source."
   ]
  },
  {
   "cell_type": "code",
   "execution_count": 14,
   "id": "8ba26492-e381-4ada-ba2f-d75cb1d045ec",
   "metadata": {},
   "outputs": [],
   "source": [
    "theory_path=Path('/global/cscratch1/sd/damonge/CoLoRe_sims/sim1000')\n",
    "bias_filename=Path('/global/cscratch1/sd/cramirez/NBodyKit/hanyu_david_box/input_files/BzBlue.txt')\n",
    "nz_filename=Path('/global/cscratch1/sd/cramirez/NBodyKit/hanyu_david_box/input_files/NzRed.txt')\n",
    "pk_filename=Path('/global/cscratch1/sd/cramirez/NBodyKit/hanyu_david_box/input_files/Pk_CAMB_test.dat')\n",
    "\n",
    "theory = ComputeModelsCoLoRe(\n",
    "    box_path=theory_path,\n",
    "    source=source1,\n",
    "    nz_filename=nz_filename,\n",
    "    pk_filename=pk_filename,\n",
    "    param_cfg_filename='/global/cscratch1/sd/damonge/CoLoRe_sims/sim1000/out_params.cfg', #I need this to read the cosmological parameters\n",
    "    bias_filename=bias_filename,\n",
    "    apply_lognormal=True)\n",
    "\n",
    "z=theory.get_zeff(zmin=zmin, zmax=zmax)\n",
    "\n",
    "if bias1 == None:\n",
    "    bias1 = theory.bias(z)\n",
    "\n",
    "if bias2==None and source2!=None:\n",
    "    bias_filename2=bias_filename.parent / f'Bz_s{source2}.txt'\n",
    "    theory2 = ComputeModelsCoLoRe(\n",
    "        box_path=theory_path,\n",
    "        source=source2,\n",
    "        nz_filename=nz_filename,\n",
    "        pk_filename=pk_filename,\n",
    "        param_cfg_filename='/global/cscratch1/sd/damonge/CoLoRe_sims/sim1000/out_params.cfg', #I need this to read the cosmological parameters\n",
    "        bias_filename=bias_filename2,\n",
    "        apply_lognormal=True)\n",
    "    bias2=theory2.bias(z)"
   ]
  },
  {
   "cell_type": "markdown",
   "id": "52e8da89-d49c-439f-b83c-ecd07ef4dd56",
   "metadata": {},
   "source": [
    "Getting **sub_boxes** with data: (sub_boxes because we handle pixes independently, 1 pixel = 1 sub_box)"
   ]
  },
  {
   "cell_type": "code",
   "execution_count": 15,
   "id": "b9299712-71dd-4604-821f-63bc14eef626",
   "metadata": {},
   "outputs": [
    {
     "data": {
      "text/plain": [
       "480"
      ]
     },
     "execution_count": 15,
     "metadata": {},
     "output_type": "execute_result"
    }
   ],
   "source": [
    "sub_boxes = FileFuncs.mix_sims(\n",
    "    FileFuncs.get_full_path(boxes_path,\n",
    "                            rsd=rsd1, rsd2=rsd2, #Must specify here rsd2 \n",
    "                            rmin=0.1, rmax=200, N_bins=41,\n",
    "                            zmin=zmin, zmax=zmax, #Also results for 0.7 and 0.9\n",
    "                            nside=2)\n",
    ")\n",
    "\n",
    "len(sub_boxes)"
   ]
  },
  {
   "cell_type": "code",
   "execution_count": 16,
   "id": "b174af95-b8b1-44c6-87bb-ca4b56339167",
   "metadata": {},
   "outputs": [
    {
     "name": "stderr",
     "output_type": "stream",
     "text": [
      "/global/homes/c/cramirez/.local/cori/3.8-anaconda-2020.11/lib/python3.8/site-packages/mcfit/mcfit.py:126: UserWarning: The default value of lowring has been changed to False, set it to True if you cannot reproduce previous results\n",
      "  warnings.warn(\"The default value of lowring has been changed to False, \"\n",
      "/global/homes/c/cramirez/.local/cori/3.8-anaconda-2020.11/lib/python3.8/site-packages/mcfit/mcfit.py:217: UserWarning: The default value of extrap has been changed to False, set it to True if you cannot reproduce previous results\n",
      "  warnings.warn(\"The default value of extrap has been changed to False, \"\n",
      "/global/homes/c/cramirez/.local/cori/3.8-anaconda-2020.11/lib/python3.8/site-packages/mcfit/mcfit.py:126: UserWarning: The default value of lowring has been changed to False, set it to True if you cannot reproduce previous results\n",
      "  warnings.warn(\"The default value of lowring has been changed to False, \"\n",
      "/global/homes/c/cramirez/.local/cori/3.8-anaconda-2020.11/lib/python3.8/site-packages/mcfit/mcfit.py:217: UserWarning: The default value of extrap has been changed to False, set it to True if you cannot reproduce previous results\n",
      "  warnings.warn(\"The default value of extrap has been changed to False, \"\n"
     ]
    },
    {
     "data": {
      "image/png": "[encoded data removed]",
      "text/plain": [
       "<Figure size 432x288 with 1 Axes>"
      ]
     },
     "metadata": {
      "needs_background": "light"
     },
     "output_type": "display_data"
    }
   ],
   "source": [
    "fig, ax = plt.subplots()\n",
    "pole=2\n",
    "Plots.plot_data(pole, sub_boxes, ax=ax, plot_args=dict(c='C0'))\n",
    "Plots.plot_theory(pole, z=z, theory=theory, ax=ax, bias=bias1, bias2=bias2, rsd=rsd1, rsd2=rsd2, plot_args=dict(alpha=0.5, c='C1'))\n",
    "pole=0\n",
    "Plots.plot_data(pole, sub_boxes, ax=ax, plot_args=dict(c='C0'))\n",
    "Plots.plot_theory(pole, z=z, theory=theory, ax=ax, bias=bias1, bias2=bias2, rsd=rsd1, rsd2=rsd2, plot_args=dict(alpha=0.5, c='C1'))\n",
    "ax.set_title(f'bias1={bias1} bias2={bias2}');"
   ]
  },
  {
   "cell_type": "code",
   "execution_count": 17,
   "id": "4bafa92b-580d-408d-934b-e71f7693ab7c",
   "metadata": {},
   "outputs": [
    {
     "name": "stderr",
     "output_type": "stream",
     "text": [
      "/global/homes/c/cramirez/.local/cori/3.8-anaconda-2020.11/lib/python3.8/site-packages/mcfit/mcfit.py:126: UserWarning: The default value of lowring has been changed to False, set it to True if you cannot reproduce previous results\n",
      "  warnings.warn(\"The default value of lowring has been changed to False, \"\n",
      "/global/homes/c/cramirez/.local/cori/3.8-anaconda-2020.11/lib/python3.8/site-packages/mcfit/mcfit.py:217: UserWarning: The default value of extrap has been changed to False, set it to True if you cannot reproduce previous results\n",
      "  warnings.warn(\"The default value of extrap has been changed to False, \"\n"
     ]
    },
    {
     "data": {
      "text/html": [
       "<h2>Fit Statistics</h2><table><tr><td>fitting method</td><td>leastsq</td><td></td></tr><tr><td># function evals</td><td>7</td><td></td></tr><tr><td># data points</td><td>70</td><td></td></tr><tr><td># variables</td><td>1</td><td></td></tr><tr><td>chi-square</td><td> 61285.9957</td><td></td></tr><tr><td>reduced chi-square</td><td> 888.202836</td><td></td></tr><tr><td>Akaike info crit.</td><td> 476.236798</td><td></td></tr><tr><td>Bayesian info crit.</td><td> 478.485293</td><td></td></tr></table><h2>Variables</h2><table><tr><th> name </th><th> value </th><th> standard error </th><th> relative error </th><th> initial value </th><th> min </th><th> max </th><th> vary </th></tr><tr><td> bias </td><td>  1.32367421 </td><td>  9.1354e-04 </td><td> (0.07%) </td><td> 1.3738982186663649 </td><td>  0.00000000 </td><td>         inf </td><td> True </td></tr><tr><td> smooth_factor </td><td>  1.00000000 </td><td>  0.00000000 </td><td> (0.00%) </td><td> 1 </td><td>  0.00000000 </td><td>         inf </td><td> False </td></tr><tr><td> smooth_factor_rsd </td><td>  1.00000000 </td><td>  0.00000000 </td><td> (0.00%) </td><td> 1 </td><td>  0.00000000 </td><td>         inf </td><td> False </td></tr><tr><td> smooth_factor_cross </td><td>  1.00000000 </td><td>  0.00000000 </td><td> (0.00%) </td><td> 1 </td><td>  0.00000000 </td><td>         inf </td><td> False </td></tr></table>"
      ],
      "text/plain": [
       "<lmfit.minimizer.MinimizerResult at 0x2aaaee343490>"
      ]
     },
     "execution_count": 17,
     "metadata": {},
     "output_type": "execute_result"
    }
   ],
   "source": [
    "fitter = Fitter(boxes=sub_boxes, z=z, theory=theory, poles=[0, 2], rsd=rsd1, rsd2=rsd2,\n",
    "                bias0=bias1, bias20=bias2, smooth_factor0=1, smooth_factor_rsd0=1, smooth_factor_cross0=1)\n",
    "\n",
    "fitter.run_fit(free_params=['bias', 'bias2'])"
   ]
  },
  {
   "cell_type": "code",
   "execution_count": 18,
   "id": "286824db-f2e2-43d6-bfce-944e26fa3222",
   "metadata": {},
   "outputs": [
    {
     "name": "stderr",
     "output_type": "stream",
     "text": [
      "/global/homes/c/cramirez/.local/cori/3.8-anaconda-2020.11/lib/python3.8/site-packages/mcfit/mcfit.py:126: UserWarning: The default value of lowring has been changed to False, set it to True if you cannot reproduce previous results\n",
      "  warnings.warn(\"The default value of lowring has been changed to False, \"\n",
      "/global/homes/c/cramirez/.local/cori/3.8-anaconda-2020.11/lib/python3.8/site-packages/mcfit/mcfit.py:217: UserWarning: The default value of extrap has been changed to False, set it to True if you cannot reproduce previous results\n",
      "  warnings.warn(\"The default value of extrap has been changed to False, \"\n"
     ]
    },
    {
     "data": {
      "image/png": "[encoded data removed]",
      "text/plain": [
       "<Figure size 432x288 with 1 Axes>"
      ]
     },
     "metadata": {
      "needs_background": "light"
     },
     "output_type": "display_data"
    }
   ],
   "source": [
    "fig, ax = plt.subplots()\n",
    "pole=2\n",
    "\n",
    "Plots.plot_data(pole=pole, boxes=sub_boxes, ax=ax, plot_args=dict(c='C0', label='data'))\n",
    "Plots.plot_best_fit(fitter=fitter, pole=pole, ax=ax, plot_args=dict(c='k', lw=1, label='best fit'))\n",
    "\n",
    "pole=0\n",
    "\n",
    "Plots.plot_data(pole=pole, boxes=sub_boxes, ax=ax, plot_args=dict(c='C0', label='data'))\n",
    "Plots.plot_best_fit(fitter=fitter, pole=pole, ax=ax, plot_args=dict(c='k', lw=1, label='best fit'))"
   ]
  }
 ],
 "metadata": {
  "kernelspec": {
   "display_name": "CoLoRe",
   "language": "python",
   "name": "colore"
  },
  "language_info": {
   "codemirror_mode": {
    "name": "ipython",
    "version": 3
   },
   "file_extension": ".py",
   "mimetype": "text/x-python",
   "name": "python",
   "nbconvert_exporter": "python",
   "pygments_lexer": "ipython3",
   "version": "3.8.5"
  }
 },
 "nbformat": 4,
 "nbformat_minor": 5
}
