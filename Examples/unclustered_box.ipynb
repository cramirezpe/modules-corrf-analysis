{
 "cells": [
  {
   "cell_type": "markdown",
   "id": "1d6c278d-4a76-40af-b1b3-d1ec05a799b6",
   "metadata": {},
   "source": [
    "# Unclustered box"
   ]
  },
  {
   "cell_type": "code",
   "execution_count": 1,
   "id": "e3b58f92-79b5-4655-b937-834506fd9680",
   "metadata": {
    "tags": []
   },
   "outputs": [],
   "source": [
    "from CoLoRe_corrf_analysis.plot_methods import Plots\n",
    "from CoLoRe_corrf_analysis.file_funcs import FileFuncs\n",
    "from CoLoRe_corrf_analysis.fitter import Fitter\n",
    "from CoLoRe_corrf_analysis.read_colore import ComputeModelsCoLoRe"
   ]
  },
  {
   "cell_type": "code",
   "execution_count": 2,
   "id": "4853dd96-6e12-4102-bd8f-4e59d1858afe",
   "metadata": {},
   "outputs": [],
   "source": [
    "from pathlib import Path\n",
    "import matplotlib.pyplot as plt\n",
    "import numpy as np"
   ]
  },
  {
   "cell_type": "markdown",
   "id": "d6e930e2-269b-4d7a-a691-818ead494fc5",
   "metadata": {},
   "source": [
    "We need to provide the following files to the theory object:"
   ]
  },
  {
   "cell_type": "code",
   "execution_count": 3,
   "id": "18514316-d700-4038-91d8-30bae72b5f9c",
   "metadata": {},
   "outputs": [],
   "source": [
    "theory_path=Path('/global/cscratch1/sd/damonge/CoLoRe_sims/sim1000')\n",
    "bias_filename=Path('/global/cscratch1/sd/cramirez/NBodyKit/hanyu_david_box/input_files/BzBlue.txt')\n",
    "nz_filename=Path('/global/cscratch1/sd/cramirez/NBodyKit/hanyu_david_box/input_files/NzBlue.txt')\n",
    "pk_filename=Path('/global/cscratch1/sd/cramirez/NBodyKit/hanyu_david_box/input_files/Pk_CAMB_test.dat')"
   ]
  },
  {
   "cell_type": "markdown",
   "id": "37202e59-74c4-491f-a518-152e1b8da688",
   "metadata": {},
   "source": [
    "Create theory object:"
   ]
  },
  {
   "cell_type": "code",
   "execution_count": 4,
   "id": "a51756f0-f835-4f30-bdf9-90dfb52f2dd5",
   "metadata": {},
   "outputs": [],
   "source": [
    "theory = ComputeModelsCoLoRe(\n",
    "    box_path=theory_path,\n",
    "    source=2,\n",
    "    nz_filename=nz_filename,\n",
    "    pk_filename=pk_filename,\n",
    "    param_cfg_filename='/global/cscratch1/sd/damonge/CoLoRe_sims/sim1000/out_params.cfg',\n",
    "    bias_filename=bias_filename,\n",
    "    apply_lognormal=True)"
   ]
  },
  {
   "cell_type": "markdown",
   "id": "fa66e904-a132-4dfe-9979-5b96297741e6",
   "metadata": {},
   "source": [
    "Read boxes output."
   ]
  },
  {
   "cell_type": "code",
   "execution_count": 11,
   "id": "2b2548df-3d15-4ab4-8e0d-f49913b5d8da",
   "metadata": {},
   "outputs": [
    {
     "name": "stdout",
     "output_type": "stream",
     "text": [
      "+-------+-------+------+------+--------+------+------+----+\n",
      "| nside |  rsd  | rmin | rmax | N_bins | zmin | zmax | N  |\n",
      "+-------+-------+------+------+--------+------+------+----+\n",
      "|   2   |  rsd  | 0.1  | 200  |   41   | 0.5  | 0.7  | 48 |\n",
      "|   2   |  rsd  | 0.1  | 200  |   41   | 0.7  | 0.9  | 48 |\n",
      "|   2   | norsd | 0.1  | 200  |   41   | 0.5  | 0.7  | 48 |\n",
      "|   2   | norsd | 0.1  | 200  |   41   | 0.7  | 0.9  | 48 |\n",
      "+-------+-------+------+------+--------+------+------+----+\n"
     ]
    }
   ],
   "source": [
    "print(FileFuncs.get_available_runs('/global/cscratch1/sd/cramirez/NBodyKit/multibias/s1/analysis'))"
   ]
  },
  {
   "cell_type": "markdown",
   "id": "df4c65fe-d865-40b7-877c-abcfead6681d",
   "metadata": {},
   "source": [
    "Expected model:\n",
    "\n",
    "$$ P_0(k) = \\frac{f^2}{5} <\\delta_L \\delta_L> $$\n",
    "\n",
    "$$ P_2(K) = \\frac{4 f^2}{7} <\\delta_L \\delta_L>$$"
   ]
  },
  {
   "cell_type": "code",
   "execution_count": 18,
   "id": "f8badbef-87b7-4a6a-a7e3-2aea8ce28a51",
   "metadata": {},
   "outputs": [
    {
     "name": "stdout",
     "output_type": "stream",
     "text": [
      "zeff:  0.5990093404246088\n",
      "input bias:  0.01\n"
     ]
    }
   ],
   "source": [
    "boxes_path=Path('/global/cscratch1/sd/cramirez/NBodyKit/multibias/s1/analysis')\n",
    "\n",
    "zmin=0.5\n",
    "zmax=0.7\n",
    "rsd=True\n",
    "\n",
    "sub_boxes = FileFuncs.mix_sims(\n",
    "    FileFuncs.get_full_path(boxes_path,\n",
    "                            rsd=rsd,\n",
    "                            rmin=0.1, rmax=200, N_bins=41,\n",
    "                            zmin=zmin, zmax=zmax, #Also results for 0.7 and 0.9\n",
    "                            nside=2)\n",
    ")\n",
    "z = theory.get_zeff(zmin=zmin, zmax=zmax) #\n",
    "print('zeff: ', z)\n",
    "bias = 0.01\n",
    "print('input bias: ', bias)"
   ]
  },
  {
   "cell_type": "code",
   "execution_count": 19,
   "id": "3bae4f0c-7bc9-47ae-a301-ff0a3922e54e",
   "metadata": {},
   "outputs": [
    {
     "name": "stderr",
     "output_type": "stream",
     "text": [
      "/global/homes/c/cramirez/.local/cori/3.8-anaconda-2020.11/lib/python3.8/site-packages/mcfit/mcfit.py:126: UserWarning: The default value of lowring has been changed to False, set it to True if you cannot reproduce previous results\n",
      "  warnings.warn(\"The default value of lowring has been changed to False, \"\n",
      "/global/homes/c/cramirez/.local/cori/3.8-anaconda-2020.11/lib/python3.8/site-packages/mcfit/mcfit.py:217: UserWarning: The default value of extrap has been changed to False, set it to True if you cannot reproduce previous results\n",
      "  warnings.warn(\"The default value of extrap has been changed to False, \"\n"
     ]
    },
    {
     "data": {
      "image/png": "[encoded data removed]",
      "text/plain": [
       "<Figure size 432x288 with 1 Axes>"
      ]
     },
     "metadata": {
      "needs_background": "light"
     },
     "output_type": "display_data"
    }
   ],
   "source": [
    "fig, ax = plt.subplots()\n",
    "pole=2 \n",
    "\n",
    "Plots.plot_data(pole=pole, boxes=sub_boxes, ax=ax, plot_args=dict(c='C0', label='data'))\n",
    "Plots.plot_theory(pole=pole, theory=theory, z=z, bias=bias, rsd=rsd, ax=ax, plot_args=dict(c='C1', label='model'))"
   ]
  },
  {
   "cell_type": "markdown",
   "id": "b84c3c46-2457-47b9-af0d-1f60cbd5ddbd",
   "metadata": {
    "tags": []
   },
   "source": [
    "# Fitter"
   ]
  },
  {
   "cell_type": "markdown",
   "id": "96620774-710e-4bb0-89ab-a130516bacf2",
   "metadata": {},
   "source": [
    "To perform a fit, we use the class Fitter from module_files_plots:"
   ]
  },
  {
   "cell_type": "code",
   "execution_count": 20,
   "id": "4d128339-8423-40da-a526-96525d8be476",
   "metadata": {},
   "outputs": [
    {
     "name": "stderr",
     "output_type": "stream",
     "text": [
      "/global/homes/c/cramirez/.local/cori/3.8-anaconda-2020.11/lib/python3.8/site-packages/mcfit/mcfit.py:126: UserWarning: The default value of lowring has been changed to False, set it to True if you cannot reproduce previous results\n",
      "  warnings.warn(\"The default value of lowring has been changed to False, \"\n",
      "/global/homes/c/cramirez/.local/cori/3.8-anaconda-2020.11/lib/python3.8/site-packages/mcfit/mcfit.py:217: UserWarning: The default value of extrap has been changed to False, set it to True if you cannot reproduce previous results\n",
      "  warnings.warn(\"The default value of extrap has been changed to False, \"\n"
     ]
    },
    {
     "data": {
      "text/html": [
       "<h2>Fit Statistics</h2><table><tr><td>fitting method</td><td>leastsq</td><td></td></tr><tr><td># function evals</td><td>13</td><td></td></tr><tr><td># data points</td><td>70</td><td></td></tr><tr><td># variables</td><td>1</td><td></td></tr><tr><td>chi-square</td><td> 14140.8853</td><td></td></tr><tr><td>reduced chi-square</td><td> 204.940366</td><td></td></tr><tr><td>Akaike info crit.</td><td> 373.583121</td><td></td></tr><tr><td>Bayesian info crit.</td><td> 375.831616</td><td></td></tr></table><h2>Variables</h2><table><tr><th> name </th><th> value </th><th> initial value </th><th> min </th><th> max </th><th> vary </th></tr><tr><td> bias </td><td>  7.7335e-10 </td><td> 0.01 </td><td>  0.00000000 </td><td>         inf </td><td> True </td></tr><tr><td> smooth_factor </td><td>  1.00000000 </td><td> 1 </td><td>  0.00000000 </td><td>         inf </td><td> False </td></tr><tr><td> smooth_factor_rsd </td><td>  1.00000000 </td><td> 1 </td><td>  0.00000000 </td><td>         inf </td><td> False </td></tr><tr><td> smooth_factor_cross </td><td>  1.00000000 </td><td> 1 </td><td>  0.00000000 </td><td>         inf </td><td> False </td></tr></table>"
      ],
      "text/plain": [
       "<lmfit.minimizer.MinimizerResult at 0x2aaaee3b72b0>"
      ]
     },
     "execution_count": 20,
     "metadata": {},
     "output_type": "execute_result"
    }
   ],
   "source": [
    "fitter = Fitter(boxes=sub_boxes, z=z, theory=theory, poles=[0,2], rsd=rsd, bias0=bias,\n",
    "    smooth_factor0=1, smooth_factor_rsd0=1, smooth_factor_cross0=1)# put here fitted regions\n",
    "\n",
    "fitter.run_fit(free_params=['bias'])"
   ]
  },
  {
   "cell_type": "code",
   "execution_count": 21,
   "id": "545f50ea-6ba8-4b49-a2f3-1530a8ee7805",
   "metadata": {},
   "outputs": [
    {
     "data": {
      "text/html": [
       "<table><tr><th> name </th><th> value </th><th> initial value </th><th> min </th><th> max </th><th> vary </th></tr><tr><td> bias </td><td>  7.7335e-10 </td><td> 0.01 </td><td>  0.00000000 </td><td>         inf </td><td> True </td></tr><tr><td> smooth_factor </td><td>  1.00000000 </td><td> 1 </td><td>  0.00000000 </td><td>         inf </td><td> False </td></tr><tr><td> smooth_factor_rsd </td><td>  1.00000000 </td><td> 1 </td><td>  0.00000000 </td><td>         inf </td><td> False </td></tr><tr><td> smooth_factor_cross </td><td>  1.00000000 </td><td> 1 </td><td>  0.00000000 </td><td>         inf </td><td> False </td></tr></table>"
      ],
      "text/plain": [
       "Parameters([('bias',\n",
       "             <Parameter 'bias', value=7.733524931552438e-10, bounds=[0:inf]>),\n",
       "            ('smooth_factor',\n",
       "             <Parameter 'smooth_factor', value=1 (fixed), bounds=[0:inf]>),\n",
       "            ('smooth_factor_rsd',\n",
       "             <Parameter 'smooth_factor_rsd', value=1 (fixed), bounds=[0:inf]>),\n",
       "            ('smooth_factor_cross',\n",
       "             <Parameter 'smooth_factor_cross', value=1 (fixed), bounds=[0:inf]>)])"
      ]
     },
     "execution_count": 21,
     "metadata": {},
     "output_type": "execute_result"
    }
   ],
   "source": [
    "fitter.out.params"
   ]
  },
  {
   "cell_type": "code",
   "execution_count": 22,
   "id": "ac28c6c5-77b2-4151-913d-cc84d1278b55",
   "metadata": {},
   "outputs": [
    {
     "name": "stdout",
     "output_type": "stream",
     "text": [
      "| name                |   value | stderr   | stderror(%)   |   init value |   min |   max | vary   |\n",
      "|---------------------|---------|----------|---------------|--------------|-------|-------|--------|\n",
      "| bias                |       0 |          |               |         0.01 |     0 |   inf | True   |\n",
      "| smooth_factor       |       1 |          |               |         1    |     0 |   inf | False  |\n",
      "| smooth_factor_rsd   |       1 |          |               |         1    |     0 |   inf | False  |\n",
      "| smooth_factor_cross |       1 |          |               |         1    |     0 |   inf | False  |\n"
     ]
    }
   ],
   "source": [
    "print(fitter.pars_tab())"
   ]
  },
  {
   "cell_type": "markdown",
   "id": "1cf88689-11f4-4351-b8a3-1e54ead903a1",
   "metadata": {},
   "source": [
    "If more than one parameter is free, we can get the correlation between these values by using."
   ]
  },
  {
   "cell_type": "code",
   "execution_count": 23,
   "id": "7b1b4741-1f20-47db-9853-af20c9d513cb",
   "metadata": {},
   "outputs": [
    {
     "name": "stdout",
     "output_type": "stream",
     "text": [
      "| name   | name   | corr   |\n",
      "|--------|--------|--------|\n"
     ]
    }
   ],
   "source": [
    "print(fitter.corrs_tab())"
   ]
  },
  {
   "cell_type": "markdown",
   "id": "5f416d20-5234-4870-9c3b-f0cb46065ae8",
   "metadata": {},
   "source": [
    "We can plot the best fit as well:"
   ]
  },
  {
   "cell_type": "code",
   "execution_count": 24,
   "id": "7f333d72-fad4-47c5-8a72-5a24430caa53",
   "metadata": {},
   "outputs": [
    {
     "data": {
      "image/png": "[encoded data removed]",
      "text/plain": [
       "<Figure size 432x288 with 1 Axes>"
      ]
     },
     "metadata": {
      "needs_background": "light"
     },
     "output_type": "display_data"
    }
   ],
   "source": [
    "fig, ax = plt.subplots()\n",
    "pole=2\n",
    "\n",
    "Plots.plot_data(pole=pole, boxes=sub_boxes, ax=ax, plot_args=dict(c='C0', label='data'))\n",
    "Plots.plot_best_fit(fitter=fitter, pole=pole, ax=ax, plot_args=dict(c='k', lw=1, label='best fit'))"
   ]
  },
  {
   "cell_type": "code",
   "execution_count": 25,
   "id": "a8083b02-1ba7-4026-9d90-1f73bf56acdd",
   "metadata": {},
   "outputs": [
    {
     "name": "stderr",
     "output_type": "stream",
     "text": [
      "/global/homes/c/cramirez/.local/cori/3.8-anaconda-2020.11/lib/python3.8/site-packages/mcfit/mcfit.py:126: UserWarning: The default value of lowring has been changed to False, set it to True if you cannot reproduce previous results\n",
      "  warnings.warn(\"The default value of lowring has been changed to False, \"\n",
      "/global/homes/c/cramirez/.local/cori/3.8-anaconda-2020.11/lib/python3.8/site-packages/mcfit/mcfit.py:217: UserWarning: The default value of extrap has been changed to False, set it to True if you cannot reproduce previous results\n",
      "  warnings.warn(\"The default value of extrap has been changed to False, \"\n"
     ]
    },
    {
     "data": {
      "image/png": "[encoded data removed]",
      "text/plain": [
       "<Figure size 432x288 with 1 Axes>"
      ]
     },
     "metadata": {
      "needs_background": "light"
     },
     "output_type": "display_data"
    }
   ],
   "source": [
    "fig, ax = plt.subplots()\n",
    "pole=0\n",
    "\n",
    "Plots.plot_data(pole=pole, boxes=sub_boxes, ax=ax, plot_args=dict(c='C0', label='data'))\n",
    "Plots.plot_best_fit(fitter=fitter, pole=pole, ax=ax, plot_args=dict(c='k', lw=1, label='best fit'))"
   ]
  }
 ],
 "metadata": {
  "kernelspec": {
   "display_name": "CoLoRe",
   "language": "python",
   "name": "colore"
  },
  "language_info": {
   "codemirror_mode": {
    "name": "ipython",
    "version": 3
   },
   "file_extension": ".py",
   "mimetype": "text/x-python",
   "name": "python",
   "nbconvert_exporter": "python",
   "pygments_lexer": "ipython3",
   "version": "3.8.5"
  }
 },
 "nbformat": 4,
 "nbformat_minor": 5
}
