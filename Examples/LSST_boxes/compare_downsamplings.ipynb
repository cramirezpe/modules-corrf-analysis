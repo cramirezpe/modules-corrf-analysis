{
 "cells": [
  {
   "cell_type": "code",
   "execution_count": 1,
   "id": "f1760d53-b852-490c-a60e-c7741e6ebce4",
   "metadata": {},
   "outputs": [],
   "source": [
    "from CoLoRe_corrf_analysis.plot_methods import Plots\n",
    "from CoLoRe_corrf_analysis.file_funcs import FileFuncs\n",
    "from CoLoRe_corrf_analysis.fitter import Fitter\n",
    "from CoLoRe_corrf_analysis.read_colore import ComputeModelsCoLoRe"
   ]
  },
  {
   "cell_type": "code",
   "execution_count": 2,
   "id": "376424ea-5566-40f4-8191-7fd777ec6f0d",
   "metadata": {},
   "outputs": [],
   "source": [
    "from pathlib import Path\n",
    "import matplotlib.pyplot as plt\n",
    "import numpy as np"
   ]
  },
  {
   "cell_type": "code",
   "execution_count": 3,
   "id": "8b5301b8-8a2d-4292-a679-78bd9980cd60",
   "metadata": {},
   "outputs": [],
   "source": [
    "theory_path = Path('/global/cscratch1/sd/damonge/CoLoRe_sims/sim_bs_1000')\n",
    "bias_filename = Path(f'/global/cscratch1/sd/cramirez/NBodyKit/hanyu_david_box/input_files/BzBlue.txt')\n",
    "nz_filename=Path('/global/cscratch1/sd/cramirez/NBodyKit/hanyu_david_box/input_files/NzRed.txt')\n",
    "pk_filename=Path('/global/cscratch1/sd/cramirez/NBodyKit/hanyu_david_box/input_files/Pk_CAMB_test.dat')\n",
    "\n",
    "theory = ComputeModelsCoLoRe(\n",
    "    box_path=theory_path,\n",
    "    source=2,\n",
    "    nz_filename=nz_filename,\n",
    "    pk_filename=pk_filename,\n",
    "    param_cfg_filename='/global/cscratch1/sd/damonge/CoLoRe_sims/sim1000/out_params.cfg', #I need this to read the cosmological parameters\n",
    "    bias_filename=bias_filename,\n",
    "    apply_lognormal=True)"
   ]
  },
  {
   "cell_type": "code",
   "execution_count": 4,
   "id": "b40cf610-9742-47d6-a918-e87755252432",
   "metadata": {},
   "outputs": [],
   "source": [
    "basedir = Path('/global/cscratch1/sd/cramirez/NBodyKit/hanyu_david_box')"
   ]
  },
  {
   "cell_type": "code",
   "execution_count": 5,
   "id": "3c0954fc-2474-43fe-81f1-24426095f50a",
   "metadata": {},
   "outputs": [],
   "source": [
    "def get_boxes(path, rsd1=False, rsd2=None,\n",
    "                rmin=0.1, rmax=200, N_bins=41,\n",
    "              zmin=0.5, zmax=0.7, nside=2):\n",
    "    return FileFuncs.mix_sims(\n",
    "        FileFuncs.get_full_path(path,\n",
    "                                rsd=rsd1, rsd2=rsd2, \n",
    "                                rmin=rmin, rmax=rmax, N_bins=N_bins,\n",
    "                                zmin=zmin, zmax=zmax, nside=2)\n",
    "    )"
   ]
  },
  {
   "cell_type": "code",
   "execution_count": 6,
   "id": "be4854e1-7bb0-46f8-bdfc-02d312cc11d2",
   "metadata": {},
   "outputs": [],
   "source": [
    "boxes = dict()\n",
    "boxes[1] = get_boxes(basedir / 'analysis')\n",
    "boxes[0.5] = get_boxes(basedir / 'analysis_0.5')"
   ]
  },
  {
   "cell_type": "code",
   "execution_count": 7,
   "id": "f7b41ad4-d060-435c-97f7-faabf6cb9c2e",
   "metadata": {},
   "outputs": [],
   "source": [
    "z = theory.get_zeff(0.5, 0.7)"
   ]
  },
  {
   "cell_type": "code",
   "execution_count": 8,
   "id": "4838ddc8-c13c-4a10-ae46-2e823bf9d86e",
   "metadata": {},
   "outputs": [
    {
     "data": {
      "text/plain": [
       "array(1.37389822)"
      ]
     },
     "execution_count": 8,
     "metadata": {},
     "output_type": "execute_result"
    }
   ],
   "source": [
    "theory.bias(z)"
   ]
  },
  {
   "cell_type": "code",
   "execution_count": 9,
   "id": "9288b038-3057-4064-8453-312ca23f8ba8",
   "metadata": {},
   "outputs": [
    {
     "name": "stderr",
     "output_type": "stream",
     "text": [
      "/global/homes/c/cramirez/.local/cori/3.8-anaconda-2020.11/lib/python3.8/site-packages/mcfit/mcfit.py:126: UserWarning: The default value of lowring has been changed to False, set it to True if you cannot reproduce previous results\n",
      "  warnings.warn(\"The default value of lowring has been changed to False, \"\n",
      "/global/homes/c/cramirez/.local/cori/3.8-anaconda-2020.11/lib/python3.8/site-packages/mcfit/mcfit.py:217: UserWarning: The default value of extrap has been changed to False, set it to True if you cannot reproduce previous results\n",
      "  warnings.warn(\"The default value of extrap has been changed to False, \"\n"
     ]
    },
    {
     "data": {
      "text/plain": [
       "<matplotlib.legend.Legend at 0x2aaabbded160>"
      ]
     },
     "execution_count": 9,
     "metadata": {},
     "output_type": "execute_result"
    },
    {
     "data": {
      "image/png": "[encoded data removed]",
      "text/plain": [
       "<Figure size 432x288 with 1 Axes>"
      ]
     },
     "metadata": {
      "needs_background": "light"
     },
     "output_type": "display_data"
    }
   ],
   "source": [
    "fig, ax = plt.subplots()\n",
    "pole=0\n",
    "\n",
    "downsampling=1\n",
    "Plots.plot_data(pole, boxes[downsampling], ax=ax, plot_args=dict(c='C0', label='1'))\n",
    "downsampling=0.5\n",
    "Plots.plot_data(pole, boxes[downsampling], ax=ax, plot_args=dict(c='C1', label='0.5'))\n",
    "Plots.plot_theory(pole, z=z, theory=theory, ax=ax, rsd=False)\n",
    "ax.legend()"
   ]
  },
  {
   "cell_type": "code",
   "execution_count": 10,
   "id": "ec941e86-0ea7-4348-8563-50f012771ef6",
   "metadata": {},
   "outputs": [],
   "source": [
    "%matplotlib widget"
   ]
  },
  {
   "cell_type": "code",
   "execution_count": null,
   "id": "f2170035-90b9-434a-8ff2-f178b5b229bb",
   "metadata": {},
   "outputs": [],
   "source": []
  }
 ],
 "metadata": {
  "kernelspec": {
   "display_name": "CoLoRe",
   "language": "python",
   "name": "colore"
  },
  "language_info": {
   "codemirror_mode": {
    "name": "ipython",
    "version": 3
   },
   "file_extension": ".py",
   "mimetype": "text/x-python",
   "name": "python",
   "nbconvert_exporter": "python",
   "pygments_lexer": "ipython3",
   "version": "3.8.5"
  }
 },
 "nbformat": 4,
 "nbformat_minor": 5
}
