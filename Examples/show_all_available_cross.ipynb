{
 "cells": [
  {
   "cell_type": "code",
   "execution_count": 1,
   "id": "e13ea10e-2602-4b20-beaa-230b78d802b6",
   "metadata": {
    "tags": []
   },
   "outputs": [],
   "source": [
    "from CoLoRe_corrf_analysis.file_funcs import FileFuncs\n",
    "from pathlib import Path"
   ]
  },
  {
   "cell_type": "code",
   "execution_count": 2,
   "id": "cc1245c5-2981-4322-a02a-77931e4c39c1",
   "metadata": {},
   "outputs": [],
   "source": [
    "basedir = Path('/global/cscratch1/sd/cramirez/NBodyKit/cross_correlations/multibias/')"
   ]
  },
  {
   "cell_type": "code",
   "execution_count": 4,
   "id": "922da374-8ddd-41bd-add2-1892d17f2c68",
   "metadata": {},
   "outputs": [
    {
     "name": "stdout",
     "output_type": "stream",
     "text": [
      "s1_s4_from_CoLoRe\n",
      "+-------+-----------+------+------+--------+------+------+---+\n",
      "| nside |    rsd    | rmin | rmax | N_bins | zmin | zmax | N |\n",
      "+-------+-----------+------+------+--------+------+------+---+\n",
      "|   2   | rsd_norsd | 0.1  | 200  |   41   | 0.5  | 0.7  | 0 |\n",
      "|   2   |  rsd_rsd  | 0.1  | 200  |   41   | 0.5  | 0.7  | 0 |\n",
      "+-------+-----------+------+------+--------+------+------+---+\n",
      "s4_s5_from_CoLoRe\n",
      "+-------+-------------+------+------+--------+------+------+----+\n",
      "| nside |     rsd     | rmin | rmax | N_bins | zmin | zmax | N  |\n",
      "+-------+-------------+------+------+--------+------+------+----+\n",
      "|   2   |  rsd_norsd  | 0.1  | 200  |   41   | 0.5  | 0.7  | 47 |\n",
      "|   2   | norsd_norsd | 0.1  | 200  |   41   | 0.5  | 0.7  | 0  |\n",
      "|   2   |   rsd_rsd   | 0.1  | 200  |   41   | 0.5  | 0.7  | 13 |\n",
      "+-------+-------------+------+------+--------+------+------+----+\n",
      "s1_s4\n",
      "+-------+-----------+------+------+--------+------+------+----+\n",
      "| nside |    rsd    | rmin | rmax | N_bins | zmin | zmax | N  |\n",
      "+-------+-----------+------+------+--------+------+------+----+\n",
      "|   2   | rsd_norsd | 0.1  | 200  |   41   | 0.5  | 0.7  | 48 |\n",
      "+-------+-----------+------+------+--------+------+------+----+\n",
      "s1_s5_from_CoLoRe\n",
      "+-------+-----------+------+------+--------+------+------+----+\n",
      "| nside |    rsd    | rmin | rmax | N_bins | zmin | zmax | N  |\n",
      "+-------+-----------+------+------+--------+------+------+----+\n",
      "|   2   | rsd_norsd | 0.1  | 200  |   41   | 0.5  | 0.7  | 48 |\n",
      "+-------+-----------+------+------+--------+------+------+----+\n"
     ]
    }
   ],
   "source": [
    "for crosspath in basedir.iterdir():\n",
    "    if crosspath.name[0] == 's':\n",
    "        print(crosspath.name)\n",
    "        print(FileFuncs.get_available_runs(crosspath))"
   ]
  }
 ],
 "metadata": {
  "kernelspec": {
   "display_name": "CoLoRe",
   "language": "python",
   "name": "colore"
  },
  "language_info": {
   "codemirror_mode": {
    "name": "ipython",
    "version": 3
   },
   "file_extension": ".py",
   "mimetype": "text/x-python",
   "name": "python",
   "nbconvert_exporter": "python",
   "pygments_lexer": "ipython3",
   "version": "3.8.5"
  }
 },
 "nbformat": 4,
 "nbformat_minor": 5
}
