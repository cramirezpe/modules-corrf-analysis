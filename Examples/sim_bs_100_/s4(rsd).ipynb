{
 "cells": [
  {
   "cell_type": "markdown",
   "id": "e2f30980-9394-4933-a3c6-0b3717470822",
   "metadata": {},
   "source": [
    "$$P_0(k) = <\\delta_{\\rm LN}^{\\rm b_A} \\delta_{\\rm LN}^{\\rm b_A}> + \\frac{f^2}{5}   <\\delta_L \\delta_L> + \\frac{f}{3} \\left(  <\\delta_{\\rm LN}^{\\rm b_A}\\delta_{\\rm L}> +  <\\delta_{\\rm LN}^{\\rm b_A}\\delta_{\\rm L}>\\right)$$\n",
    "\n",
    "$$P_2(k) = \\frac{4}{7} f^2   <\\delta_L \\delta_L> + \\frac{2 f}{3} \\left(  <\\delta_{\\rm LN}^{\\rm b_A}\\delta_{\\rm L}> +  <\\delta_{\\rm LN}^{\\rm b_A}\\delta_{\\rm L}>\\right)$$\n",
    "\n"
   ]
  },
  {
   "cell_type": "markdown",
   "id": "14b8dfc2-f145-43ad-a797-75017b350ebe",
   "metadata": {},
   "source": [
    "___"
   ]
  },
  {
   "cell_type": "code",
   "execution_count": 1,
   "id": "e7b69a3f-8953-4343-a6fd-d7cde82ba177",
   "metadata": {},
   "outputs": [],
   "source": [
    "from CoLoRe_corrf_analysis.plot_methods import Plots\n",
    "from CoLoRe_corrf_analysis.file_funcs import FileFuncs\n",
    "from CoLoRe_corrf_analysis.fitter import Fitter\n",
    "from CoLoRe_corrf_analysis.read_colore import ComputeModelsCoLoRe"
   ]
  },
  {
   "cell_type": "code",
   "execution_count": 2,
   "id": "d160bf21-b902-453f-a9e2-9581c7d8a146",
   "metadata": {},
   "outputs": [],
   "source": [
    "from pathlib import Path\n",
    "import matplotlib.pyplot as plt\n",
    "import numpy as np"
   ]
  },
  {
   "cell_type": "code",
   "execution_count": 3,
   "id": "6428d048-2497-485a-81a6-3022ef90bf32",
   "metadata": {},
   "outputs": [],
   "source": [
    "source1=4\n",
    "rsd1=True\n",
    "bias1=None # Set to None if you want to read it from bz file\n",
    "\n",
    "\n",
    "# Set all 2nd properties to None if you want auto-correlations\n",
    "source2=None\n",
    "rsd2=None\n",
    "bias2=None\n",
    "\n",
    "\n",
    "assert (source2==None)==(rsd2==None)\n",
    "if source2!=None and source2>=source1:\n",
    "    raise ValueError('sources must be sorted to match folders')\n",
    "if (source2==None) and (bias2!=None):\n",
    "    raise ValueError('Bias != None in autocorrelation will give wrong results!')"
   ]
  },
  {
   "cell_type": "code",
   "execution_count": 4,
   "id": "f72f4858-4821-427e-8698-6d624c1d3240",
   "metadata": {},
   "outputs": [],
   "source": [
    "basedir = Path('/global/cscratch1/sd/cramirez/NBodyKit/cross_correlations/multibias')\n",
    "if source2!=None:\n",
    "    boxes_path = basedir / f's{source1}_s{source2}'\n",
    "else:\n",
    "    boxes_path = basedir / f's{source1}/analysis'"
   ]
  },
  {
   "cell_type": "code",
   "execution_count": 5,
   "id": "b0047f8a-fa0c-4366-872f-0ca588bee79e",
   "metadata": {},
   "outputs": [
    {
     "name": "stdout",
     "output_type": "stream",
     "text": [
      "+-------+-------+------+------+--------+------+------+----+\n",
      "| nside |  rsd  | rmin | rmax | N_bins | zmin | zmax | N  |\n",
      "+-------+-------+------+------+--------+------+------+----+\n",
      "|   2   |  rsd  | 0.1  | 200  |   41   | 0.5  | 0.7  | 48 |\n",
      "|   2   |  rsd  | 0.1  | 200  |   41   | 0.7  | 0.9  | 48 |\n",
      "|   2   | norsd | 0.1  | 200  |   41   | 0.5  | 0.7  | 48 |\n",
      "|   2   | norsd | 0.1  | 200  |   41   | 0.7  | 0.9  | 48 |\n",
      "+-------+-------+------+------+--------+------+------+----+\n"
     ]
    }
   ],
   "source": [
    "print(FileFuncs.get_available_runs(boxes_path))"
   ]
  },
  {
   "cell_type": "code",
   "execution_count": 6,
   "id": "b1b46ca6-4c37-4b73-affd-cb6bfc963faf",
   "metadata": {},
   "outputs": [],
   "source": [
    "zmin=0.5\n",
    "zmax=0.7"
   ]
  },
  {
   "cell_type": "markdown",
   "id": "a5fc0f0b-a795-491e-b58a-085e91b8edbd",
   "metadata": {},
   "source": [
    "Theory object for the first source."
   ]
  },
  {
   "cell_type": "code",
   "execution_count": 7,
   "id": "8ba26492-e381-4ada-ba2f-d75cb1d045ec",
   "metadata": {},
   "outputs": [],
   "source": [
    "theory_path = Path('/global/cscratch1/sd/damonge/CoLoRe_sims/sim_bs_1000')\n",
    "bias_filename = Path(f'/global/cscratch1/sd/cramirez/NBodyKit/multibias/input_files/Bz_s{source1}.txt')\n",
    "nz_filename=Path('/global/cscratch1/sd/cramirez/NBodyKit/hanyu_david_box/input_files/NzBlue.txt')\n",
    "pk_filename=Path('/global/cscratch1/sd/cramirez/NBodyKit/hanyu_david_box/input_files/Pk_CAMB_test.dat')\n",
    "\n",
    "theory = ComputeModelsCoLoRe(\n",
    "    box_path=theory_path,\n",
    "    source=source1,\n",
    "    nz_filename=nz_filename,\n",
    "    pk_filename=pk_filename,\n",
    "    param_cfg_filename='/global/cscratch1/sd/damonge/CoLoRe_sims/sim1000/out_params.cfg', #I need this to read the cosmological parameters\n",
    "    bias_filename=bias_filename,\n",
    "    apply_lognormal=True)\n",
    "\n",
    "z=theory.get_zeff(zmin=zmin, zmax=zmax)\n",
    "\n",
    "if bias1 == None:\n",
    "    bias1 = theory.bias(z)\n",
    "\n",
    "if bias2==None and source2!=None:\n",
    "    bias_filename2=bias_filename.parent / f'Bz_s{source2}.txt'\n",
    "    theory2 = ComputeModelsCoLoRe(\n",
    "        box_path=theory_path,\n",
    "        source=source2,\n",
    "        nz_filename=nz_filename,\n",
    "        pk_filename=pk_filename,\n",
    "        param_cfg_filename='/global/cscratch1/sd/damonge/CoLoRe_sims/sim1000/out_params.cfg', #I need this to read the cosmological parameters\n",
    "        bias_filename=bias_filename2,\n",
    "        apply_lognormal=True)\n",
    "    bias2=theory2.bias(z)"
   ]
  },
  {
   "cell_type": "markdown",
   "id": "52e8da89-d49c-439f-b83c-ecd07ef4dd56",
   "metadata": {},
   "source": [
    "Getting **sub_boxes** with data: (sub_boxes because we handle pixes independently, 1 pixel = 1 sub_box)"
   ]
  },
  {
   "cell_type": "code",
   "execution_count": 8,
   "id": "b9299712-71dd-4604-821f-63bc14eef626",
   "metadata": {},
   "outputs": [
    {
     "data": {
      "text/plain": [
       "48"
      ]
     },
     "execution_count": 8,
     "metadata": {},
     "output_type": "execute_result"
    }
   ],
   "source": [
    "sub_boxes = FileFuncs.mix_sims(\n",
    "    FileFuncs.get_full_path(boxes_path,\n",
    "                            rsd=rsd1, rsd2=rsd2, #Must specify here rsd2 \n",
    "                            rmin=0.1, rmax=200, N_bins=41,\n",
    "                            zmin=zmin, zmax=zmax, #Also results for 0.7 and 0.9\n",
    "                            nside=2)\n",
    ")\n",
    "\n",
    "len(sub_boxes)"
   ]
  },
  {
   "cell_type": "code",
   "execution_count": 9,
   "id": "b174af95-b8b1-44c6-87bb-ca4b56339167",
   "metadata": {},
   "outputs": [
    {
     "name": "stderr",
     "output_type": "stream",
     "text": [
      "/global/homes/c/cramirez/.local/cori/3.8-anaconda-2020.11/lib/python3.8/site-packages/mcfit/mcfit.py:126: UserWarning: The default value of lowring has been changed to False, set it to True if you cannot reproduce previous results\n",
      "  warnings.warn(\"The default value of lowring has been changed to False, \"\n",
      "/global/homes/c/cramirez/.local/cori/3.8-anaconda-2020.11/lib/python3.8/site-packages/mcfit/mcfit.py:217: UserWarning: The default value of extrap has been changed to False, set it to True if you cannot reproduce previous results\n",
      "  warnings.warn(\"The default value of extrap has been changed to False, \"\n",
      "/global/homes/c/cramirez/.local/cori/3.8-anaconda-2020.11/lib/python3.8/site-packages/mcfit/mcfit.py:126: UserWarning: The default value of lowring has been changed to False, set it to True if you cannot reproduce previous results\n",
      "  warnings.warn(\"The default value of lowring has been changed to False, \"\n",
      "/global/homes/c/cramirez/.local/cori/3.8-anaconda-2020.11/lib/python3.8/site-packages/mcfit/mcfit.py:217: UserWarning: The default value of extrap has been changed to False, set it to True if you cannot reproduce previous results\n",
      "  warnings.warn(\"The default value of extrap has been changed to False, \"\n"
     ]
    },
    {
     "data": {
      "image/png": "[encoded data removed]",
      "text/plain": [
       "<Figure size 432x288 with 1 Axes>"
      ]
     },
     "metadata": {
      "needs_background": "light"
     },
     "output_type": "display_data"
    }
   ],
   "source": [
    "fig, ax = plt.subplots()\n",
    "pole=2\n",
    "Plots.plot_data(pole, sub_boxes, ax=ax, plot_args=dict(c='C0'))\n",
    "Plots.plot_theory(pole, z=z, theory=theory, ax=ax, bias=bias1, bias2=bias2, rsd=rsd1, rsd2=rsd2, plot_args=dict(alpha=0.5, c='C1'))\n",
    "pole=0\n",
    "Plots.plot_data(pole, sub_boxes, ax=ax, plot_args=dict(c='C0'))\n",
    "Plots.plot_theory(pole, z=z, theory=theory, ax=ax, bias=bias1, bias2=bias2, rsd=rsd1, rsd2=rsd2, plot_args=dict(alpha=0.5, c='C1'))\n",
    "ax.set_title(f'bias1={bias1} bias2={bias2}');"
   ]
  },
  {
   "cell_type": "code",
   "execution_count": 10,
   "id": "4bafa92b-580d-408d-934b-e71f7693ab7c",
   "metadata": {},
   "outputs": [
    {
     "name": "stderr",
     "output_type": "stream",
     "text": [
      "/global/homes/c/cramirez/.local/cori/3.8-anaconda-2020.11/lib/python3.8/site-packages/mcfit/mcfit.py:126: UserWarning: The default value of lowring has been changed to False, set it to True if you cannot reproduce previous results\n",
      "  warnings.warn(\"The default value of lowring has been changed to False, \"\n",
      "/global/homes/c/cramirez/.local/cori/3.8-anaconda-2020.11/lib/python3.8/site-packages/mcfit/mcfit.py:217: UserWarning: The default value of extrap has been changed to False, set it to True if you cannot reproduce previous results\n",
      "  warnings.warn(\"The default value of extrap has been changed to False, \"\n"
     ]
    },
    {
     "data": {
      "text/html": [
       "<h2>Fit Statistics</h2><table><tr><td>fitting method</td><td>leastsq</td><td></td></tr><tr><td># function evals</td><td>9</td><td></td></tr><tr><td># data points</td><td>70</td><td></td></tr><tr><td># variables</td><td>1</td><td></td></tr><tr><td>chi-square</td><td> 3445.96470</td><td></td></tr><tr><td>reduced chi-square</td><td> 49.9415174</td><td></td></tr><tr><td>Akaike info crit.</td><td> 274.752475</td><td></td></tr><tr><td>Bayesian info crit.</td><td> 277.000970</td><td></td></tr></table><h2>Variables</h2><table><tr><th> name </th><th> value </th><th> standard error </th><th> relative error </th><th> initial value </th><th> min </th><th> max </th><th> vary </th></tr><tr><td> bias </td><td>  1.11498663 </td><td>  0.00144309 </td><td> (0.13%) </td><td> 1.0 </td><td>  0.00000000 </td><td>         inf </td><td> True </td></tr><tr><td> smooth_factor </td><td>  1.00000000 </td><td>  0.00000000 </td><td> (0.00%) </td><td> 1 </td><td>  0.00000000 </td><td>         inf </td><td> False </td></tr><tr><td> smooth_factor_rsd </td><td>  1.00000000 </td><td>  0.00000000 </td><td> (0.00%) </td><td> 1 </td><td>  0.00000000 </td><td>         inf </td><td> False </td></tr><tr><td> smooth_factor_cross </td><td>  1.00000000 </td><td>  0.00000000 </td><td> (0.00%) </td><td> 1 </td><td>  0.00000000 </td><td>         inf </td><td> False </td></tr></table>"
      ],
      "text/plain": [
       "<lmfit.minimizer.MinimizerResult at 0x2aaae6224d30>"
      ]
     },
     "execution_count": 10,
     "metadata": {},
     "output_type": "execute_result"
    }
   ],
   "source": [
    "fitter = Fitter(boxes=sub_boxes, z=z, theory=theory, poles=[0, 2], rsd=rsd1, rsd2=rsd2,\n",
    "                bias0=bias1, bias20=bias2, smooth_factor0=1, smooth_factor_rsd0=1, smooth_factor_cross0=1)\n",
    "\n",
    "fitter.run_fit(free_params=['bias', 'bias2'])"
   ]
  },
  {
   "cell_type": "code",
   "execution_count": 11,
   "id": "286824db-f2e2-43d6-bfce-944e26fa3222",
   "metadata": {},
   "outputs": [
    {
     "name": "stderr",
     "output_type": "stream",
     "text": [
      "/global/homes/c/cramirez/.local/cori/3.8-anaconda-2020.11/lib/python3.8/site-packages/mcfit/mcfit.py:126: UserWarning: The default value of lowring has been changed to False, set it to True if you cannot reproduce previous results\n",
      "  warnings.warn(\"The default value of lowring has been changed to False, \"\n",
      "/global/homes/c/cramirez/.local/cori/3.8-anaconda-2020.11/lib/python3.8/site-packages/mcfit/mcfit.py:217: UserWarning: The default value of extrap has been changed to False, set it to True if you cannot reproduce previous results\n",
      "  warnings.warn(\"The default value of extrap has been changed to False, \"\n"
     ]
    },
    {
     "data": {
      "image/png": "[encoded data removed]",
      "text/plain": [
       "<Figure size 432x288 with 1 Axes>"
      ]
     },
     "metadata": {
      "needs_background": "light"
     },
     "output_type": "display_data"
    }
   ],
   "source": [
    "fig, ax = plt.subplots()\n",
    "pole=2\n",
    "\n",
    "Plots.plot_data(pole=pole, boxes=sub_boxes, ax=ax, plot_args=dict(c='C0', label='data'))\n",
    "Plots.plot_best_fit(fitter=fitter, pole=pole, ax=ax, plot_args=dict(c='k', lw=1, label='best fit'))\n",
    "\n",
    "pole=0\n",
    "\n",
    "Plots.plot_data(pole=pole, boxes=sub_boxes, ax=ax, plot_args=dict(c='C0', label='data'))\n",
    "Plots.plot_best_fit(fitter=fitter, pole=pole, ax=ax, plot_args=dict(c='k', lw=1, label='best fit'))"
   ]
  }
 ],
 "metadata": {
  "kernelspec": {
   "display_name": "CoLoRe",
   "language": "python",
   "name": "colore"
  },
  "language_info": {
   "codemirror_mode": {
    "name": "ipython",
    "version": 3
   },
   "file_extension": ".py",
   "mimetype": "text/x-python",
   "name": "python",
   "nbconvert_exporter": "python",
   "pygments_lexer": "ipython3",
   "version": "3.8.5"
  }
 },
 "nbformat": 4,
 "nbformat_minor": 5
}
