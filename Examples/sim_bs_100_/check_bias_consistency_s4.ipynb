{
 "cells": [
  {
   "cell_type": "markdown",
   "id": "7259a310-12f8-419d-ad35-86711c32ad7f",
   "metadata": {
    "tags": []
   },
   "source": [
    "# Check consistency of bias between different measurements.\n",
    "\n",
    "There are x measurements:\n",
    "- autocorrelation (noRSD). Lognormal term\n",
    "- cross-correlation with unclustered (noRSD). cross-term\n",
    "- cross-correlation with unclustered (RSD). rsd-term + cross-term"
   ]
  },
  {
   "cell_type": "code",
   "execution_count": 1,
   "id": "d409ee56-7a3a-4fa5-90fb-ada222949190",
   "metadata": {},
   "outputs": [],
   "source": [
    "source=4\n",
    "source_alt=5"
   ]
  },
  {
   "cell_type": "code",
   "execution_count": 2,
   "id": "dbdd2183-b9ed-416a-aa46-6926590873b3",
   "metadata": {},
   "outputs": [],
   "source": [
    "from CoLoRe_corrf_analysis.plot_methods import Plots\n",
    "from CoLoRe_corrf_analysis.file_funcs import FileFuncs\n",
    "from CoLoRe_corrf_analysis.fitter import Fitter\n",
    "from CoLoRe_corrf_analysis.read_colore import ComputeModelsCoLoRe\n",
    "\n",
    "from pathlib import Path\n",
    "import matplotlib.pyplot as plt\n",
    "import numpy as np"
   ]
  },
  {
   "cell_type": "code",
   "execution_count": 3,
   "id": "d296ca83-41ed-4a49-98f2-f6ce59c403bf",
   "metadata": {},
   "outputs": [],
   "source": [
    "theory_path=Path('/global/cscratch1/sd/damonge/CoLoRe_sims/sim1000')\n",
    "bias_filename=Path('/global/cscratch1/sd/cramirez/NBodyKit/hanyu_david_box/input_files/BzBlue.txt')\n",
    "nz_filename=Path('/global/cscratch1/sd/cramirez/NBodyKit/hanyu_david_box/input_files/NzBlue.txt')\n",
    "pk_filename=Path('/global/cscratch1/sd/cramirez/NBodyKit/hanyu_david_box/input_files/Pk_CAMB_test.dat')"
   ]
  },
  {
   "cell_type": "code",
   "execution_count": 4,
   "id": "326e3528-2364-4a9c-a36b-1c5a958d1b19",
   "metadata": {},
   "outputs": [],
   "source": [
    "theory = ComputeModelsCoLoRe(\n",
    "    box_path=theory_path,\n",
    "    source=2,\n",
    "    nz_filename=nz_filename,\n",
    "    pk_filename=pk_filename,\n",
    "    param_cfg_filename='/global/cscratch1/sd/damonge/CoLoRe_sims/sim1000/out_params.cfg',\n",
    "    bias_filename=bias_filename,\n",
    "    apply_lognormal=True)"
   ]
  },
  {
   "cell_type": "code",
   "execution_count": 58,
   "id": "d24d496d-25af-4181-aea7-b68205bb7098",
   "metadata": {},
   "outputs": [],
   "source": [
    "class HelpGetFit:\n",
    "    def __init__(self, boxes_path, zmin, zmax, rsd, rsd2, free_params=['bias'], fitter_args=dict()):\n",
    "        self.boxes_path = boxes_path\n",
    "        self.zmin = zmin\n",
    "        self.zmax = zmax\n",
    "        self.rsd = rsd\n",
    "        self.rsd2 = rsd2\n",
    "        self.free_params = free_params\n",
    "        self.fitter_args= fitter_args\n",
    "\n",
    "    def run_process(self):\n",
    "        self.get_boxes()\n",
    "        self.do_fit()\n",
    "    \n",
    "    def get_boxes(self):\n",
    "        self.sub_boxes = FileFuncs.mix_sims(\n",
    "            FileFuncs.get_full_path(self.boxes_path,\n",
    "                                    rsd=self.rsd, rsd2=self.rsd2,\n",
    "                                    rmin=0.1, rmax=200, N_bins=41,\n",
    "                                    zmin=self.zmin, zmax=self.zmax,\n",
    "                                    nside=2)\n",
    "        )\n",
    "        \n",
    "        self.z = theory.get_zeff(zmin=self.zmin, zmax=self.zmax)\n",
    "        \n",
    "    def do_fit(self):\n",
    "        self.fitter = Fitter(boxes=self.sub_boxes, z=self.z, theory=theory, poles=[0,2],\n",
    "                        rsd=self.rsd, rsd2=self.rsd2, smooth_factor0=1, smooth_factor_rsd0=1,\n",
    "                        smooth_factor_cross0=1, **self.fitter_args)\n",
    "        \n",
    "        _ = self.fitter.run_fit(self.free_params)\n",
    "        \n",
    "    def print_parameter(self, param='bias'):\n",
    "        print(f'{self.fitter.out.params[param].value} +- {self.fitter.out.params[param].stderr}')\n"
   ]
  },
  {
   "cell_type": "code",
   "execution_count": 88,
   "id": "4e2c5cca-2ccc-431e-84aa-b1dbdeff7099",
   "metadata": {},
   "outputs": [],
   "source": [
    "autocorrelation=HelpGetFit(\n",
    "    f'/global/cscratch1/sd/cramirez/NBodyKit/multibias/s{source}/analysis', \n",
    "    zmin=0.5, zmax=0.7, rsd=False, rsd2=None, free_params=['bias'])\n",
    "\n",
    "autocorrelation.run_process()"
   ]
  },
  {
   "cell_type": "code",
   "execution_count": 48,
   "id": "2bdf9e77-ed48-4d5c-bcbc-dc255fd2ae74",
   "metadata": {},
   "outputs": [],
   "source": [
    "autocorrelation_rsd = HelpGetFit(\n",
    "    f'/global/cscratch1/sd/cramirez/NBodyKit/multibias/s{source}/analysis',\n",
    "    zmin=0.5, zmax=0.7, rsd=True, rsd2=None, free_params=['bias'])\n",
    "autocorrelation_rsd.run_process()"
   ]
  },
  {
   "cell_type": "code",
   "execution_count": 50,
   "id": "69627ff1-8a83-40aa-ae5e-3e8c3e60a399",
   "metadata": {},
   "outputs": [],
   "source": [
    "cross_correlation_with_unclustered_norsd = HelpGetFit(\n",
    "    f'/global/cscratch1/sd/cramirez/NBodyKit/cross_correlations/multibias/s1_s{source}_from_CoLoRe',\n",
    "    zmin=0.5, zmax=0.7, rsd=True, rsd2=False, free_params=['bias', 'bias2'])\n",
    "cross_correlation_with_unclustered_norsd.run_process()"
   ]
  },
  {
   "cell_type": "code",
   "execution_count": 75,
   "id": "128f3ade-cd76-4635-b82f-253e7af33b85",
   "metadata": {},
   "outputs": [],
   "source": [
    "cross_correlation_with_unclustered_rsd = HelpGetFit(\n",
    "    f'/global/cscratch1/sd/cramirez/NBodyKit/cross_correlations/multibias/s1_s}_from_CoLoRe',\n",
    "    zmin=0.5, zmax=0.7, rsd=True, rsd2=True, free_params=['bias', 'bias2'],\n",
    "    fitter_args=dict(bias20=2, bias0=0.01))\n",
    "cross_correlation_with_unclustered_rsd.run_process()"
   ]
  },
  {
   "cell_type": "code",
   "execution_count": 113,
   "id": "76d2668f-7828-416b-be86-240579bb4449",
   "metadata": {},
   "outputs": [],
   "source": [
    "cross_correlation_with_clustered_rsd = HelpGetFit(\n",
    "    f'/global/cscratch1/sd/cramirez/NBodyKit/cross_correlations/multibias/s4_s5_from_CoLoRe',\n",
    "    zmin=0.5, zmax=0.7, rsd=True, rsd2=True, free_params=['bias', 'bias2'],\n",
    "    fitter_args=dict(bias20=2, bias0=1))\n",
    "cross_correlation_with_clustered_rsd.run_process()"
   ]
  },
  {
   "cell_type": "code",
   "execution_count": 126,
   "id": "5c6ef336-d817-46a8-b3a5-175760857bd0",
   "metadata": {},
   "outputs": [],
   "source": [
    "cross_correlation_with_clustered_no_rsd = HelpGetFit(\n",
    "    f'/global/cscratch1/sd/cramirez/NBodyKit/cross_correlations/multibias/s4_s5_from_CoLoRe',\n",
    "    zmin=0.5, zmax=0.7, rsd=False, rsd2=False, free_params=['bias'],\n",
    "    fitter_args=dict(bias20=1.495, bias0=1.1))\n",
    "cross_correlation_with_clustered_no_rsd.run_process()"
   ]
  },
  {
   "cell_type": "code",
   "execution_count": 120,
   "id": "a35a6364-c1ab-4f91-9354-2dfaf2aeae9b",
   "metadata": {},
   "outputs": [],
   "source": [
    "cross_correlation_with_clustered_rsd_norsd = HelpGetFit(\n",
    "    f'/global/cscratch1/sd/cramirez/NBodyKit/cross_correlations/multibias/s4_s5_from_CoLoRe',\n",
    "    zmin=0.5, zmax=0.7, rsd=True, rsd2=False, free_params=['bias', 'bias2'],\n",
    "    fitter_args=dict(bias20=2, bias0=1))\n",
    "cross_correlation_with_clustered_rsd_norsd.run_process()"
   ]
  },
  {
   "cell_type": "code",
   "execution_count": 121,
   "id": "d45a73b1-a463-441b-b124-ae9f626bc234",
   "metadata": {},
   "outputs": [],
   "source": [
    "from tabulate import tabulate"
   ]
  },
  {
   "cell_type": "code",
   "execution_count": 132,
   "id": "6e7b2883-8f73-4069-959f-0da549d62502",
   "metadata": {},
   "outputs": [],
   "source": [
    "header = ['correlation', 's4 bias', 'stderr']"
   ]
  },
  {
   "cell_type": "code",
   "execution_count": 133,
   "id": "e97bfdc3-b895-47ea-acb0-668c595e565e",
   "metadata": {},
   "outputs": [],
   "source": [
    "cols = []\n",
    "probes = (f's{source}_s{source}', f's{source}_s{source}(rsd)', f's1_s{source}', f's1_s{source}(rsd)', f's5(rsd)_s4(rsd)', f's5(norsd)_s4(norsd)', f's5(norsd)_s4(rsd)')\n",
    "objects = (autocorrelation, autocorrelation_rsd, cross_correlation_with_unclustered_norsd,cross_correlation_with_unclustered_rsd, cross_correlation_with_clustered_rsd, cross_correlation_with_clustered_no_rsd, cross_correlation_with_clustered_rsd_norsd)\n",
    "params = ('bias','bias','bias2','bias2', 'bias', 'bias', 'bias')\n",
    "for probe, obj, param in zip(probes, objects, params):\n",
    "    cols.append([probe, obj.fitter.out.params[param].value, obj.fitter.out.params[param].stderr])"
   ]
  },
  {
   "cell_type": "code",
   "execution_count": 134,
   "id": "d8bda666-74dd-4edb-8dfe-d3e7d282c6bc",
   "metadata": {},
   "outputs": [
    {
     "name": "stdout",
     "output_type": "stream",
     "text": [
      "+---------------------+--------------------+-----------------------+\n",
      "|     correlation     |      s4 bias       |        stderr         |\n",
      "+---------------------+--------------------+-----------------------+\n",
      "|        s4_s4        | 1.1300317291598896 | 0.0012321789415746928 |\n",
      "|     s4_s4(rsd)      | 1.1149866313014565 | 0.0014430859483775752 |\n",
      "|        s1_s4        | 1.1311786886187924 | 0.002418562282664259  |\n",
      "|     s1_s4(rsd)      | 1.0897477965596876 |                       |\n",
      "|   s5(rsd)_s4(rsd)   | 0.9896365534059544 |  0.05368156441501485  |\n",
      "| s5(norsd)_s4(norsd) | 1.110250048486757  | 0.0025567124046930634 |\n",
      "|  s5(norsd)_s4(rsd)  | 1.1004365579133997 | 0.015026540358090432  |\n",
      "+---------------------+--------------------+-----------------------+\n"
     ]
    }
   ],
   "source": [
    "print(tabulate(cols, header, tablefmt='pretty'))"
   ]
  },
  {
   "cell_type": "code",
   "execution_count": null,
   "id": "39042185-9ba9-4a04-83bd-0f34cee0b30f",
   "metadata": {},
   "outputs": [],
   "source": []
  },
  {
   "cell_type": "code",
   "execution_count": null,
   "id": "4d3f6f36-0e80-44cc-8de5-9dbdd3c57fb7",
   "metadata": {},
   "outputs": [],
   "source": []
  }
 ],
 "metadata": {
  "kernelspec": {
   "display_name": "CoLoRe",
   "language": "python",
   "name": "colore"
  },
  "language_info": {
   "codemirror_mode": {
    "name": "ipython",
    "version": 3
   },
   "file_extension": ".py",
   "mimetype": "text/x-python",
   "name": "python",
   "nbconvert_exporter": "python",
   "pygments_lexer": "ipython3",
   "version": "3.8.5"
  }
 },
 "nbformat": 4,
 "nbformat_minor": 5
}
