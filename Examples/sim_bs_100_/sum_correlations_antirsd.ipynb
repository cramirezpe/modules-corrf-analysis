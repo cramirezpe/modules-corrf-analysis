{
 "cells": [
  {
   "cell_type": "markdown",
   "id": "2830b648-be2c-4937-a451-cbaed04887ad",
   "metadata": {},
   "source": [
    "# Why sum correlations?\n",
    "Since all the terms in the cross-correlations checked independently seem to work, we now want to check if we can reproduce the problem by combining the different terms obtained separatedly."
   ]
  },
  {
   "cell_type": "code",
   "execution_count": null,
   "id": "fb6446e5-f54d-4057-b66d-5a006899c42d",
   "metadata": {},
   "outputs": [],
   "source": [
    "import numpy as np"
   ]
  },
  {
   "cell_type": "code",
   "execution_count": 1,
   "id": "a554cc63-925d-45fd-8ed9-258ca781f00d",
   "metadata": {},
   "outputs": [],
   "source": [
    "# from CoLoRe_corrf_analysis.plot_methods import Plots\n",
    "# from CoLoRe_corrf_analysis.file_funcs import FileFuncs\n",
    "# from CoLoRe_corrf_analysis.fitter import Fitter\n",
    "# from CoLoRe_corrf_analysis.read_colore import ComputeModelsCoLoRe\n",
    "from CoLoRe_corrf_analysis.rsd_antirsd_terms import Term, CombineTerms, MixedTerm, AndreuTerms, TermsPlots\n",
    "\n",
    "from pathlib import Path\n",
    "from functools import cached_property\n",
    "import matplotlib.pyplot as plt\n",
    "import numpy as np"
   ]
  },
  {
   "cell_type": "code",
   "execution_count": 2,
   "id": "27f6f0ac-8835-4771-9309-3032b5a7b223",
   "metadata": {},
   "outputs": [],
   "source": [
    "from CoLoRe_corrf_analysis.plot_methods import Plots\n",
    "from CoLoRe_corrf_analysis.file_funcs import FileFuncs\n",
    "from CoLoRe_corrf_analysis.fitter import Fitter\n",
    "from CoLoRe_corrf_analysis.read_colore import ComputeModelsCoLoRe\n",
    "from CoLoRe_corrf_analysis.rsd_antirsd_terms import Term, TermsPlots, AndreuTerms, CombineTerms\n",
    "\n",
    "from pathlib import Path\n",
    "from functools import cached_property\n",
    "import matplotlib.pyplot as plt\n",
    "import numpy as np"
   ]
  },
  {
   "cell_type": "code",
   "execution_count": 3,
   "id": "380f7ea7-f62c-4124-a754-afb3983412f9",
   "metadata": {},
   "outputs": [],
   "source": [
    "terms = AndreuTerms.create_Andreu_terms()"
   ]
  },
  {
   "cell_type": "code",
   "execution_count": 4,
   "id": "1b902aae-6221-4c06-bc72-400584737fcd",
   "metadata": {},
   "outputs": [],
   "source": [
    "def plot_sum(ax, positive, negative=[], poles=[0,2], c=['C0'], **kwargs):\n",
    "    positive = [terms[_item] for _item in positive]\n",
    "    negative = [terms[_item] for _item in negative]\n",
    "    if type(c) == str:\n",
    "        c = [c for i in poles]\n",
    "    elif len(poles) != len(c):\n",
    "        c = [c[0] for i in poles]\n",
    "        \n",
    "    for pole, ci in zip(poles, c):\n",
    "        _dataxi, _dataxierr = CombineTerms.sum_data(pole, positive, negative)\n",
    "        _modelxi = CombineTerms.sum_models(pole, positive, negative)\n",
    "        \n",
    "        label = \"+\".join(map(str, positive))\n",
    "        if len(negative) > 0:\n",
    "            label += \"-\"+\"-\".join(map(str, negative))\n",
    "        \n",
    "        rmodel = positive[0].rmodel\n",
    "        rdata = positive[0].rdata\n",
    "        \n",
    "        ax.plot(rmodel, rmodel**2*_modelxi, c=ci, label=label, **kwargs)\n",
    "        ax.errorbar(rdata, rdata**2*_dataxi, rdata**2*_dataxierr, c=ci, fmt='.', **kwargs)"
   ]
  },
  {
   "cell_type": "code",
   "execution_count": 50,
   "id": "f08b71b0-397d-4541-bd26-cf30b93b8f08",
   "metadata": {},
   "outputs": [],
   "source": [
    "terms = AndreuTerms.create_Andreu_terms()"
   ]
  },
  {
   "cell_type": "markdown",
   "id": "80ccc838-a05c-4453-94ae-8ef682762d17",
   "metadata": {
    "tags": []
   },
   "source": [
    "# Plots"
   ]
  },
  {
   "cell_type": "code",
   "execution_count": 6,
   "id": "ea16e3f7-7f74-4804-ace8-8806bec91a02",
   "metadata": {},
   "outputs": [],
   "source": [
    "%matplotlib widget"
   ]
  },
  {
   "cell_type": "code",
   "execution_count": 7,
   "id": "5a7d68b1-146b-4a5a-afa9-b70de84a92b2",
   "metadata": {},
   "outputs": [],
   "source": [
    "mixed_term = MixedTerm.mix_terms_from_array(terms, positive_indices=[3,7], negative_indices=[2,2])"
   ]
  },
  {
   "cell_type": "code",
   "execution_count": 8,
   "id": "935b5569-936b-4645-b84f-1ffc304e848f",
   "metadata": {},
   "outputs": [],
   "source": [
    "corrected_6 = MixedTerm.mix_terms_from_array(terms,\n",
    "            positive_indices=[6],\n",
    "            negative_indices=[13, 12, 12, 11, 11])"
   ]
  },
  {
   "cell_type": "code",
   "execution_count": 61,
   "id": "cf164091-b723-4ccb-b0f6-31b2815bb45d",
   "metadata": {},
   "outputs": [
    {
     "data": {
      "application/vnd.jupyter.widget-view+json": {
       "model_id": "bf0e657d39454e388f5e3e41d425f7f6",
       "version_major": 2,
       "version_minor": 0
      },
      "text/plain": [
       "Canvas(toolbar=Toolbar(toolitems=[('Home', 'Reset original view', 'home', 'home'), ('Back', 'Back to previous …"
      ]
     },
     "metadata": {},
     "output_type": "display_data"
    },
    {
     "name": "stderr",
     "output_type": "stream",
     "text": [
      "/global/homes/c/cramirez/.local/cori/3.8-anaconda-2020.11/lib/python3.8/site-packages/mcfit/mcfit.py:126: UserWarning: The default value of lowring has been changed to False, set it to True if you cannot reproduce previous results\n",
      "  warnings.warn(\"The default value of lowring has been changed to False, \"\n",
      "/global/homes/c/cramirez/.local/cori/3.8-anaconda-2020.11/lib/python3.8/site-packages/mcfit/mcfit.py:217: UserWarning: The default value of extrap has been changed to False, set it to True if you cannot reproduce previous results\n",
      "  warnings.warn(\"The default value of extrap has been changed to False, \"\n",
      "/global/homes/c/cramirez/.local/cori/3.8-anaconda-2020.11/lib/python3.8/site-packages/mcfit/mcfit.py:126: UserWarning: The default value of lowring has been changed to False, set it to True if you cannot reproduce previous results\n",
      "  warnings.warn(\"The default value of lowring has been changed to False, \"\n",
      "/global/homes/c/cramirez/.local/cori/3.8-anaconda-2020.11/lib/python3.8/site-packages/mcfit/mcfit.py:217: UserWarning: The default value of extrap has been changed to False, set it to True if you cannot reproduce previous results\n",
      "  warnings.warn(\"The default value of extrap has been changed to False, \"\n"
     ]
    },
    {
     "data": {
      "text/plain": [
       "<matplotlib.legend.Legend at 0x2aaaef3b6e20>"
      ]
     },
     "execution_count": 61,
     "metadata": {},
     "output_type": "execute_result"
    }
   ],
   "source": [
    "fig, ax = plt.subplots()\n",
    "\n",
    "pole = 0\n",
    "_terms = terms[6], corrected_6\n",
    "_deltas = 0, 0.3\n",
    "_colors = 'C0', 'C1'\n",
    "_labels = 'non-corrected', 'corrected'\n",
    "for _term, _delta, _ci, _label in zip(_terms, _deltas, _colors, _labels):\n",
    "    _dataxi, _dataxierr = _term.data(pole)\n",
    "    _rdata = _term.rdata + np.diff(_term.rdata, append=2*_term.rdata[-1]-_term.rdata[-2])*delta\n",
    "    ax.errorbar(_rdata, _rdata**2*_dataxi, _rdata**2*_dataxierr, c=_ci, fmt='.', label=_label, alpha=0.5)\n",
    "    \n",
    "pole = 2\n",
    "_labels = None, None\n",
    "for _term, _delta, _ci, _label in zip(_terms, _deltas, _colors, _labels):\n",
    "    _dataxi, _dataxierr = _term.data(pole)\n",
    "    _rdata = _term.rdata + np.diff(_term.rdata, append=2*_term.rdata[-1]-_term.rdata[-2])*delta\n",
    "    ax.errorbar(_rdata, _rdata**2*_dataxi, _rdata**2*_dataxierr, c=_ci, fmt='.', label=_label, alpha=0.5)\n",
    "\n",
    "_term = terms[6]\n",
    "\n",
    "for _pole, _label in zip((0,2), ('lognormal+kaiser', None)):\n",
    "    _modelxi = _term.model(_pole)\n",
    "    ax.plot(_term.rmodel, _term.rmodel**2*_modelxi, c='k', label=_label, lw=0.5)\n",
    "\n",
    "ax.set_xlim(-5, 200)\n",
    "ax.legend()"
   ]
  },
  {
   "cell_type": "code",
   "execution_count": 63,
   "id": "8757a37d-ec77-458d-ad6d-ace8a21edfab",
   "metadata": {},
   "outputs": [
    {
     "data": {
      "application/vnd.jupyter.widget-view+json": {
       "model_id": "151aa3687d834b08af14ec99f8d343c2",
       "version_major": 2,
       "version_minor": 0
      },
      "text/plain": [
       "Canvas(toolbar=Toolbar(toolitems=[('Home', 'Reset original view', 'home', 'home'), ('Back', 'Back to previous …"
      ]
     },
     "metadata": {},
     "output_type": "display_data"
    },
    {
     "name": "stderr",
     "output_type": "stream",
     "text": [
      "/global/homes/c/cramirez/.local/cori/3.8-anaconda-2020.11/lib/python3.8/site-packages/mcfit/mcfit.py:126: UserWarning: The default value of lowring has been changed to False, set it to True if you cannot reproduce previous results\n",
      "  warnings.warn(\"The default value of lowring has been changed to False, \"\n",
      "/global/homes/c/cramirez/.local/cori/3.8-anaconda-2020.11/lib/python3.8/site-packages/mcfit/mcfit.py:217: UserWarning: The default value of extrap has been changed to False, set it to True if you cannot reproduce previous results\n",
      "  warnings.warn(\"The default value of extrap has been changed to False, \"\n",
      "/global/homes/c/cramirez/.local/cori/3.8-anaconda-2020.11/lib/python3.8/site-packages/mcfit/mcfit.py:126: UserWarning: The default value of lowring has been changed to False, set it to True if you cannot reproduce previous results\n",
      "  warnings.warn(\"The default value of lowring has been changed to False, \"\n",
      "/global/homes/c/cramirez/.local/cori/3.8-anaconda-2020.11/lib/python3.8/site-packages/mcfit/mcfit.py:217: UserWarning: The default value of extrap has been changed to False, set it to True if you cannot reproduce previous results\n",
      "  warnings.warn(\"The default value of extrap has been changed to False, \"\n"
     ]
    }
   ],
   "source": [
    "fig, ax = plt.subplots()\n",
    "\n",
    "TermsPlots.plot_term(ax, corrected_6, poles=[2], c=['C1'], alpha=0.5, label='corrected')\n",
    "TermsPlots.plot_term(ax, terms[6], poles=[2], c=['C0'], alpha=0.5, label='non-corrected')\n",
    "ax.set_xlim(-5, 200)\n",
    "ax.legend();"
   ]
  },
  {
   "cell_type": "code",
   "execution_count": 64,
   "id": "0f126045-4c98-4596-87d3-dd4bf9ec7396",
   "metadata": {},
   "outputs": [
    {
     "data": {
      "application/vnd.jupyter.widget-view+json": {
       "model_id": "b10857a6e32d48308f031ae933417c3f",
       "version_major": 2,
       "version_minor": 0
      },
      "text/plain": [
       "Canvas(toolbar=Toolbar(toolitems=[('Home', 'Reset original view', 'home', 'home'), ('Back', 'Back to previous …"
      ]
     },
     "metadata": {},
     "output_type": "display_data"
    },
    {
     "name": "stderr",
     "output_type": "stream",
     "text": [
      "/global/homes/c/cramirez/.local/cori/3.8-anaconda-2020.11/lib/python3.8/site-packages/mcfit/mcfit.py:126: UserWarning: The default value of lowring has been changed to False, set it to True if you cannot reproduce previous results\n",
      "  warnings.warn(\"The default value of lowring has been changed to False, \"\n",
      "/global/homes/c/cramirez/.local/cori/3.8-anaconda-2020.11/lib/python3.8/site-packages/mcfit/mcfit.py:217: UserWarning: The default value of extrap has been changed to False, set it to True if you cannot reproduce previous results\n",
      "  warnings.warn(\"The default value of extrap has been changed to False, \"\n"
     ]
    }
   ],
   "source": [
    "fig, ax = plt.subplots()\n",
    "\n",
    "TermsPlots.plot_term(ax, mixed_term, poles=[2], c=['C3', 'C4'], alpha=0.5)\n",
    "ax.set_xlim(-5, 200)\n",
    "ax.legend();"
   ]
  },
  {
   "cell_type": "code",
   "execution_count": 65,
   "id": "5114ef22-448b-4423-9f0f-cb1d38c0d28a",
   "metadata": {},
   "outputs": [
    {
     "data": {
      "application/vnd.jupyter.widget-view+json": {
       "model_id": "821c214e265b41d3b8cc4bf4dca652b9",
       "version_major": 2,
       "version_minor": 0
      },
      "text/plain": [
       "Canvas(toolbar=Toolbar(toolitems=[('Home', 'Reset original view', 'home', 'home'), ('Back', 'Back to previous …"
      ]
     },
     "metadata": {},
     "output_type": "display_data"
    },
    {
     "name": "stderr",
     "output_type": "stream",
     "text": [
      "/global/homes/c/cramirez/.local/cori/3.8-anaconda-2020.11/lib/python3.8/site-packages/mcfit/mcfit.py:126: UserWarning: The default value of lowring has been changed to False, set it to True if you cannot reproduce previous results\n",
      "  warnings.warn(\"The default value of lowring has been changed to False, \"\n",
      "/global/homes/c/cramirez/.local/cori/3.8-anaconda-2020.11/lib/python3.8/site-packages/mcfit/mcfit.py:217: UserWarning: The default value of extrap has been changed to False, set it to True if you cannot reproduce previous results\n",
      "  warnings.warn(\"The default value of extrap has been changed to False, \"\n",
      "/global/homes/c/cramirez/.local/cori/3.8-anaconda-2020.11/lib/python3.8/site-packages/mcfit/mcfit.py:126: UserWarning: The default value of lowring has been changed to False, set it to True if you cannot reproduce previous results\n",
      "  warnings.warn(\"The default value of lowring has been changed to False, \"\n",
      "/global/homes/c/cramirez/.local/cori/3.8-anaconda-2020.11/lib/python3.8/site-packages/mcfit/mcfit.py:217: UserWarning: The default value of extrap has been changed to False, set it to True if you cannot reproduce previous results\n",
      "  warnings.warn(\"The default value of extrap has been changed to False, \"\n",
      "/global/homes/c/cramirez/.local/cori/3.8-anaconda-2020.11/lib/python3.8/site-packages/mcfit/mcfit.py:126: UserWarning: The default value of lowring has been changed to False, set it to True if you cannot reproduce previous results\n",
      "  warnings.warn(\"The default value of lowring has been changed to False, \"\n",
      "/global/homes/c/cramirez/.local/cori/3.8-anaconda-2020.11/lib/python3.8/site-packages/mcfit/mcfit.py:217: UserWarning: The default value of extrap has been changed to False, set it to True if you cannot reproduce previous results\n",
      "  warnings.warn(\"The default value of extrap has been changed to False, \"\n",
      "/global/homes/c/cramirez/.local/cori/3.8-anaconda-2020.11/lib/python3.8/site-packages/mcfit/mcfit.py:126: UserWarning: The default value of lowring has been changed to False, set it to True if you cannot reproduce previous results\n",
      "  warnings.warn(\"The default value of lowring has been changed to False, \"\n",
      "/global/homes/c/cramirez/.local/cori/3.8-anaconda-2020.11/lib/python3.8/site-packages/mcfit/mcfit.py:217: UserWarning: The default value of extrap has been changed to False, set it to True if you cannot reproduce previous results\n",
      "  warnings.warn(\"The default value of extrap has been changed to False, \"\n"
     ]
    }
   ],
   "source": [
    "fig, ax = plt.subplots()\n",
    "\n",
    "TermsPlots.plot_sum(ax, terms, [3,7], c='C3', alpha=0.5)\n",
    "TermsPlots.plot_sum(ax, terms, [2, 2], c='C2', alpha=0.5)\n",
    "ax.set_xlim(-2, 30)\n",
    "ax.legend();"
   ]
  },
  {
   "cell_type": "code",
   "execution_count": 66,
   "id": "2da545fc-75e0-4c41-9093-6ecd6f4ce0ad",
   "metadata": {},
   "outputs": [
    {
     "data": {
      "application/vnd.jupyter.widget-view+json": {
       "model_id": "d7ce075883894f62bb5b1dcb34061691",
       "version_major": 2,
       "version_minor": 0
      },
      "text/plain": [
       "Canvas(toolbar=Toolbar(toolitems=[('Home', 'Reset original view', 'home', 'home'), ('Back', 'Back to previous …"
      ]
     },
     "metadata": {},
     "output_type": "display_data"
    },
    {
     "name": "stderr",
     "output_type": "stream",
     "text": [
      "/global/homes/c/cramirez/.local/cori/3.8-anaconda-2020.11/lib/python3.8/site-packages/mcfit/mcfit.py:126: UserWarning: The default value of lowring has been changed to False, set it to True if you cannot reproduce previous results\n",
      "  warnings.warn(\"The default value of lowring has been changed to False, \"\n",
      "/global/homes/c/cramirez/.local/cori/3.8-anaconda-2020.11/lib/python3.8/site-packages/mcfit/mcfit.py:217: UserWarning: The default value of extrap has been changed to False, set it to True if you cannot reproduce previous results\n",
      "  warnings.warn(\"The default value of extrap has been changed to False, \"\n",
      "/global/homes/c/cramirez/.local/cori/3.8-anaconda-2020.11/lib/python3.8/site-packages/mcfit/mcfit.py:126: UserWarning: The default value of lowring has been changed to False, set it to True if you cannot reproduce previous results\n",
      "  warnings.warn(\"The default value of lowring has been changed to False, \"\n",
      "/global/homes/c/cramirez/.local/cori/3.8-anaconda-2020.11/lib/python3.8/site-packages/mcfit/mcfit.py:217: UserWarning: The default value of extrap has been changed to False, set it to True if you cannot reproduce previous results\n",
      "  warnings.warn(\"The default value of extrap has been changed to False, \"\n",
      "/global/homes/c/cramirez/.local/cori/3.8-anaconda-2020.11/lib/python3.8/site-packages/mcfit/mcfit.py:126: UserWarning: The default value of lowring has been changed to False, set it to True if you cannot reproduce previous results\n",
      "  warnings.warn(\"The default value of lowring has been changed to False, \"\n",
      "/global/homes/c/cramirez/.local/cori/3.8-anaconda-2020.11/lib/python3.8/site-packages/mcfit/mcfit.py:217: UserWarning: The default value of extrap has been changed to False, set it to True if you cannot reproduce previous results\n",
      "  warnings.warn(\"The default value of extrap has been changed to False, \"\n",
      "/global/homes/c/cramirez/.local/cori/3.8-anaconda-2020.11/lib/python3.8/site-packages/mcfit/mcfit.py:126: UserWarning: The default value of lowring has been changed to False, set it to True if you cannot reproduce previous results\n",
      "  warnings.warn(\"The default value of lowring has been changed to False, \"\n",
      "/global/homes/c/cramirez/.local/cori/3.8-anaconda-2020.11/lib/python3.8/site-packages/mcfit/mcfit.py:217: UserWarning: The default value of extrap has been changed to False, set it to True if you cannot reproduce previous results\n",
      "  warnings.warn(\"The default value of extrap has been changed to False, \"\n"
     ]
    }
   ],
   "source": [
    "fig, ax = plt.subplots()\n",
    "\n",
    "TermsPlots.plot_sum(ax, terms, [3,7], c='C3', alpha=0.5)\n",
    "TermsPlots.plot_sum(ax, terms, [2, 2], c='C2', alpha=0.5)\n",
    "ax.set_xlim(-2, 30)\n",
    "ax.legend();"
   ]
  },
  {
   "cell_type": "code",
   "execution_count": 67,
   "id": "225cd0f0-eb41-43ab-85cd-d2b6e27c5b56",
   "metadata": {},
   "outputs": [
    {
     "data": {
      "application/vnd.jupyter.widget-view+json": {
       "model_id": "f9329b382eeb4ea887ca60fcf895abed",
       "version_major": 2,
       "version_minor": 0
      },
      "text/plain": [
       "Canvas(toolbar=Toolbar(toolitems=[('Home', 'Reset original view', 'home', 'home'), ('Back', 'Back to previous …"
      ]
     },
     "metadata": {},
     "output_type": "display_data"
    },
    {
     "name": "stderr",
     "output_type": "stream",
     "text": [
      "/global/homes/c/cramirez/.local/cori/3.8-anaconda-2020.11/lib/python3.8/site-packages/mcfit/mcfit.py:126: UserWarning: The default value of lowring has been changed to False, set it to True if you cannot reproduce previous results\n",
      "  warnings.warn(\"The default value of lowring has been changed to False, \"\n",
      "/global/homes/c/cramirez/.local/cori/3.8-anaconda-2020.11/lib/python3.8/site-packages/mcfit/mcfit.py:217: UserWarning: The default value of extrap has been changed to False, set it to True if you cannot reproduce previous results\n",
      "  warnings.warn(\"The default value of extrap has been changed to False, \"\n",
      "/global/homes/c/cramirez/.local/cori/3.8-anaconda-2020.11/lib/python3.8/site-packages/mcfit/mcfit.py:126: UserWarning: The default value of lowring has been changed to False, set it to True if you cannot reproduce previous results\n",
      "  warnings.warn(\"The default value of lowring has been changed to False, \"\n",
      "/global/homes/c/cramirez/.local/cori/3.8-anaconda-2020.11/lib/python3.8/site-packages/mcfit/mcfit.py:217: UserWarning: The default value of extrap has been changed to False, set it to True if you cannot reproduce previous results\n",
      "  warnings.warn(\"The default value of extrap has been changed to False, \"\n"
     ]
    }
   ],
   "source": [
    "fig, axs = plt.subplots(1,2)\n",
    "labels_pos = [3, 7]\n",
    "labels_neg = [2, 2]\n",
    "\n",
    "for ax, pole in zip(axs, [0,2]):\n",
    "    TermsPlots.plot_sum(ax, terms, labels_pos, labels_neg, poles=[pole])\n",
    "    ax.set_title(f'npole: {pole}')\n",
    "    ax.set_xlim(-5, 200)"
   ]
  },
  {
   "cell_type": "code",
   "execution_count": 68,
   "id": "32fd836a-f423-4d0b-a49c-ab35a5cf0d2d",
   "metadata": {},
   "outputs": [
    {
     "data": {
      "application/vnd.jupyter.widget-view+json": {
       "model_id": "a0ce9386cce244d8911dd4866b45432c",
       "version_major": 2,
       "version_minor": 0
      },
      "text/plain": [
       "Canvas(toolbar=Toolbar(toolitems=[('Home', 'Reset original view', 'home', 'home'), ('Back', 'Back to previous …"
      ]
     },
     "metadata": {},
     "output_type": "display_data"
    },
    {
     "name": "stderr",
     "output_type": "stream",
     "text": [
      "/global/homes/c/cramirez/.local/cori/3.8-anaconda-2020.11/lib/python3.8/site-packages/mcfit/mcfit.py:126: UserWarning: The default value of lowring has been changed to False, set it to True if you cannot reproduce previous results\n",
      "  warnings.warn(\"The default value of lowring has been changed to False, \"\n",
      "/global/homes/c/cramirez/.local/cori/3.8-anaconda-2020.11/lib/python3.8/site-packages/mcfit/mcfit.py:217: UserWarning: The default value of extrap has been changed to False, set it to True if you cannot reproduce previous results\n",
      "  warnings.warn(\"The default value of extrap has been changed to False, \"\n",
      "/global/homes/c/cramirez/.local/cori/3.8-anaconda-2020.11/lib/python3.8/site-packages/mcfit/mcfit.py:126: UserWarning: The default value of lowring has been changed to False, set it to True if you cannot reproduce previous results\n",
      "  warnings.warn(\"The default value of lowring has been changed to False, \"\n",
      "/global/homes/c/cramirez/.local/cori/3.8-anaconda-2020.11/lib/python3.8/site-packages/mcfit/mcfit.py:217: UserWarning: The default value of extrap has been changed to False, set it to True if you cannot reproduce previous results\n",
      "  warnings.warn(\"The default value of extrap has been changed to False, \"\n",
      "/global/homes/c/cramirez/.local/cori/3.8-anaconda-2020.11/lib/python3.8/site-packages/mcfit/mcfit.py:126: UserWarning: The default value of lowring has been changed to False, set it to True if you cannot reproduce previous results\n",
      "  warnings.warn(\"The default value of lowring has been changed to False, \"\n",
      "/global/homes/c/cramirez/.local/cori/3.8-anaconda-2020.11/lib/python3.8/site-packages/mcfit/mcfit.py:217: UserWarning: The default value of extrap has been changed to False, set it to True if you cannot reproduce previous results\n",
      "  warnings.warn(\"The default value of extrap has been changed to False, \"\n",
      "/global/homes/c/cramirez/.local/cori/3.8-anaconda-2020.11/lib/python3.8/site-packages/mcfit/mcfit.py:126: UserWarning: The default value of lowring has been changed to False, set it to True if you cannot reproduce previous results\n",
      "  warnings.warn(\"The default value of lowring has been changed to False, \"\n",
      "/global/homes/c/cramirez/.local/cori/3.8-anaconda-2020.11/lib/python3.8/site-packages/mcfit/mcfit.py:217: UserWarning: The default value of extrap has been changed to False, set it to True if you cannot reproduce previous results\n",
      "  warnings.warn(\"The default value of extrap has been changed to False, \"\n"
     ]
    }
   ],
   "source": [
    "fig, ax = plt.subplots()\n",
    "\n",
    "plot_sum(ax, [5, 8], poles=[0, 2], c='C0', alpha=0.5)\n",
    "plot_sum(ax, [4, 4], poles=[0, 2],c='C2', alpha=0.5)\n",
    "ax.set_xlim(-5, 200)\n",
    "ax.legend();"
   ]
  },
  {
   "cell_type": "code",
   "execution_count": 69,
   "id": "6e9d9b1b-a505-4e66-a8ae-0f61a659677c",
   "metadata": {},
   "outputs": [
    {
     "data": {
      "application/vnd.jupyter.widget-view+json": {
       "model_id": "2a4f6152fdb04bd1b979a85c06222bad",
       "version_major": 2,
       "version_minor": 0
      },
      "text/plain": [
       "Canvas(toolbar=Toolbar(toolitems=[('Home', 'Reset original view', 'home', 'home'), ('Back', 'Back to previous …"
      ]
     },
     "metadata": {},
     "output_type": "display_data"
    },
    {
     "name": "stderr",
     "output_type": "stream",
     "text": [
      "/global/homes/c/cramirez/.local/cori/3.8-anaconda-2020.11/lib/python3.8/site-packages/mcfit/mcfit.py:126: UserWarning: The default value of lowring has been changed to False, set it to True if you cannot reproduce previous results\n",
      "  warnings.warn(\"The default value of lowring has been changed to False, \"\n",
      "/global/homes/c/cramirez/.local/cori/3.8-anaconda-2020.11/lib/python3.8/site-packages/mcfit/mcfit.py:217: UserWarning: The default value of extrap has been changed to False, set it to True if you cannot reproduce previous results\n",
      "  warnings.warn(\"The default value of extrap has been changed to False, \"\n",
      "/global/homes/c/cramirez/.local/cori/3.8-anaconda-2020.11/lib/python3.8/site-packages/mcfit/mcfit.py:126: UserWarning: The default value of lowring has been changed to False, set it to True if you cannot reproduce previous results\n",
      "  warnings.warn(\"The default value of lowring has been changed to False, \"\n",
      "/global/homes/c/cramirez/.local/cori/3.8-anaconda-2020.11/lib/python3.8/site-packages/mcfit/mcfit.py:217: UserWarning: The default value of extrap has been changed to False, set it to True if you cannot reproduce previous results\n",
      "  warnings.warn(\"The default value of extrap has been changed to False, \"\n"
     ]
    }
   ],
   "source": [
    "fig, axs = plt.subplots(1,2)\n",
    "labels_pos = [5, 8]\n",
    "labels_neg = [4, 4]\n",
    "\n",
    "for ax, pole in zip(axs, [0,2]):\n",
    "    plot_sum(ax, labels_pos, labels_neg, poles=[pole])\n",
    "    ax.set_title(f'npole: {pole}')\n",
    "    ax.set_xlim(-5, 200)"
   ]
  },
  {
   "cell_type": "code",
   "execution_count": 70,
   "id": "569f17d0-62f8-4857-b0e2-c2b94ba29971",
   "metadata": {},
   "outputs": [
    {
     "data": {
      "application/vnd.jupyter.widget-view+json": {
       "model_id": "7c4f629b54814958a7eacac8fe5e2d62",
       "version_major": 2,
       "version_minor": 0
      },
      "text/plain": [
       "Canvas(toolbar=Toolbar(toolitems=[('Home', 'Reset original view', 'home', 'home'), ('Back', 'Back to previous …"
      ]
     },
     "metadata": {},
     "output_type": "display_data"
    },
    {
     "name": "stderr",
     "output_type": "stream",
     "text": [
      "/global/homes/c/cramirez/.local/cori/3.8-anaconda-2020.11/lib/python3.8/site-packages/mcfit/mcfit.py:126: UserWarning: The default value of lowring has been changed to False, set it to True if you cannot reproduce previous results\n",
      "  warnings.warn(\"The default value of lowring has been changed to False, \"\n",
      "/global/homes/c/cramirez/.local/cori/3.8-anaconda-2020.11/lib/python3.8/site-packages/mcfit/mcfit.py:217: UserWarning: The default value of extrap has been changed to False, set it to True if you cannot reproduce previous results\n",
      "  warnings.warn(\"The default value of extrap has been changed to False, \"\n",
      "/global/homes/c/cramirez/.local/cori/3.8-anaconda-2020.11/lib/python3.8/site-packages/mcfit/mcfit.py:126: UserWarning: The default value of lowring has been changed to False, set it to True if you cannot reproduce previous results\n",
      "  warnings.warn(\"The default value of lowring has been changed to False, \"\n",
      "/global/homes/c/cramirez/.local/cori/3.8-anaconda-2020.11/lib/python3.8/site-packages/mcfit/mcfit.py:217: UserWarning: The default value of extrap has been changed to False, set it to True if you cannot reproduce previous results\n",
      "  warnings.warn(\"The default value of extrap has been changed to False, \"\n",
      "/global/homes/c/cramirez/.local/cori/3.8-anaconda-2020.11/lib/python3.8/site-packages/mcfit/mcfit.py:126: UserWarning: The default value of lowring has been changed to False, set it to True if you cannot reproduce previous results\n",
      "  warnings.warn(\"The default value of lowring has been changed to False, \"\n",
      "/global/homes/c/cramirez/.local/cori/3.8-anaconda-2020.11/lib/python3.8/site-packages/mcfit/mcfit.py:217: UserWarning: The default value of extrap has been changed to False, set it to True if you cannot reproduce previous results\n",
      "  warnings.warn(\"The default value of extrap has been changed to False, \"\n",
      "/global/homes/c/cramirez/.local/cori/3.8-anaconda-2020.11/lib/python3.8/site-packages/mcfit/mcfit.py:126: UserWarning: The default value of lowring has been changed to False, set it to True if you cannot reproduce previous results\n",
      "  warnings.warn(\"The default value of lowring has been changed to False, \"\n",
      "/global/homes/c/cramirez/.local/cori/3.8-anaconda-2020.11/lib/python3.8/site-packages/mcfit/mcfit.py:217: UserWarning: The default value of extrap has been changed to False, set it to True if you cannot reproduce previous results\n",
      "  warnings.warn(\"The default value of extrap has been changed to False, \"\n"
     ]
    }
   ],
   "source": [
    "fig, ax = plt.subplots()\n",
    "\n",
    "plot_sum(ax, [6, 9], c='C0', alpha=0.5)\n",
    "plot_sum(ax, [5, 5], c='C2', alpha=0.5)\n",
    "ax.set_xlim(-5, 200)\n",
    "ax.legend();"
   ]
  },
  {
   "cell_type": "code",
   "execution_count": 71,
   "id": "41e2b774-08ed-46fe-99a3-3e8c710fcf30",
   "metadata": {},
   "outputs": [
    {
     "data": {
      "application/vnd.jupyter.widget-view+json": {
       "model_id": "ed37e3769e824df7b9129783c8b0a082",
       "version_major": 2,
       "version_minor": 0
      },
      "text/plain": [
       "Canvas(toolbar=Toolbar(toolitems=[('Home', 'Reset original view', 'home', 'home'), ('Back', 'Back to previous …"
      ]
     },
     "metadata": {},
     "output_type": "display_data"
    },
    {
     "name": "stderr",
     "output_type": "stream",
     "text": [
      "/global/homes/c/cramirez/.local/cori/3.8-anaconda-2020.11/lib/python3.8/site-packages/mcfit/mcfit.py:126: UserWarning: The default value of lowring has been changed to False, set it to True if you cannot reproduce previous results\n",
      "  warnings.warn(\"The default value of lowring has been changed to False, \"\n",
      "/global/homes/c/cramirez/.local/cori/3.8-anaconda-2020.11/lib/python3.8/site-packages/mcfit/mcfit.py:217: UserWarning: The default value of extrap has been changed to False, set it to True if you cannot reproduce previous results\n",
      "  warnings.warn(\"The default value of extrap has been changed to False, \"\n",
      "/global/homes/c/cramirez/.local/cori/3.8-anaconda-2020.11/lib/python3.8/site-packages/mcfit/mcfit.py:126: UserWarning: The default value of lowring has been changed to False, set it to True if you cannot reproduce previous results\n",
      "  warnings.warn(\"The default value of lowring has been changed to False, \"\n",
      "/global/homes/c/cramirez/.local/cori/3.8-anaconda-2020.11/lib/python3.8/site-packages/mcfit/mcfit.py:217: UserWarning: The default value of extrap has been changed to False, set it to True if you cannot reproduce previous results\n",
      "  warnings.warn(\"The default value of extrap has been changed to False, \"\n"
     ]
    }
   ],
   "source": [
    "fig, axs = plt.subplots(1,2)\n",
    "labels_pos = [6, 9]\n",
    "labels_neg = [5, 5]\n",
    "\n",
    "for ax, pole in zip(axs, [0,2]):\n",
    "    plot_sum(ax, labels_pos, labels_neg, poles=[pole])\n",
    "    ax.set_title(f'npole: {pole}')\n",
    "    ax.set_xlim(-5, 200)"
   ]
  },
  {
   "cell_type": "code",
   "execution_count": 72,
   "id": "868e9f5c-a731-4658-8a33-b4da4d9d0ad7",
   "metadata": {},
   "outputs": [
    {
     "data": {
      "application/vnd.jupyter.widget-view+json": {
       "model_id": "050dc8716d6f4d70ae011e21ed5e14a9",
       "version_major": 2,
       "version_minor": 0
      },
      "text/plain": [
       "Canvas(toolbar=Toolbar(toolitems=[('Home', 'Reset original view', 'home', 'home'), ('Back', 'Back to previous …"
      ]
     },
     "metadata": {},
     "output_type": "display_data"
    },
    {
     "name": "stderr",
     "output_type": "stream",
     "text": [
      "/global/homes/c/cramirez/.local/cori/3.8-anaconda-2020.11/lib/python3.8/site-packages/mcfit/mcfit.py:126: UserWarning: The default value of lowring has been changed to False, set it to True if you cannot reproduce previous results\n",
      "  warnings.warn(\"The default value of lowring has been changed to False, \"\n",
      "/global/homes/c/cramirez/.local/cori/3.8-anaconda-2020.11/lib/python3.8/site-packages/mcfit/mcfit.py:217: UserWarning: The default value of extrap has been changed to False, set it to True if you cannot reproduce previous results\n",
      "  warnings.warn(\"The default value of extrap has been changed to False, \"\n",
      "/global/homes/c/cramirez/.local/cori/3.8-anaconda-2020.11/lib/python3.8/site-packages/mcfit/mcfit.py:126: UserWarning: The default value of lowring has been changed to False, set it to True if you cannot reproduce previous results\n",
      "  warnings.warn(\"The default value of lowring has been changed to False, \"\n",
      "/global/homes/c/cramirez/.local/cori/3.8-anaconda-2020.11/lib/python3.8/site-packages/mcfit/mcfit.py:217: UserWarning: The default value of extrap has been changed to False, set it to True if you cannot reproduce previous results\n",
      "  warnings.warn(\"The default value of extrap has been changed to False, \"\n",
      "/global/homes/c/cramirez/.local/cori/3.8-anaconda-2020.11/lib/python3.8/site-packages/mcfit/mcfit.py:126: UserWarning: The default value of lowring has been changed to False, set it to True if you cannot reproduce previous results\n",
      "  warnings.warn(\"The default value of lowring has been changed to False, \"\n",
      "/global/homes/c/cramirez/.local/cori/3.8-anaconda-2020.11/lib/python3.8/site-packages/mcfit/mcfit.py:217: UserWarning: The default value of extrap has been changed to False, set it to True if you cannot reproduce previous results\n",
      "  warnings.warn(\"The default value of extrap has been changed to False, \"\n",
      "/global/homes/c/cramirez/.local/cori/3.8-anaconda-2020.11/lib/python3.8/site-packages/mcfit/mcfit.py:126: UserWarning: The default value of lowring has been changed to False, set it to True if you cannot reproduce previous results\n",
      "  warnings.warn(\"The default value of lowring has been changed to False, \"\n",
      "/global/homes/c/cramirez/.local/cori/3.8-anaconda-2020.11/lib/python3.8/site-packages/mcfit/mcfit.py:217: UserWarning: The default value of extrap has been changed to False, set it to True if you cannot reproduce previous results\n",
      "  warnings.warn(\"The default value of extrap has been changed to False, \"\n"
     ]
    }
   ],
   "source": [
    "fig, ax = plt.subplots()\n",
    "\n",
    "plot_sum(ax, [9,10], c='C0', alpha=0.5)\n",
    "plot_sum(ax, [8, 8], c='C2', alpha=0.5)\n",
    "ax.set_xlim(-5, 200)\n",
    "ax.legend();"
   ]
  },
  {
   "cell_type": "code",
   "execution_count": 73,
   "id": "1ee7eea7-0318-4cff-a374-c8da0d0a2c8b",
   "metadata": {},
   "outputs": [
    {
     "data": {
      "application/vnd.jupyter.widget-view+json": {
       "model_id": "96f8492a31c54b4d83a9db9bfcd56fcf",
       "version_major": 2,
       "version_minor": 0
      },
      "text/plain": [
       "Canvas(toolbar=Toolbar(toolitems=[('Home', 'Reset original view', 'home', 'home'), ('Back', 'Back to previous …"
      ]
     },
     "metadata": {},
     "output_type": "display_data"
    },
    {
     "name": "stderr",
     "output_type": "stream",
     "text": [
      "/global/homes/c/cramirez/.local/cori/3.8-anaconda-2020.11/lib/python3.8/site-packages/mcfit/mcfit.py:126: UserWarning: The default value of lowring has been changed to False, set it to True if you cannot reproduce previous results\n",
      "  warnings.warn(\"The default value of lowring has been changed to False, \"\n",
      "/global/homes/c/cramirez/.local/cori/3.8-anaconda-2020.11/lib/python3.8/site-packages/mcfit/mcfit.py:217: UserWarning: The default value of extrap has been changed to False, set it to True if you cannot reproduce previous results\n",
      "  warnings.warn(\"The default value of extrap has been changed to False, \"\n",
      "/global/homes/c/cramirez/.local/cori/3.8-anaconda-2020.11/lib/python3.8/site-packages/mcfit/mcfit.py:126: UserWarning: The default value of lowring has been changed to False, set it to True if you cannot reproduce previous results\n",
      "  warnings.warn(\"The default value of lowring has been changed to False, \"\n",
      "/global/homes/c/cramirez/.local/cori/3.8-anaconda-2020.11/lib/python3.8/site-packages/mcfit/mcfit.py:217: UserWarning: The default value of extrap has been changed to False, set it to True if you cannot reproduce previous results\n",
      "  warnings.warn(\"The default value of extrap has been changed to False, \"\n"
     ]
    }
   ],
   "source": [
    "fig, axs = plt.subplots(1,2)\n",
    "labels_pos = [9, 10]\n",
    "labels_neg = [8, 8]\n",
    "\n",
    "for ax, pole in zip(axs, [0,2]):\n",
    "    plot_sum(ax, labels_pos, labels_neg, poles=[pole])\n",
    "    ax.set_title(f'npole: {pole}')\n",
    "    ax.set_xlim(-5, 200)"
   ]
  },
  {
   "cell_type": "code",
   "execution_count": 74,
   "id": "b5c487d4-d9e2-4e7f-9a2b-c6166feb05ac",
   "metadata": {},
   "outputs": [
    {
     "data": {
      "application/vnd.jupyter.widget-view+json": {
       "model_id": "20de4aa8a7da4a5bbea8784d93ba6fa4",
       "version_major": 2,
       "version_minor": 0
      },
      "text/plain": [
       "Canvas(toolbar=Toolbar(toolitems=[('Home', 'Reset original view', 'home', 'home'), ('Back', 'Back to previous …"
      ]
     },
     "metadata": {},
     "output_type": "display_data"
    },
    {
     "name": "stderr",
     "output_type": "stream",
     "text": [
      "/global/homes/c/cramirez/.local/cori/3.8-anaconda-2020.11/lib/python3.8/site-packages/mcfit/mcfit.py:126: UserWarning: The default value of lowring has been changed to False, set it to True if you cannot reproduce previous results\n",
      "  warnings.warn(\"The default value of lowring has been changed to False, \"\n",
      "/global/homes/c/cramirez/.local/cori/3.8-anaconda-2020.11/lib/python3.8/site-packages/mcfit/mcfit.py:217: UserWarning: The default value of extrap has been changed to False, set it to True if you cannot reproduce previous results\n",
      "  warnings.warn(\"The default value of extrap has been changed to False, \"\n",
      "/global/homes/c/cramirez/.local/cori/3.8-anaconda-2020.11/lib/python3.8/site-packages/mcfit/mcfit.py:126: UserWarning: The default value of lowring has been changed to False, set it to True if you cannot reproduce previous results\n",
      "  warnings.warn(\"The default value of lowring has been changed to False, \"\n",
      "/global/homes/c/cramirez/.local/cori/3.8-anaconda-2020.11/lib/python3.8/site-packages/mcfit/mcfit.py:217: UserWarning: The default value of extrap has been changed to False, set it to True if you cannot reproduce previous results\n",
      "  warnings.warn(\"The default value of extrap has been changed to False, \"\n"
     ]
    }
   ],
   "source": [
    "fig, axs = plt.subplots(1,2)\n",
    "labels_pos = [3]\n",
    "labels_neg = [1, 2]\n",
    "\n",
    "for ax, pole in zip(axs, [0,2]):\n",
    "    plot_sum(ax, labels_pos, labels_neg, poles=[pole])\n",
    "    ax.set_title(f'npole: {pole}')\n",
    "    ax.set_xlim(-5, 200)"
   ]
  },
  {
   "cell_type": "code",
   "execution_count": 75,
   "id": "a08f3020-1e39-4d38-a8b4-b549db30b01f",
   "metadata": {},
   "outputs": [
    {
     "data": {
      "application/vnd.jupyter.widget-view+json": {
       "model_id": "da797fe0447a43d890f1c3b6a9194ec1",
       "version_major": 2,
       "version_minor": 0
      },
      "text/plain": [
       "Canvas(toolbar=Toolbar(toolitems=[('Home', 'Reset original view', 'home', 'home'), ('Back', 'Back to previous …"
      ]
     },
     "metadata": {},
     "output_type": "display_data"
    },
    {
     "name": "stderr",
     "output_type": "stream",
     "text": [
      "/global/homes/c/cramirez/.local/cori/3.8-anaconda-2020.11/lib/python3.8/site-packages/mcfit/mcfit.py:126: UserWarning: The default value of lowring has been changed to False, set it to True if you cannot reproduce previous results\n",
      "  warnings.warn(\"The default value of lowring has been changed to False, \"\n",
      "/global/homes/c/cramirez/.local/cori/3.8-anaconda-2020.11/lib/python3.8/site-packages/mcfit/mcfit.py:217: UserWarning: The default value of extrap has been changed to False, set it to True if you cannot reproduce previous results\n",
      "  warnings.warn(\"The default value of extrap has been changed to False, \"\n",
      "/global/homes/c/cramirez/.local/cori/3.8-anaconda-2020.11/lib/python3.8/site-packages/mcfit/mcfit.py:126: UserWarning: The default value of lowring has been changed to False, set it to True if you cannot reproduce previous results\n",
      "  warnings.warn(\"The default value of lowring has been changed to False, \"\n",
      "/global/homes/c/cramirez/.local/cori/3.8-anaconda-2020.11/lib/python3.8/site-packages/mcfit/mcfit.py:217: UserWarning: The default value of extrap has been changed to False, set it to True if you cannot reproduce previous results\n",
      "  warnings.warn(\"The default value of extrap has been changed to False, \"\n"
     ]
    }
   ],
   "source": [
    "fig, axs = plt.subplots(1,2)\n",
    "labels_neg = [3, 5, 6, 2, 2, 4, 1]\n",
    "labels_pos = [6, 1, 2, 2, 4, 5, 5, 3, 3]\n",
    "\n",
    "for ax, pole in zip(axs, [0,2]):\n",
    "    plot_sum(ax, labels_pos, labels_neg, poles=[pole])\n",
    "    ax.set_title(f'npole: {pole}')\n",
    "    ax.set_xlim(-5, 200)"
   ]
  },
  {
   "cell_type": "code",
   "execution_count": 76,
   "id": "4ab73963-ba36-45f7-a7aa-facbae999382",
   "metadata": {},
   "outputs": [
    {
     "data": {
      "application/vnd.jupyter.widget-view+json": {
       "model_id": "69942e142c9d4258889bec93797dce6f",
       "version_major": 2,
       "version_minor": 0
      },
      "text/plain": [
       "Canvas(toolbar=Toolbar(toolitems=[('Home', 'Reset original view', 'home', 'home'), ('Back', 'Back to previous …"
      ]
     },
     "metadata": {},
     "output_type": "display_data"
    },
    {
     "name": "stderr",
     "output_type": "stream",
     "text": [
      "/global/homes/c/cramirez/.local/cori/3.8-anaconda-2020.11/lib/python3.8/site-packages/mcfit/mcfit.py:126: UserWarning: The default value of lowring has been changed to False, set it to True if you cannot reproduce previous results\n",
      "  warnings.warn(\"The default value of lowring has been changed to False, \"\n",
      "/global/homes/c/cramirez/.local/cori/3.8-anaconda-2020.11/lib/python3.8/site-packages/mcfit/mcfit.py:217: UserWarning: The default value of extrap has been changed to False, set it to True if you cannot reproduce previous results\n",
      "  warnings.warn(\"The default value of extrap has been changed to False, \"\n",
      "/global/homes/c/cramirez/.local/cori/3.8-anaconda-2020.11/lib/python3.8/site-packages/mcfit/mcfit.py:126: UserWarning: The default value of lowring has been changed to False, set it to True if you cannot reproduce previous results\n",
      "  warnings.warn(\"The default value of lowring has been changed to False, \"\n",
      "/global/homes/c/cramirez/.local/cori/3.8-anaconda-2020.11/lib/python3.8/site-packages/mcfit/mcfit.py:217: UserWarning: The default value of extrap has been changed to False, set it to True if you cannot reproduce previous results\n",
      "  warnings.warn(\"The default value of extrap has been changed to False, \"\n"
     ]
    }
   ],
   "source": [
    "fig, axs = plt.subplots(1,2)\n",
    "labels_pos = [5]\n",
    "labels_neg = [4, 2]\n",
    "\n",
    "for ax, pole in zip(axs, [0,2]):\n",
    "    plot_sum(ax, labels_pos, labels_neg, poles=[pole])\n",
    "    ax.set_title(f'npole: {pole}')\n",
    "    ax.set_xlim(-5, 200)"
   ]
  },
  {
   "cell_type": "code",
   "execution_count": 77,
   "id": "3ae6798c-2266-44a2-9bf4-42ce8a530aab",
   "metadata": {},
   "outputs": [
    {
     "data": {
      "application/vnd.jupyter.widget-view+json": {
       "model_id": "77b92e90feca4a56b0fbeaa24040a75c",
       "version_major": 2,
       "version_minor": 0
      },
      "text/plain": [
       "Canvas(toolbar=Toolbar(toolitems=[('Home', 'Reset original view', 'home', 'home'), ('Back', 'Back to previous …"
      ]
     },
     "metadata": {},
     "output_type": "display_data"
    },
    {
     "name": "stderr",
     "output_type": "stream",
     "text": [
      "/global/homes/c/cramirez/.local/cori/3.8-anaconda-2020.11/lib/python3.8/site-packages/mcfit/mcfit.py:126: UserWarning: The default value of lowring has been changed to False, set it to True if you cannot reproduce previous results\n",
      "  warnings.warn(\"The default value of lowring has been changed to False, \"\n",
      "/global/homes/c/cramirez/.local/cori/3.8-anaconda-2020.11/lib/python3.8/site-packages/mcfit/mcfit.py:217: UserWarning: The default value of extrap has been changed to False, set it to True if you cannot reproduce previous results\n",
      "  warnings.warn(\"The default value of extrap has been changed to False, \"\n",
      "/global/homes/c/cramirez/.local/cori/3.8-anaconda-2020.11/lib/python3.8/site-packages/mcfit/mcfit.py:126: UserWarning: The default value of lowring has been changed to False, set it to True if you cannot reproduce previous results\n",
      "  warnings.warn(\"The default value of lowring has been changed to False, \"\n",
      "/global/homes/c/cramirez/.local/cori/3.8-anaconda-2020.11/lib/python3.8/site-packages/mcfit/mcfit.py:217: UserWarning: The default value of extrap has been changed to False, set it to True if you cannot reproduce previous results\n",
      "  warnings.warn(\"The default value of extrap has been changed to False, \"\n"
     ]
    }
   ],
   "source": [
    "fig, axs = plt.subplots(1,2)\n",
    "labels_pos = [3]\n",
    "labels_neg = [1, 2]\n",
    "\n",
    "for ax, pole in zip(axs, [0,2]):\n",
    "    plot_sum(ax, labels_pos, labels_neg, poles=[pole])\n",
    "    ax.set_title(f'npole: {pole}')\n",
    "    ax.set_xlim(-5, 200)"
   ]
  },
  {
   "cell_type": "markdown",
   "id": "1232fadd-6d99-40b5-bf05-5c81bd8f6cfa",
   "metadata": {},
   "source": [
    "# Single plots"
   ]
  },
  {
   "cell_type": "code",
   "execution_count": 78,
   "id": "d1bc9797-a4d4-4b1d-ad14-19e8ac1ee8b6",
   "metadata": {},
   "outputs": [
    {
     "data": {
      "application/vnd.jupyter.widget-view+json": {
       "model_id": "48daa7e019984eaaad41b062ab5c5917",
       "version_major": 2,
       "version_minor": 0
      },
      "text/plain": [
       "Canvas(toolbar=Toolbar(toolitems=[('Home', 'Reset original view', 'home', 'home'), ('Back', 'Back to previous …"
      ]
     },
     "metadata": {},
     "output_type": "display_data"
    },
    {
     "name": "stderr",
     "output_type": "stream",
     "text": [
      "/global/homes/c/cramirez/.local/cori/3.8-anaconda-2020.11/lib/python3.8/site-packages/mcfit/mcfit.py:126: UserWarning: The default value of lowring has been changed to False, set it to True if you cannot reproduce previous results\n",
      "  warnings.warn(\"The default value of lowring has been changed to False, \"\n",
      "/global/homes/c/cramirez/.local/cori/3.8-anaconda-2020.11/lib/python3.8/site-packages/mcfit/mcfit.py:217: UserWarning: The default value of extrap has been changed to False, set it to True if you cannot reproduce previous results\n",
      "  warnings.warn(\"The default value of extrap has been changed to False, \"\n",
      "/global/homes/c/cramirez/.local/cori/3.8-anaconda-2020.11/lib/python3.8/site-packages/mcfit/mcfit.py:126: UserWarning: The default value of lowring has been changed to False, set it to True if you cannot reproduce previous results\n",
      "  warnings.warn(\"The default value of lowring has been changed to False, \"\n",
      "/global/homes/c/cramirez/.local/cori/3.8-anaconda-2020.11/lib/python3.8/site-packages/mcfit/mcfit.py:217: UserWarning: The default value of extrap has been changed to False, set it to True if you cannot reproduce previous results\n",
      "  warnings.warn(\"The default value of extrap has been changed to False, \"\n"
     ]
    }
   ],
   "source": [
    "fig, ax = plt.subplots()\n",
    "\n",
    "plot_sum(ax, [1], c=['C0', 'C1'], alpha=0.5)\n",
    "ax.set_xlim(-5, 200)\n",
    "ax.legend();"
   ]
  },
  {
   "cell_type": "code",
   "execution_count": 79,
   "id": "958d90f5-ce75-43c1-abe8-497d60aed022",
   "metadata": {},
   "outputs": [
    {
     "data": {
      "application/vnd.jupyter.widget-view+json": {
       "model_id": "3aaf860c501e4376a86012ab2f7e81d3",
       "version_major": 2,
       "version_minor": 0
      },
      "text/plain": [
       "Canvas(toolbar=Toolbar(toolitems=[('Home', 'Reset original view', 'home', 'home'), ('Back', 'Back to previous …"
      ]
     },
     "metadata": {},
     "output_type": "display_data"
    },
    {
     "name": "stderr",
     "output_type": "stream",
     "text": [
      "/global/homes/c/cramirez/.local/cori/3.8-anaconda-2020.11/lib/python3.8/site-packages/mcfit/mcfit.py:126: UserWarning: The default value of lowring has been changed to False, set it to True if you cannot reproduce previous results\n",
      "  warnings.warn(\"The default value of lowring has been changed to False, \"\n",
      "/global/homes/c/cramirez/.local/cori/3.8-anaconda-2020.11/lib/python3.8/site-packages/mcfit/mcfit.py:217: UserWarning: The default value of extrap has been changed to False, set it to True if you cannot reproduce previous results\n",
      "  warnings.warn(\"The default value of extrap has been changed to False, \"\n",
      "/global/homes/c/cramirez/.local/cori/3.8-anaconda-2020.11/lib/python3.8/site-packages/mcfit/mcfit.py:126: UserWarning: The default value of lowring has been changed to False, set it to True if you cannot reproduce previous results\n",
      "  warnings.warn(\"The default value of lowring has been changed to False, \"\n",
      "/global/homes/c/cramirez/.local/cori/3.8-anaconda-2020.11/lib/python3.8/site-packages/mcfit/mcfit.py:217: UserWarning: The default value of extrap has been changed to False, set it to True if you cannot reproduce previous results\n",
      "  warnings.warn(\"The default value of extrap has been changed to False, \"\n"
     ]
    }
   ],
   "source": [
    "fig, ax = plt.subplots()\n",
    "\n",
    "plot_sum(ax, [2], c=['C0', 'C1'], alpha=0.5)\n",
    "ax.set_xlim(-5, 200)\n",
    "ax.legend();"
   ]
  },
  {
   "cell_type": "code",
   "execution_count": 80,
   "id": "621ae547-b8c7-4cc2-9e0a-83f0e37d777f",
   "metadata": {},
   "outputs": [
    {
     "data": {
      "application/vnd.jupyter.widget-view+json": {
       "model_id": "d8dbbb12e979462b80abe483cae39e30",
       "version_major": 2,
       "version_minor": 0
      },
      "text/plain": [
       "Canvas(toolbar=Toolbar(toolitems=[('Home', 'Reset original view', 'home', 'home'), ('Back', 'Back to previous …"
      ]
     },
     "metadata": {},
     "output_type": "display_data"
    },
    {
     "name": "stderr",
     "output_type": "stream",
     "text": [
      "/global/homes/c/cramirez/.local/cori/3.8-anaconda-2020.11/lib/python3.8/site-packages/mcfit/mcfit.py:126: UserWarning: The default value of lowring has been changed to False, set it to True if you cannot reproduce previous results\n",
      "  warnings.warn(\"The default value of lowring has been changed to False, \"\n",
      "/global/homes/c/cramirez/.local/cori/3.8-anaconda-2020.11/lib/python3.8/site-packages/mcfit/mcfit.py:217: UserWarning: The default value of extrap has been changed to False, set it to True if you cannot reproduce previous results\n",
      "  warnings.warn(\"The default value of extrap has been changed to False, \"\n",
      "/global/homes/c/cramirez/.local/cori/3.8-anaconda-2020.11/lib/python3.8/site-packages/mcfit/mcfit.py:126: UserWarning: The default value of lowring has been changed to False, set it to True if you cannot reproduce previous results\n",
      "  warnings.warn(\"The default value of lowring has been changed to False, \"\n",
      "/global/homes/c/cramirez/.local/cori/3.8-anaconda-2020.11/lib/python3.8/site-packages/mcfit/mcfit.py:217: UserWarning: The default value of extrap has been changed to False, set it to True if you cannot reproduce previous results\n",
      "  warnings.warn(\"The default value of extrap has been changed to False, \"\n"
     ]
    }
   ],
   "source": [
    "fig, ax = plt.subplots()\n",
    "\n",
    "plot_sum(ax, [3], c=['C0', 'C1'], alpha=0.5)\n",
    "ax.set_xlim(-5, 200)\n",
    "ax.legend();"
   ]
  },
  {
   "cell_type": "code",
   "execution_count": 81,
   "id": "3afd85f7-bef8-4ad9-810e-b30a5f63787d",
   "metadata": {},
   "outputs": [
    {
     "data": {
      "application/vnd.jupyter.widget-view+json": {
       "model_id": "a506f7abc2a240e2a2afb58071750c1a",
       "version_major": 2,
       "version_minor": 0
      },
      "text/plain": [
       "Canvas(toolbar=Toolbar(toolitems=[('Home', 'Reset original view', 'home', 'home'), ('Back', 'Back to previous …"
      ]
     },
     "metadata": {},
     "output_type": "display_data"
    },
    {
     "name": "stderr",
     "output_type": "stream",
     "text": [
      "/global/homes/c/cramirez/.local/cori/3.8-anaconda-2020.11/lib/python3.8/site-packages/mcfit/mcfit.py:126: UserWarning: The default value of lowring has been changed to False, set it to True if you cannot reproduce previous results\n",
      "  warnings.warn(\"The default value of lowring has been changed to False, \"\n",
      "/global/homes/c/cramirez/.local/cori/3.8-anaconda-2020.11/lib/python3.8/site-packages/mcfit/mcfit.py:217: UserWarning: The default value of extrap has been changed to False, set it to True if you cannot reproduce previous results\n",
      "  warnings.warn(\"The default value of extrap has been changed to False, \"\n",
      "/global/homes/c/cramirez/.local/cori/3.8-anaconda-2020.11/lib/python3.8/site-packages/mcfit/mcfit.py:126: UserWarning: The default value of lowring has been changed to False, set it to True if you cannot reproduce previous results\n",
      "  warnings.warn(\"The default value of lowring has been changed to False, \"\n",
      "/global/homes/c/cramirez/.local/cori/3.8-anaconda-2020.11/lib/python3.8/site-packages/mcfit/mcfit.py:217: UserWarning: The default value of extrap has been changed to False, set it to True if you cannot reproduce previous results\n",
      "  warnings.warn(\"The default value of extrap has been changed to False, \"\n"
     ]
    }
   ],
   "source": [
    "fig, ax = plt.subplots()\n",
    "\n",
    "plot_sum(ax, [4], c=['C0', 'C1'], alpha=0.5)\n",
    "ax.set_xlim(-5, 200)\n",
    "ax.legend();"
   ]
  },
  {
   "cell_type": "code",
   "execution_count": 82,
   "id": "1a1b4f31-b2c6-4b6d-bd80-ff58f228576c",
   "metadata": {},
   "outputs": [
    {
     "data": {
      "application/vnd.jupyter.widget-view+json": {
       "model_id": "a14e32bbc388475086fc212f21cebf36",
       "version_major": 2,
       "version_minor": 0
      },
      "text/plain": [
       "Canvas(toolbar=Toolbar(toolitems=[('Home', 'Reset original view', 'home', 'home'), ('Back', 'Back to previous …"
      ]
     },
     "metadata": {},
     "output_type": "display_data"
    },
    {
     "name": "stderr",
     "output_type": "stream",
     "text": [
      "/global/homes/c/cramirez/.local/cori/3.8-anaconda-2020.11/lib/python3.8/site-packages/mcfit/mcfit.py:126: UserWarning: The default value of lowring has been changed to False, set it to True if you cannot reproduce previous results\n",
      "  warnings.warn(\"The default value of lowring has been changed to False, \"\n",
      "/global/homes/c/cramirez/.local/cori/3.8-anaconda-2020.11/lib/python3.8/site-packages/mcfit/mcfit.py:217: UserWarning: The default value of extrap has been changed to False, set it to True if you cannot reproduce previous results\n",
      "  warnings.warn(\"The default value of extrap has been changed to False, \"\n",
      "/global/homes/c/cramirez/.local/cori/3.8-anaconda-2020.11/lib/python3.8/site-packages/mcfit/mcfit.py:126: UserWarning: The default value of lowring has been changed to False, set it to True if you cannot reproduce previous results\n",
      "  warnings.warn(\"The default value of lowring has been changed to False, \"\n",
      "/global/homes/c/cramirez/.local/cori/3.8-anaconda-2020.11/lib/python3.8/site-packages/mcfit/mcfit.py:217: UserWarning: The default value of extrap has been changed to False, set it to True if you cannot reproduce previous results\n",
      "  warnings.warn(\"The default value of extrap has been changed to False, \"\n"
     ]
    }
   ],
   "source": [
    "fig, ax = plt.subplots()\n",
    "\n",
    "plot_sum(ax, [5], c=['C0', 'C1'], alpha=0.5)\n",
    "ax.set_xlim(-5, 200)\n",
    "ax.legend();"
   ]
  },
  {
   "cell_type": "code",
   "execution_count": 83,
   "id": "5c8476e8-514d-4ac0-8a5b-5a8feb46141a",
   "metadata": {},
   "outputs": [
    {
     "data": {
      "application/vnd.jupyter.widget-view+json": {
       "model_id": "ac7c95808cbc4fbb81bff111015f344e",
       "version_major": 2,
       "version_minor": 0
      },
      "text/plain": [
       "Canvas(toolbar=Toolbar(toolitems=[('Home', 'Reset original view', 'home', 'home'), ('Back', 'Back to previous …"
      ]
     },
     "metadata": {},
     "output_type": "display_data"
    },
    {
     "name": "stderr",
     "output_type": "stream",
     "text": [
      "/global/homes/c/cramirez/.local/cori/3.8-anaconda-2020.11/lib/python3.8/site-packages/mcfit/mcfit.py:126: UserWarning: The default value of lowring has been changed to False, set it to True if you cannot reproduce previous results\n",
      "  warnings.warn(\"The default value of lowring has been changed to False, \"\n",
      "/global/homes/c/cramirez/.local/cori/3.8-anaconda-2020.11/lib/python3.8/site-packages/mcfit/mcfit.py:217: UserWarning: The default value of extrap has been changed to False, set it to True if you cannot reproduce previous results\n",
      "  warnings.warn(\"The default value of extrap has been changed to False, \"\n",
      "/global/homes/c/cramirez/.local/cori/3.8-anaconda-2020.11/lib/python3.8/site-packages/mcfit/mcfit.py:126: UserWarning: The default value of lowring has been changed to False, set it to True if you cannot reproduce previous results\n",
      "  warnings.warn(\"The default value of lowring has been changed to False, \"\n",
      "/global/homes/c/cramirez/.local/cori/3.8-anaconda-2020.11/lib/python3.8/site-packages/mcfit/mcfit.py:217: UserWarning: The default value of extrap has been changed to False, set it to True if you cannot reproduce previous results\n",
      "  warnings.warn(\"The default value of extrap has been changed to False, \"\n"
     ]
    }
   ],
   "source": [
    "fig, ax = plt.subplots()\n",
    "\n",
    "plot_sum(ax, [5], c=['C0', 'C1'], alpha=0.5)\n",
    "ax.set_xlim(-5, 200)\n",
    "ax.legend();"
   ]
  },
  {
   "cell_type": "code",
   "execution_count": 84,
   "id": "6d6737da-94cd-4e03-83e3-20c43520452d",
   "metadata": {},
   "outputs": [
    {
     "data": {
      "application/vnd.jupyter.widget-view+json": {
       "model_id": "0de2c2f19aaa4a3cb98510df23223910",
       "version_major": 2,
       "version_minor": 0
      },
      "text/plain": [
       "Canvas(toolbar=Toolbar(toolitems=[('Home', 'Reset original view', 'home', 'home'), ('Back', 'Back to previous …"
      ]
     },
     "metadata": {},
     "output_type": "display_data"
    },
    {
     "name": "stderr",
     "output_type": "stream",
     "text": [
      "/global/homes/c/cramirez/.local/cori/3.8-anaconda-2020.11/lib/python3.8/site-packages/mcfit/mcfit.py:126: UserWarning: The default value of lowring has been changed to False, set it to True if you cannot reproduce previous results\n",
      "  warnings.warn(\"The default value of lowring has been changed to False, \"\n",
      "/global/homes/c/cramirez/.local/cori/3.8-anaconda-2020.11/lib/python3.8/site-packages/mcfit/mcfit.py:217: UserWarning: The default value of extrap has been changed to False, set it to True if you cannot reproduce previous results\n",
      "  warnings.warn(\"The default value of extrap has been changed to False, \"\n",
      "/global/homes/c/cramirez/.local/cori/3.8-anaconda-2020.11/lib/python3.8/site-packages/mcfit/mcfit.py:126: UserWarning: The default value of lowring has been changed to False, set it to True if you cannot reproduce previous results\n",
      "  warnings.warn(\"The default value of lowring has been changed to False, \"\n",
      "/global/homes/c/cramirez/.local/cori/3.8-anaconda-2020.11/lib/python3.8/site-packages/mcfit/mcfit.py:217: UserWarning: The default value of extrap has been changed to False, set it to True if you cannot reproduce previous results\n",
      "  warnings.warn(\"The default value of extrap has been changed to False, \"\n",
      "/global/homes/c/cramirez/.local/cori/3.8-anaconda-2020.11/lib/python3.8/site-packages/mcfit/mcfit.py:126: UserWarning: The default value of lowring has been changed to False, set it to True if you cannot reproduce previous results\n",
      "  warnings.warn(\"The default value of lowring has been changed to False, \"\n",
      "/global/homes/c/cramirez/.local/cori/3.8-anaconda-2020.11/lib/python3.8/site-packages/mcfit/mcfit.py:217: UserWarning: The default value of extrap has been changed to False, set it to True if you cannot reproduce previous results\n",
      "  warnings.warn(\"The default value of extrap has been changed to False, \"\n",
      "/global/homes/c/cramirez/.local/cori/3.8-anaconda-2020.11/lib/python3.8/site-packages/mcfit/mcfit.py:126: UserWarning: The default value of lowring has been changed to False, set it to True if you cannot reproduce previous results\n",
      "  warnings.warn(\"The default value of lowring has been changed to False, \"\n",
      "/global/homes/c/cramirez/.local/cori/3.8-anaconda-2020.11/lib/python3.8/site-packages/mcfit/mcfit.py:217: UserWarning: The default value of extrap has been changed to False, set it to True if you cannot reproduce previous results\n",
      "  warnings.warn(\"The default value of extrap has been changed to False, \"\n"
     ]
    }
   ],
   "source": [
    "fig, ax = plt.subplots()\n",
    "\n",
    "labels = [6, 5, 3]\n",
    "substract_labels = [6]\n",
    "\n",
    "\n",
    "plot_sum(ax, labels, substract_labels, c=['C0', 'C1'], alpha=0.5)\n",
    "plot_sum(ax, [6], c=['C2', 'C3'], alpha=0.5)\n",
    "ax.set_xlim(-5, 200)\n",
    "ax.legend();\n"
   ]
  },
  {
   "cell_type": "code",
   "execution_count": 85,
   "id": "8076afdc-9b77-44b0-bf9d-a640984933dc",
   "metadata": {},
   "outputs": [
    {
     "data": {
      "application/vnd.jupyter.widget-view+json": {
       "model_id": "3e403790597644b889d63db7677d5518",
       "version_major": 2,
       "version_minor": 0
      },
      "text/plain": [
       "Canvas(toolbar=Toolbar(toolitems=[('Home', 'Reset original view', 'home', 'home'), ('Back', 'Back to previous …"
      ]
     },
     "metadata": {},
     "output_type": "display_data"
    },
    {
     "name": "stderr",
     "output_type": "stream",
     "text": [
      "/global/homes/c/cramirez/.local/cori/3.8-anaconda-2020.11/lib/python3.8/site-packages/mcfit/mcfit.py:126: UserWarning: The default value of lowring has been changed to False, set it to True if you cannot reproduce previous results\n",
      "  warnings.warn(\"The default value of lowring has been changed to False, \"\n",
      "/global/homes/c/cramirez/.local/cori/3.8-anaconda-2020.11/lib/python3.8/site-packages/mcfit/mcfit.py:217: UserWarning: The default value of extrap has been changed to False, set it to True if you cannot reproduce previous results\n",
      "  warnings.warn(\"The default value of extrap has been changed to False, \"\n",
      "/global/homes/c/cramirez/.local/cori/3.8-anaconda-2020.11/lib/python3.8/site-packages/mcfit/mcfit.py:126: UserWarning: The default value of lowring has been changed to False, set it to True if you cannot reproduce previous results\n",
      "  warnings.warn(\"The default value of lowring has been changed to False, \"\n",
      "/global/homes/c/cramirez/.local/cori/3.8-anaconda-2020.11/lib/python3.8/site-packages/mcfit/mcfit.py:217: UserWarning: The default value of extrap has been changed to False, set it to True if you cannot reproduce previous results\n",
      "  warnings.warn(\"The default value of extrap has been changed to False, \"\n"
     ]
    }
   ],
   "source": [
    "fig, ax = plt.subplots()\n",
    "\n",
    "plot_sum(ax, [7], c=['C0', 'C1'], alpha=0.5)\n",
    "ax.set_xlim(-5, 200)\n",
    "ax.legend();"
   ]
  },
  {
   "cell_type": "code",
   "execution_count": 86,
   "id": "cdb33983-49ae-4208-aee5-a0a4f8c83d30",
   "metadata": {},
   "outputs": [
    {
     "data": {
      "application/vnd.jupyter.widget-view+json": {
       "model_id": "138d2d6057584ecdab19fa281c8357cf",
       "version_major": 2,
       "version_minor": 0
      },
      "text/plain": [
       "Canvas(toolbar=Toolbar(toolitems=[('Home', 'Reset original view', 'home', 'home'), ('Back', 'Back to previous …"
      ]
     },
     "metadata": {},
     "output_type": "display_data"
    },
    {
     "name": "stderr",
     "output_type": "stream",
     "text": [
      "/global/homes/c/cramirez/.local/cori/3.8-anaconda-2020.11/lib/python3.8/site-packages/mcfit/mcfit.py:126: UserWarning: The default value of lowring has been changed to False, set it to True if you cannot reproduce previous results\n",
      "  warnings.warn(\"The default value of lowring has been changed to False, \"\n",
      "/global/homes/c/cramirez/.local/cori/3.8-anaconda-2020.11/lib/python3.8/site-packages/mcfit/mcfit.py:217: UserWarning: The default value of extrap has been changed to False, set it to True if you cannot reproduce previous results\n",
      "  warnings.warn(\"The default value of extrap has been changed to False, \"\n",
      "/global/homes/c/cramirez/.local/cori/3.8-anaconda-2020.11/lib/python3.8/site-packages/mcfit/mcfit.py:126: UserWarning: The default value of lowring has been changed to False, set it to True if you cannot reproduce previous results\n",
      "  warnings.warn(\"The default value of lowring has been changed to False, \"\n",
      "/global/homes/c/cramirez/.local/cori/3.8-anaconda-2020.11/lib/python3.8/site-packages/mcfit/mcfit.py:217: UserWarning: The default value of extrap has been changed to False, set it to True if you cannot reproduce previous results\n",
      "  warnings.warn(\"The default value of extrap has been changed to False, \"\n"
     ]
    }
   ],
   "source": [
    "fig, ax = plt.subplots()\n",
    "\n",
    "plot_sum(ax, [8], c=['C0', 'C1'], alpha=0.5)\n",
    "ax.set_xlim(-5, 200)\n",
    "ax.legend();"
   ]
  },
  {
   "cell_type": "code",
   "execution_count": 87,
   "id": "1b76255c-93c6-4bfc-a520-cab3b8ee7d3f",
   "metadata": {},
   "outputs": [
    {
     "data": {
      "application/vnd.jupyter.widget-view+json": {
       "model_id": "f0989b70d96a4b81a0d4beab634caf29",
       "version_major": 2,
       "version_minor": 0
      },
      "text/plain": [
       "Canvas(toolbar=Toolbar(toolitems=[('Home', 'Reset original view', 'home', 'home'), ('Back', 'Back to previous …"
      ]
     },
     "metadata": {},
     "output_type": "display_data"
    },
    {
     "name": "stderr",
     "output_type": "stream",
     "text": [
      "/global/homes/c/cramirez/.local/cori/3.8-anaconda-2020.11/lib/python3.8/site-packages/mcfit/mcfit.py:126: UserWarning: The default value of lowring has been changed to False, set it to True if you cannot reproduce previous results\n",
      "  warnings.warn(\"The default value of lowring has been changed to False, \"\n",
      "/global/homes/c/cramirez/.local/cori/3.8-anaconda-2020.11/lib/python3.8/site-packages/mcfit/mcfit.py:217: UserWarning: The default value of extrap has been changed to False, set it to True if you cannot reproduce previous results\n",
      "  warnings.warn(\"The default value of extrap has been changed to False, \"\n",
      "/global/homes/c/cramirez/.local/cori/3.8-anaconda-2020.11/lib/python3.8/site-packages/mcfit/mcfit.py:126: UserWarning: The default value of lowring has been changed to False, set it to True if you cannot reproduce previous results\n",
      "  warnings.warn(\"The default value of lowring has been changed to False, \"\n",
      "/global/homes/c/cramirez/.local/cori/3.8-anaconda-2020.11/lib/python3.8/site-packages/mcfit/mcfit.py:217: UserWarning: The default value of extrap has been changed to False, set it to True if you cannot reproduce previous results\n",
      "  warnings.warn(\"The default value of extrap has been changed to False, \"\n"
     ]
    }
   ],
   "source": [
    "fig, ax = plt.subplots()\n",
    "\n",
    "plot_sum(ax, [9], c=['C0', 'C1'], alpha=0.5)\n",
    "ax.set_xlim(-5, 200)\n",
    "ax.legend();"
   ]
  },
  {
   "cell_type": "code",
   "execution_count": 88,
   "id": "96fcc291-218a-4950-b785-e405e01fcf4f",
   "metadata": {},
   "outputs": [
    {
     "data": {
      "application/vnd.jupyter.widget-view+json": {
       "model_id": "7aa7c68498554584864f808ae53c3845",
       "version_major": 2,
       "version_minor": 0
      },
      "text/plain": [
       "Canvas(toolbar=Toolbar(toolitems=[('Home', 'Reset original view', 'home', 'home'), ('Back', 'Back to previous …"
      ]
     },
     "metadata": {},
     "output_type": "display_data"
    },
    {
     "name": "stderr",
     "output_type": "stream",
     "text": [
      "/global/homes/c/cramirez/.local/cori/3.8-anaconda-2020.11/lib/python3.8/site-packages/mcfit/mcfit.py:126: UserWarning: The default value of lowring has been changed to False, set it to True if you cannot reproduce previous results\n",
      "  warnings.warn(\"The default value of lowring has been changed to False, \"\n",
      "/global/homes/c/cramirez/.local/cori/3.8-anaconda-2020.11/lib/python3.8/site-packages/mcfit/mcfit.py:217: UserWarning: The default value of extrap has been changed to False, set it to True if you cannot reproduce previous results\n",
      "  warnings.warn(\"The default value of extrap has been changed to False, \"\n",
      "/global/homes/c/cramirez/.local/cori/3.8-anaconda-2020.11/lib/python3.8/site-packages/mcfit/mcfit.py:126: UserWarning: The default value of lowring has been changed to False, set it to True if you cannot reproduce previous results\n",
      "  warnings.warn(\"The default value of lowring has been changed to False, \"\n",
      "/global/homes/c/cramirez/.local/cori/3.8-anaconda-2020.11/lib/python3.8/site-packages/mcfit/mcfit.py:217: UserWarning: The default value of extrap has been changed to False, set it to True if you cannot reproduce previous results\n",
      "  warnings.warn(\"The default value of extrap has been changed to False, \"\n"
     ]
    }
   ],
   "source": [
    "fig, ax = plt.subplots()\n",
    "\n",
    "plot_sum(ax, [10], c=['C0', 'C1'], alpha=0.5)\n",
    "ax.set_xlim(-5, 200)\n",
    "ax.legend();"
   ]
  },
  {
   "cell_type": "code",
   "execution_count": null,
   "id": "1dc57d37-28af-4b54-aec9-42e100bb7844",
   "metadata": {},
   "outputs": [],
   "source": []
  }
 ],
 "metadata": {
  "kernelspec": {
   "display_name": "CoLoRe",
   "language": "python",
   "name": "colore"
  },
  "language_info": {
   "codemirror_mode": {
    "name": "ipython",
    "version": 3
   },
   "file_extension": ".py",
   "mimetype": "text/x-python",
   "name": "python",
   "nbconvert_exporter": "python",
   "pygments_lexer": "ipython3",
   "version": "3.8.5"
  }
 },
 "nbformat": 4,
 "nbformat_minor": 5
}
