{
 "cells": [
  {
   "cell_type": "code",
   "execution_count": 1,
   "id": "d28bd191-2d51-4637-b45f-ecd63cf115b9",
   "metadata": {
    "jupyter": {
     "source_hidden": true
    },
    "tags": []
   },
   "outputs": [],
   "source": [
    "from CoLoRe_corrf_analysis.plot_methods import Plots\n",
    "from CoLoRe_corrf_analysis.file_funcs import FileFuncs\n",
    "from CoLoRe_corrf_analysis.fitter import Fitter\n",
    "from CoLoRe_corrf_analysis.read_colore import ComputeModelsCoLoRe\n",
    "\n",
    "from pathlib import Path\n",
    "import matplotlib.pyplot as plt\n",
    "import numpy as np\n",
    "\n",
    "theory_path=Path('/global/cscratch1/sd/damonge/CoLoRe_sims/sim1000')\n",
    "bias_filename=Path('/global/cscratch1/sd/cramirez/NBodyKit/hanyu_david_box/input_files/BzBlue.txt')\n",
    "nz_filename=Path('/global/cscratch1/sd/cramirez/NBodyKit/hanyu_david_box/input_files/NzBlue.txt')\n",
    "pk_filename=Path('/global/cscratch1/sd/cramirez/NBodyKit/hanyu_david_box/input_files/Pk_CAMB_test.dat')\n",
    "\n",
    "theory = ComputeModelsCoLoRe(\n",
    "    box_path=theory_path,\n",
    "    source=2,\n",
    "    nz_filename=nz_filename,\n",
    "    pk_filename=pk_filename,\n",
    "    param_cfg_filename='/global/cscratch1/sd/damonge/CoLoRe_sims/sim1000/out_params.cfg',\n",
    "    bias_filename=bias_filename,\n",
    "    apply_lognormal=True)\n",
    "\n",
    "zmin=0.5\n",
    "zmax=0.7\n",
    "z = theory.get_zeff(zmin=zmin, zmax=zmax) #the usual redshift range\n",
    "\n",
    "\n",
    "class Results:\n",
    "    def __init__(self, label):\n",
    "        self.label = label\n",
    "    \n",
    "    def __str__(self):\n",
    "        return self.label\n",
    "    \n",
    "    def get_cf_from_boxes(self, sub_boxes):\n",
    "        xis = np.array([np.asarray(box.halotools_like_cf).sum(axis=1) for box in sub_boxes])\n",
    "        return xis.mean(axis=0)#, xis.std(ddof=1, axis=0)/np.sqrt(len(sub_boxes))   \n",
    "    \n",
    "def get_npole_legendre(order, npole):\n",
    "    from scipy.special import legendre\n",
    "    from scipy.integrate import quad\n",
    "\n",
    "    L = legendre(order)\n",
    "    return (2*npole+1)/2 * quad(L, -1, 1)[0]\n",
    "        \n",
    "    \n",
    "model = Results('model')\n",
    "data = Results('data')\n"
   ]
  },
  {
   "cell_type": "markdown",
   "id": "2830b648-be2c-4937-a451-cbaed04887ad",
   "metadata": {
    "tags": []
   },
   "source": [
    "# Why sum correlations?\n",
    "As all the terms in the cross-correlations checked independently seem to work, we now want to check if we can reproduce the problem by combining the different terms obtained separatedly."
   ]
  },
  {
   "cell_type": "code",
   "execution_count": 27,
   "id": "64a8b613-58f2-4ac2-a5c4-140f1ac7fac0",
   "metadata": {},
   "outputs": [],
   "source": [
    "# We will work with the multibias 1 box. Therefore the effective biases are:\n",
    "biases = {\n",
    "    1 : 0,\n",
    "    4 : 1.13,\n",
    "    5 : 1.5,\n",
    "}"
   ]
  },
  {
   "cell_type": "markdown",
   "id": "71ba3977-367e-45af-889d-d325af1788c2",
   "metadata": {},
   "source": [
    "## Reconstructing full expression for s4(rsd)_s5(rsd)"
   ]
  },
  {
   "cell_type": "markdown",
   "id": "8418a93f-2b83-4d48-8d69-f4edf0d3c2b3",
   "metadata": {},
   "source": [
    "We use this combination as it requires all the terms in our RSD model:"
   ]
  },
  {
   "cell_type": "markdown",
   "id": "360f4f3d-8c8d-486f-9547-796a3c1b4012",
   "metadata": {},
   "source": [
    "$$P(k) = <\\delta_{\\rm LN}^{\\rm b_A} \\delta_{\\rm LN}^{\\rm b_B}>  +  \n",
    " f^2 \\mu^4 <\\delta_L \\delta_L>+ \n",
    " f \\mu^2 <\\delta_{\\rm LN}^{\\rm b_A}\\delta_{\\rm L}> + \n",
    " f \\mu^2 <\\delta_{\\rm LN}^{\\rm b_B}\\delta_{\\rm L}>$$"
   ]
  },
  {
   "cell_type": "markdown",
   "id": "1b548939-b038-4f78-b979-013a5e8f0ec5",
   "metadata": {},
   "source": [
    "The terms in the cross-correlation can be recovered each one by:\n",
    "\n",
    "$<\\delta_{\\rm LN}^{\\rm b_A} \\delta_{\\rm LN}^{\\rm b_B}>$: (0) Computing the cross-correlation of the fields without RSD.\\\n",
    "$f^2 \\mu^4 <\\delta_L \\delta_L>$: (1) Auto-correlation unclustered source s1.\\\n",
    "$f \\mu^2 <\\delta_{\\rm LN }^{\\rm b_A} \\delta_L>$: (2) Cross-correlation s1-s4(norsd).\\\n",
    "$f \\mu^2 <\\delta_{\\rm LN }^{\\rm b_B} \\delta_L>$: (3) Cross-correlation s1-s5(norsd).\n",
    "\n"
   ]
  },
  {
   "cell_type": "markdown",
   "id": "6cd2e1f6-d6f1-4dce-a935-986a26f56dff",
   "metadata": {},
   "source": [
    "We can also get some mixed terms by looking at these other cross-correlations:\n",
    "\n",
    "(02): s4(norsd)_s5(rsd)\\\n",
    "(03): s4(rsd)_s5(norsd)\\\n",
    "(12): s1(rsd)_s4(norsd)\\\n",
    "(13): s1(rsd)_s4(rsd)\\\n",
    "(0123): s4(rsd)_s5(rsd)\n",
    "\n",
    "All the other terms cannot be obtained independently: (23) (01) (0 1 2) (0 1 3) (0 2 3) (1 2 3)"
   ]
  },
  {
   "cell_type": "markdown",
   "id": "567679fa-65bc-4e67-8385-dc53ca7305fb",
   "metadata": {},
   "source": [
    "In this notebook we will to compute a certain mix of terms and see that it can be reproduced by summing each term (or a combination of terms) independently."
   ]
  },
  {
   "cell_type": "code",
   "execution_count": 2,
   "id": "cf6ba293-bbc5-4ac7-b6f5-9b431829de28",
   "metadata": {
    "jupyter": {
     "source_hidden": true
    },
    "tags": []
   },
   "outputs": [],
   "source": [
    "def get_boxes(source1, source2, rsd1, rsd2, force_path=None):\n",
    "    if force_path != None:\n",
    "        boxes_path = force_path\n",
    "    elif source2==None:\n",
    "        boxes_path=Path(f'/global/cscratch1/sd/cramirez/NBodyKit/multibias/s{source1}/analysis')\n",
    "    else:\n",
    "        boxes_path=Path(f'/global/cscratch1/sd/cramirez/NBodyKit/cross_correlations/multibias/s{source1}_s{source2}')\n",
    "        \n",
    "    sub_boxes = FileFuncs.mix_sims(\n",
    "        FileFuncs.get_full_path(boxes_path,\n",
    "                                rsd=rsd1, rsd2=rsd2, #Must specify here rsd2 \n",
    "                                rmin=0.1, rmax=200, N_bins=41,\n",
    "                                zmin=zmin, zmax=zmax, #Also results for 0.7 and 0.9\n",
    "                                nside=2)\n",
    "    )\n",
    "    \n",
    "    return sub_boxes"
   ]
  },
  {
   "cell_type": "code",
   "execution_count": 3,
   "id": "3eca14ec-d512-4dd3-bce5-25e9a11be1eb",
   "metadata": {
    "jupyter": {
     "source_hidden": true
    },
    "tags": []
   },
   "outputs": [],
   "source": [
    "poles = [0, 2]"
   ]
  },
  {
   "cell_type": "code",
   "execution_count": 4,
   "id": "6ef08f5d-e5b4-4d24-ae7b-0e5d9e11e8c6",
   "metadata": {
    "jupyter": {
     "source_hidden": true
    },
    "tags": []
   },
   "outputs": [],
   "source": [
    "data.boxes = dict()\n",
    "model.biases = dict()\n",
    "\n",
    "data.xi = dict()\n",
    "data.xierr = dict()\n",
    "model.xi = dict()"
   ]
  },
  {
   "cell_type": "code",
   "execution_count": 6,
   "id": "2174cf52-9970-4531-9485-29e672bf5f3c",
   "metadata": {
    "collapsed": true,
    "jupyter": {
     "outputs_hidden": true,
     "source_hidden": true
    },
    "tags": []
   },
   "outputs": [
    {
     "name": "stderr",
     "output_type": "stream",
     "text": [
      "/global/homes/c/cramirez/.local/cori/3.8-anaconda-2020.11/lib/python3.8/site-packages/mcfit/mcfit.py:126: UserWarning: The default value of lowring has been changed to False, set it to True if you cannot reproduce previous results\n",
      "  warnings.warn(\"The default value of lowring has been changed to False, \"\n",
      "/global/homes/c/cramirez/.local/cori/3.8-anaconda-2020.11/lib/python3.8/site-packages/mcfit/mcfit.py:217: UserWarning: The default value of extrap has been changed to False, set it to True if you cannot reproduce previous results\n",
      "  warnings.warn(\"The default value of extrap has been changed to False, \"\n"
     ]
    }
   ],
   "source": [
    "label='0'\n",
    "source1=4\n",
    "rsd1=False\n",
    "bias1=1.13\n",
    "\n",
    "source2=5\n",
    "rsd2=False\n",
    "bias2=1.5\n",
    "\n",
    "data.boxes[label] = get_boxes(source1=source1, source2=source2, rsd1=rsd1, rsd2=rsd2)\n",
    "model.biases[label] = (bias1, bias2)\n",
    "\n",
    "data.xi[label] = dict()\n",
    "data.xierr[label] = dict()\n",
    "model.xi[label] = dict()\n",
    "for pole in poles:\n",
    "    data.xi[label][pole], data.xierr[label][pole] = Plots.get_xi(pole=pole, boxes=data.boxes[label])\n",
    "    model.xi[label][pole] = theory.get_npole(n=pole, z=z, rsd=rsd1, bias=bias1, rsd2=rsd2, bias2=bias2, smooth_factor=1, smooth_factor_rsd=1, smooth_factor_cross=1)"
   ]
  },
  {
   "cell_type": "code",
   "execution_count": 7,
   "id": "06c56141-54ab-4cb9-bbcb-d20412fe28a1",
   "metadata": {
    "jupyter": {
     "source_hidden": true
    },
    "tags": []
   },
   "outputs": [],
   "source": [
    "label='1'\n",
    "source1=1\n",
    "rsd1=True\n",
    "bias1=biases[source1]\n",
    "\n",
    "source2=None\n",
    "rsd2=None\n",
    "bias2=biases[source2] if source2!=None else None\n",
    "\n",
    "data.boxes[label] = get_boxes(source1=source1, source2=source2, rsd1=rsd1, rsd2=rsd2)\n",
    "if len(data.boxes[label]) == 0:\n",
    "    raise ValueError('no boxes found')\n",
    "model.biases[label] = (bias1, bias2)\n",
    "\n",
    "data.xi[label] = dict()\n",
    "data.xierr[label] = dict()\n",
    "model.xi[label] = dict()\n",
    "for pole in poles:\n",
    "    data.xi[label][pole], data.xierr[label][pole] = Plots.get_xi(pole=pole, boxes=data.boxes[label])\n",
    "    model.xi[label][pole] = theory.get_npole(n=pole, z=z, rsd=rsd1, bias=bias1, rsd2=rsd2, bias2=bias2, smooth_factor=1, smooth_factor_rsd=1, smooth_factor_cross=1)"
   ]
  },
  {
   "cell_type": "code",
   "execution_count": 8,
   "id": "ed80297b-77b9-4ef8-8b00-f7edee6108c8",
   "metadata": {
    "jupyter": {
     "source_hidden": true
    },
    "tags": []
   },
   "outputs": [],
   "source": [
    "label='2'\n",
    "source1=1\n",
    "rsd1=True\n",
    "bias1=biases[source1]\n",
    "\n",
    "\n",
    "source2=4\n",
    "rsd2=False\n",
    "bias2=biases[source2] if source2!=None else None\n",
    "\n",
    "data.boxes[label] = get_boxes(source1=source1, source2=source2, rsd1=rsd1, rsd2=rsd2)\n",
    "if len(data.boxes[label]) == 0:\n",
    "    raise ValueError('no boxes found')\n",
    "model.biases[label] = (bias1, bias2)\n",
    "\n",
    "data.xi[label] = dict()\n",
    "data.xierr[label] = dict()\n",
    "model.xi[label] = dict()\n",
    "for pole in poles:\n",
    "    data.xi[label][pole], data.xierr[label][pole] = Plots.get_xi(pole=pole, boxes=data.boxes[label])\n",
    "    model.xi[label][pole] = theory.get_npole(n=pole, z=z, rsd=rsd1, bias=bias1, rsd2=rsd2, bias2=bias2, smooth_factor=1, smooth_factor_rsd=1, smooth_factor_cross=1)"
   ]
  },
  {
   "cell_type": "code",
   "execution_count": 9,
   "id": "11871998-d210-4c17-a651-689d9697798c",
   "metadata": {
    "jupyter": {
     "source_hidden": true
    },
    "tags": []
   },
   "outputs": [],
   "source": [
    "label='3'\n",
    "source1=1\n",
    "rsd1=True\n",
    "bias1=biases[source1]\n",
    "\n",
    "source2=5\n",
    "rsd2=False\n",
    "bias2=biases[source2] if source2!=None else None\n",
    "\n",
    "data.boxes[label] = get_boxes(source1=source1, source2=source2, rsd1=rsd1, rsd2=rsd2)\n",
    "if len(data.boxes[label]) == 0:\n",
    "    raise ValueError('no boxes found')\n",
    "model.biases[label] = (bias1, bias2)\n",
    "\n",
    "data.xi[label] = dict()\n",
    "data.xierr[label] = dict()\n",
    "model.xi[label] = dict()\n",
    "for pole in poles:\n",
    "    data.xi[label][pole], data.xierr[label][pole] = Plots.get_xi(pole=pole, boxes=data.boxes[label])\n",
    "    model.xi[label][pole] = theory.get_npole(n=pole, z=z, rsd=rsd1, bias=bias1, rsd2=rsd2, bias2=bias2, smooth_factor=1, smooth_factor_rsd=1, smooth_factor_cross=1)"
   ]
  },
  {
   "cell_type": "code",
   "execution_count": 10,
   "id": "9a92e44b-db9c-48bf-a257-94bf23d6e297",
   "metadata": {
    "jupyter": {
     "source_hidden": true
    },
    "tags": []
   },
   "outputs": [],
   "source": [
    "label='02'\n",
    "source1=4\n",
    "rsd1=False\n",
    "bias1=biases[source1]\n",
    "\n",
    "source2=5\n",
    "rsd2=True\n",
    "bias2=biases[source2] if source2!=None else None\n",
    "\n",
    "data.boxes[label] = get_boxes(source1=source1, source2=source2, rsd1=rsd1, rsd2=rsd2, force_path=Path('/global/cscratch1/sd/cramirez/NBodyKit/cross_correlations/multibias/s4_s5_from_CoLoRe'))\n",
    "if len(data.boxes[label]) == 0:\n",
    "    raise ValueError('no boxes found')\n",
    "model.biases[label] = (bias1, bias2)\n",
    "\n",
    "data.xi[label] = dict()\n",
    "data.xierr[label] = dict()\n",
    "model.xi[label] = dict()\n",
    "for pole in poles:\n",
    "    data.xi[label][pole], data.xierr[label][pole] = Plots.get_xi(pole=pole, boxes=data.boxes[label])\n",
    "    model.xi[label][pole] = theory.get_npole(n=pole, z=z, rsd=rsd1, bias=bias1, rsd2=rsd2, bias2=bias2, smooth_factor=1, smooth_factor_rsd=1, smooth_factor_cross=1)"
   ]
  },
  {
   "cell_type": "code",
   "execution_count": 11,
   "id": "d22750ca-17c5-4599-afc1-b5acb8c6a351",
   "metadata": {
    "jupyter": {
     "source_hidden": true
    },
    "tags": []
   },
   "outputs": [],
   "source": [
    "label='03'\n",
    "source1=4\n",
    "rsd1=True\n",
    "bias1=biases[source1]\n",
    "\n",
    "source2=5\n",
    "rsd2=False\n",
    "bias2=biases[source2] if source2!=None else None\n",
    "\n",
    "data.boxes[label] = get_boxes(source1=source1, source2=source2, rsd1=rsd1, rsd2=rsd2)\n",
    "if len(data.boxes[label]) == 0:\n",
    "    raise ValueError('no boxes found')\n",
    "model.biases[label] = (bias1, bias2)\n",
    "\n",
    "data.xi[label] = dict()\n",
    "data.xierr[label] = dict()\n",
    "model.xi[label] = dict()\n",
    "for pole in poles:\n",
    "    data.xi[label][pole], data.xierr[label][pole] = Plots.get_xi(pole=pole, boxes=data.boxes[label])\n",
    "    model.xi[label][pole] = theory.get_npole(n=pole, z=z, rsd=rsd1, bias=bias1, rsd2=rsd2, bias2=bias2, smooth_factor=1, smooth_factor_rsd=1, smooth_factor_cross=1)"
   ]
  },
  {
   "cell_type": "code",
   "execution_count": 12,
   "id": "fdbf1b21-65c0-4b61-bf00-07c46b084f2d",
   "metadata": {
    "jupyter": {
     "source_hidden": true
    },
    "tags": []
   },
   "outputs": [],
   "source": [
    "label='12'\n",
    "source1=1\n",
    "rsd1=True\n",
    "bias1=biases[source1]\n",
    "\n",
    "source2=4\n",
    "rsd2=True\n",
    "bias2=biases[source2] if source2!=None else None\n",
    "\n",
    "data.boxes[label] = get_boxes(source1=source1, source2=source2, rsd1=rsd1, rsd2=rsd2)\n",
    "if len(data.boxes[label]) == 0:\n",
    "    raise ValueError('no boxes found')\n",
    "model.biases[label] = (bias1, bias2)\n",
    "\n",
    "data.xi[label] = dict()\n",
    "data.xierr[label] = dict()\n",
    "model.xi[label] = dict()\n",
    "for pole in poles:\n",
    "    data.xi[label][pole], data.xierr[label][pole] = Plots.get_xi(pole=pole, boxes=data.boxes[label])\n",
    "    model.xi[label][pole] = theory.get_npole(n=pole, z=z, rsd=rsd1, bias=bias1, rsd2=rsd2, bias2=bias2, smooth_factor=1, smooth_factor_rsd=1, smooth_factor_cross=1)"
   ]
  },
  {
   "cell_type": "code",
   "execution_count": 13,
   "id": "8cae944e-d918-45d1-ae00-d8532feedee6",
   "metadata": {
    "jupyter": {
     "source_hidden": true
    },
    "tags": []
   },
   "outputs": [],
   "source": [
    "label='13'\n",
    "source1=1\n",
    "rsd1=True\n",
    "bias1=biases[source1]\n",
    "\n",
    "source2=5\n",
    "rsd2=True\n",
    "bias2=biases[source2] if source2!=None else None\n",
    "\n",
    "data.boxes[label] = get_boxes(source1=source1, source2=source2, rsd1=rsd1, rsd2=rsd2)\n",
    "if len(data.boxes[label]) == 0:\n",
    "    raise ValueError('no boxes found')\n",
    "model.biases[label] = (bias1, bias2)\n",
    "\n",
    "data.xi[label] = dict()\n",
    "data.xierr[label] = dict()\n",
    "model.xi[label] = dict()\n",
    "for pole in poles:\n",
    "    data.xi[label][pole], data.xierr[label][pole] = Plots.get_xi(pole=pole, boxes=data.boxes[label])\n",
    "    model.xi[label][pole] = theory.get_npole(n=pole, z=z, rsd=rsd1, bias=bias1, rsd2=rsd2, bias2=bias2, smooth_factor=1, smooth_factor_rsd=1, smooth_factor_cross=1)"
   ]
  },
  {
   "cell_type": "code",
   "execution_count": 14,
   "id": "a745d03d-58ce-472e-8129-dcac27fab264",
   "metadata": {
    "jupyter": {
     "source_hidden": true
    },
    "tags": []
   },
   "outputs": [],
   "source": [
    "label='0123'\n",
    "source1=4\n",
    "rsd1=True\n",
    "bias1=biases[source1]\n",
    "\n",
    "source2=5\n",
    "rsd2=True\n",
    "bias2=biases[source2] if source2!=None else None\n",
    "\n",
    "data.boxes[label] = get_boxes(source1=source1, source2=source2, rsd1=rsd1, rsd2=rsd2)\n",
    "if len(data.boxes[label]) == 0:\n",
    "    raise ValueError('no boxes found')\n",
    "model.biases[label] = (bias1, bias2)\n",
    "\n",
    "data.xi[label] = dict()\n",
    "data.xierr[label] = dict()\n",
    "model.xi[label] = dict()\n",
    "for pole in poles:\n",
    "    data.xi[label][pole], data.xierr[label][pole] = Plots.get_xi(pole=pole, boxes=data.boxes[label])\n",
    "    model.xi[label][pole] = theory.get_npole(n=pole, z=z, rsd=rsd1, bias=bias1, rsd2=rsd2, bias2=bias2, smooth_factor=1, smooth_factor_rsd=1, smooth_factor_cross=1)"
   ]
  },
  {
   "cell_type": "markdown",
   "id": "80ccc838-a05c-4453-94ae-8ef682762d17",
   "metadata": {},
   "source": [
    "# Plots"
   ]
  },
  {
   "cell_type": "code",
   "execution_count": 15,
   "id": "ed6a7e82-9d61-41da-8892-a1cc589cfee5",
   "metadata": {},
   "outputs": [],
   "source": [
    "data.r = data.boxes['0'][0].savg"
   ]
  },
  {
   "cell_type": "code",
   "execution_count": 16,
   "id": "1f881966-db25-424c-8ad9-9f41c262b3f4",
   "metadata": {
    "jupyter": {
     "source_hidden": true
    },
    "tags": []
   },
   "outputs": [],
   "source": [
    "def get_sum_from_labels(labels, poles=[0,2]):\n",
    "    _dataxi = dict()\n",
    "    _dataxierr = dict()\n",
    "    _theoryxi = dict()\n",
    "    for pole in poles:\n",
    "        _dataxi[pole] = np.zeros_like(data.r)\n",
    "        _dataxierr[pole] = np.zeros_like(data.r)\n",
    "        _theoryxi[pole] =np.zeros_like(theory.r)\n",
    "        for label in labels:\n",
    "            _dataxi[pole] += data.xi[label][pole]\n",
    "            _dataxierr[pole] += data.xierr[label][pole]\n",
    "            _theoryxi[pole] += model.xi[label][pole]\n",
    "    return _dataxi, _dataxierr, _theoryxi"
   ]
  },
  {
   "cell_type": "code",
   "execution_count": 17,
   "id": "19098ed2-df17-428d-a760-bb63d972f7e8",
   "metadata": {
    "jupyter": {
     "source_hidden": true
    },
    "tags": []
   },
   "outputs": [],
   "source": [
    "def plot_sum(ax, labels, poles=[0,2], c='C0', **kwargs):\n",
    "    _dataxi, _dataxierr, _theoryxi = get_sum_from_labels(labels)\n",
    "    for pole in poles:\n",
    "        if pole == poles[0]:\n",
    "            label = \"+\".join(labels)\n",
    "        else:\n",
    "            label = None\n",
    "        ax.plot(theory.r, theory.r**2*_theoryxi[pole], c=c, label=label, **kwargs)\n",
    "        ax.errorbar(data.r, data.r**2*_dataxi[pole], data.r**2*_dataxierr[pole], c=c, fmt='.', **kwargs)"
   ]
  },
  {
   "cell_type": "code",
   "execution_count": 20,
   "id": "ea16e3f7-7f74-4804-ace8-8806bec91a02",
   "metadata": {},
   "outputs": [],
   "source": [
    "%matplotlib inline"
   ]
  },
  {
   "cell_type": "code",
   "execution_count": 21,
   "id": "2365e0a0-ac87-48e4-a73b-4fdb147d2a3c",
   "metadata": {},
   "outputs": [
    {
     "data": {
      "image/png": "[encoded data removed]",
      "text/plain": [
       "<Figure size 432x288 with 1 Axes>"
      ]
     },
     "metadata": {
      "needs_background": "light"
     },
     "output_type": "display_data"
    }
   ],
   "source": [
    "fig, ax = plt.subplots()\n",
    "\n",
    "plot_sum(ax, ['0','3'], c='C0', alpha=0.5)\n",
    "plot_sum(ax, ['03'], c='C1', alpha=0.5)\n",
    "ax.set_xlim(-5, 200)\n",
    "ax.legend();"
   ]
  },
  {
   "cell_type": "code",
   "execution_count": 25,
   "id": "a67ec51a-6f83-410d-ab18-87ca451da9ac",
   "metadata": {},
   "outputs": [
    {
     "data": {
      "image/png": "[encoded data removed]",
      "text/plain": [
       "<Figure size 432x288 with 1 Axes>"
      ]
     },
     "metadata": {
      "needs_background": "light"
     },
     "output_type": "display_data"
    }
   ],
   "source": [
    "fig, ax = plt.subplots()\n",
    "\n",
    "plot_sum(ax, ['1','3'], c='C0', alpha=0.5)\n",
    "plot_sum(ax, ['13'], c='C1', alpha=0.5)\n",
    "ax.set_xlim(-5, 200)\n",
    "ax.legend();"
   ]
  },
  {
   "cell_type": "code",
   "execution_count": 23,
   "id": "19f5177a-57ac-451f-81c4-cc83bc27b8d5",
   "metadata": {},
   "outputs": [
    {
     "data": {
      "image/png": "[encoded data removed]",
      "text/plain": [
       "<Figure size 432x288 with 1 Axes>"
      ]
     },
     "metadata": {
      "needs_background": "light"
     },
     "output_type": "display_data"
    }
   ],
   "source": [
    "fig, ax = plt.subplots()\n",
    "\n",
    "plot_sum(ax, ['0','12','3'], c='C0', alpha=0.5)\n",
    "plot_sum(ax, ['0123'], c='C1', alpha=0.5)\n",
    "ax.set_xlim(-5, 200)\n",
    "ax.legend();"
   ]
  },
  {
   "cell_type": "code",
   "execution_count": 22,
   "id": "4edd60ee-e7a1-430e-b9a8-9985a2681f5d",
   "metadata": {},
   "outputs": [
    {
     "data": {
      "image/png": "[encoded data removed]",
      "text/plain": [
       "<Figure size 432x288 with 1 Axes>"
      ]
     },
     "metadata": {
      "needs_background": "light"
     },
     "output_type": "display_data"
    }
   ],
   "source": [
    "fig, ax = plt.subplots()\n",
    "\n",
    "plot_sum(ax, ['0','1','2','3'], c='C0', alpha=0.5)\n",
    "plot_sum(ax, ['0123'], c='C1', alpha=0.5)\n",
    "ax.set_xlim(-5, 200)\n",
    "ax.legend();"
   ]
  },
  {
   "cell_type": "markdown",
   "id": "5f885de8-f4a8-439f-af4c-9bd32c1baed2",
   "metadata": {},
   "source": [
    "All the sums are consistent with the direct measurement, except for the measurement \n",
    "of the full correlation with all the terms (0 1 2 3). \n",
    "\n",
    "There should be something missing in the model when dealing with biased sources\n",
    "with RSD applied."
   ]
  }
 ],
 "metadata": {
  "kernelspec": {
   "display_name": "CoLoRe",
   "language": "python",
   "name": "colore"
  },
  "language_info": {
   "codemirror_mode": {
    "name": "ipython",
    "version": 3
   },
   "file_extension": ".py",
   "mimetype": "text/x-python",
   "name": "python",
   "nbconvert_exporter": "python",
   "pygments_lexer": "ipython3",
   "version": "3.8.5"
  }
 },
 "nbformat": 4,
 "nbformat_minor": 5
}
