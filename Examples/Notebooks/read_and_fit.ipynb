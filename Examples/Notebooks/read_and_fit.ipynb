{
 "cells": [
  {
   "cell_type": "code",
   "execution_count": 62,
   "id": "a9ec66a9-cbb2-48b3-b1d2-d2dc3b365e99",
   "metadata": {
    "tags": []
   },
   "outputs": [],
   "source": [
    "from pathlib import Path # Handle paths more easily\n",
    "import matplotlib.pyplot as plt # Make plots\n",
    "import numpy as np \n",
    "\n",
    "import fitsio # Handle fits files\n",
    "import sys # \n",
    "plt.style.use('tableau-colorblind10') # Change style to colorblind"
   ]
  },
  {
   "cell_type": "code",
   "execution_count": 63,
   "id": "9c4e2152-b347-4418-8ac7-56dfa4ef141a",
   "metadata": {
    "tags": []
   },
   "outputs": [],
   "source": [
    "# Import classes to read CoLoRe boxes and compute computations\n",
    "# read abacus power spectra files in a similar way.\n",
    "from CoLoRe_corrf_analysis.pk_helper import PKComputations, PKComputationsAbacus"
   ]
  },
  {
   "cell_type": "code",
   "execution_count": 64,
   "id": "678644a9-5de5-4e5a-9ec5-7640ddfab926",
   "metadata": {
    "tags": []
   },
   "outputs": [],
   "source": [
    "# Whether to use redshift space distortions\n",
    "rsd = False"
   ]
  },
  {
   "cell_type": "markdown",
   "id": "cdf3ec58-1b86-4d78-8b12-7a9efb844952",
   "metadata": {},
   "source": [
    "# Read Model"
   ]
  },
  {
   "cell_type": "code",
   "execution_count": 65,
   "id": "f793a160-87b6-4caf-b8f7-84d76119ff64",
   "metadata": {
    "tags": []
   },
   "outputs": [],
   "source": [
    "from CoLoRe_corrf_analysis.read_colore import ComputeModelsCoLoRe"
   ]
  },
  {
   "cell_type": "code",
   "execution_count": 66,
   "id": "5385ec99-8a9b-45d3-bc6f-5d8461bce577",
   "metadata": {
    "tags": []
   },
   "outputs": [
    {
     "name": "stdout",
     "output_type": "stream",
     "text": [
      "Failed reading bias from param.cfg\n",
      "Failed reading nz from param.cfg\n"
     ]
    }
   ],
   "source": [
    "# The model to fit for Pks (or correlations) takes as an input a CoLoRe box\n",
    "# the model will be generated matching the cosmology of the given input box.\n",
    "colore_box = Path(\"/global/cfs/cdirs/desicollab/users/cramirez/oxford_visit_v2/2lpt_checks/compare_abacus/boxes/rsd_grid512_biasmodel3_seed0v4/results\")\n",
    "\n",
    "model = ComputeModelsCoLoRe(\n",
    "    box_path=colore_box,\n",
    "    source=4, # Important to also match the source for bias, etc...\n",
    "    param_cfg_filename=colore_box.parent / \"param.cfg\", # Usually the code will try to find this file by reading the config, but it failis if it has been moved\n",
    "    snapshot=True, # We are reading snapshots. This is only used to freeze bias evolution, etc...\n",
    "    # smooth_factor=0, # For now we are going to ignore all smoothing factors\n",
    "    # smooth_factor_rsd=0,\n",
    "    # smooth_factor_cross=0,\n",
    "    # smooth_factor_analysis=0,\n",
    "    \n",
    ")\n",
    "\n",
    "# Ignore Failed reading bias and nz is using snapshot,\n",
    "# bias can still be accessed\n",
    "bias = model.bias(1)\n",
    "# and nz is not needed here."
   ]
  },
  {
   "cell_type": "code",
   "execution_count": 73,
   "id": "33457464-f6fc-4fbc-b81d-2cf1b86981ef",
   "metadata": {
    "tags": []
   },
   "outputs": [
    {
     "data": {
      "text/plain": [
       "Text(0, 0.5, '$P(k)$')"
      ]
     },
     "execution_count": 73,
     "metadata": {},
     "output_type": "execute_result"
    },
    {
     "data": {
      "image/png": "[encoded data removed]",
      "text/plain": [
       "<Figure size 640x480 with 1 Axes>"
      ]
     },
     "metadata": {},
     "output_type": "display_data"
    }
   ],
   "source": [
    "# Now a given model can be generated by using\n",
    "\n",
    "pk = model.get_npole(0, z=2)\n",
    "\n",
    "fig, ax = plt.subplots()\n",
    "\n",
    "ax.plot(\n",
    "    model.k,\n",
    "    pk\n",
    ")\n",
    "\n",
    "ax.set_xscale(\"log\")\n",
    "ax.set_yscale(\"log\")\n",
    "ax.grid()\n",
    "ax.set_xlim(0.01, 20)\n",
    "\n",
    "ax.set_xlabel(r\"$k [h\\,\\mathrm{Mpc}^{-1}]$\")\n",
    "ax.set_ylabel(r\"$P(k)$\")"
   ]
  },
  {
   "cell_type": "markdown",
   "id": "09fc49a0-86a6-4bda-b6a9-3c42a28ed78e",
   "metadata": {
    "tags": []
   },
   "source": [
    "## Read Abacus boxes "
   ]
  },
  {
   "cell_type": "code",
   "execution_count": 52,
   "id": "3b9db377-7bd5-48df-9073-3f85067b130c",
   "metadata": {
    "tags": []
   },
   "outputs": [],
   "source": [
    "# Path where PK output files are stored\n",
    "abacus_output_location = Path(\n",
    "    \"/global/cfs/cdirs/desi/cosmosim/FirstGenMocks/AbacusSummit/Clustering/\"\n",
    "    \"CubicBox/QSO/AbacusSummit_base_c000/z2.000/PK\"\n",
    ")\n",
    "\n",
    "# Iterate over files and read the PK files. In this case we need to search these files.\n",
    "# Whether we want to use rsd or not, we have different patterns\n",
    "if rsd:\n",
    "    pattern = \"*RSD.dat\"\n",
    "else:\n",
    "    pattern = \"*REAL.dat\"\n",
    "    \n",
    "# Create array to store the different power spectra\n",
    "# one element per simulation\n",
    "abacus_boxes = []\n",
    "\n",
    "# Iterate over files, create instance per file\n",
    "for pk_file in abacus_output_location.glob(pattern):\n",
    "    abacus_boxes.append(PKComputationsAbacus(pk_file))"
   ]
  },
  {
   "cell_type": "markdown",
   "id": "903a2e68-7c13-4dfe-8c11-3d51f6b66f51",
   "metadata": {},
   "source": [
    "## Read CoLoRe boxes"
   ]
  },
  {
   "cell_type": "code",
   "execution_count": 53,
   "id": "4b53670a-2636-4329-955d-dcca54d930cf",
   "metadata": {
    "tags": []
   },
   "outputs": [],
   "source": [
    "# If we want to perform a similar analysis as with Abacus,\n",
    "# we need to look at multiple CoLoRe boxes with the same\n",
    "# cosmology.\n",
    "colore_boxes_glob = Path(\n",
    "    \"/global/cfs/cdirs/desicollab/users/cramirez/oxford_visit_v2/2lpt_checks/compare_abacus/boxes\"\n",
    ").glob(\"*v4/results\") # This will \"search\" all boxes finishing with v4, all of them are just variations with different seed\n",
    "\n",
    "# Create array to store the different measurements\n",
    "colore_boxes = []\n",
    "for box in colore_boxes_glob:\n",
    "    # In the case of abacus, one file contains only one tracer\n",
    "    # With CoLoRe we can read multiple tracers.\n",
    "    colore_boxes.append(PKComputations(\n",
    "        box_dir=box,\n",
    "        source=1, # CoLoRe tracer to use\n",
    "        rsd=rsd, # We can read tracers with or without redshift space distortions\n",
    "    ))"
   ]
  },
  {
   "cell_type": "markdown",
   "id": "b7e4076f-d2d8-48b0-a139-9cef430cbdec",
   "metadata": {},
   "source": [
    "# Make fits "
   ]
  },
  {
   "cell_type": "code",
   "execution_count": 54,
   "id": "4e81cb8a-8485-4496-b082-e4c3d06f9f09",
   "metadata": {
    "tags": []
   },
   "outputs": [],
   "source": [
    "from CoLoRe_corrf_analysis.fitter import FitterPK "
   ]
  },
  {
   "cell_type": "code",
   "execution_count": 55,
   "id": "9afb9b83-c2d8-42dd-9856-56db97903b68",
   "metadata": {
    "tags": []
   },
   "outputs": [],
   "source": [
    "# A fitter takes as input both the boxes we want to use to read the data\n",
    "# and the model we want to fit\n",
    "\n",
    "colore_fit = FitterPK(\n",
    "    boxes=colore_boxes,\n",
    "    z=2,\n",
    "    poles=[0,], # Multipoles to include in the fit (we are fitting only monopole now since norsd\n",
    "    theory=model, \n",
    "    rsd=rsd,\n",
    "    kmin={0: 1/140}, # k-min and k-max in the fit are defined per multipole.\n",
    "    kmax={0: 1/40},\n",
    ")\n",
    "\n",
    "# Let's define a similar fitter for Abacus\n",
    "abacus_fit = FitterPK(\n",
    "    boxes=abacus_boxes,\n",
    "    z=2,\n",
    "    poles=[0,],\n",
    "    theory=model,\n",
    "    rsd=rsd,\n",
    "    kmin={0: 1/140},\n",
    "    kmax={0: 1/40},\n",
    ")"
   ]
  },
  {
   "cell_type": "code",
   "execution_count": 56,
   "id": "bcf917e8-425c-48c9-b46c-bbea66af5df3",
   "metadata": {
    "tags": []
   },
   "outputs": [
    {
     "data": {
      "text/html": [
       "<h2>Fit Result</h2> <table class=\"jp-toc-ignore\"><caption class=\"jp-toc-ignore\">Fit Statistics</caption><tr><td style='text-align:left'>fitting method</td><td style='text-align:right'>leastsq</td></tr><tr><td style='text-align:left'># function evals</td><td style='text-align:right'>13</td></tr><tr><td style='text-align:left'># data points</td><td style='text-align:right'>3</td></tr><tr><td style='text-align:left'># variables</td><td style='text-align:right'>1</td></tr><tr><td style='text-align:left'>chi-square</td><td style='text-align:right'> 44.6412180</td></tr><tr><td style='text-align:left'>reduced chi-square</td><td style='text-align:right'> 22.3206090</td></tr><tr><td style='text-align:left'>Akaike info crit.</td><td style='text-align:right'> 10.1001359</td></tr><tr><td style='text-align:left'>Bayesian info crit.</td><td style='text-align:right'> 9.19874823</td></tr></table><table class=\"jp-toc-ignore\"><caption>Parameters</caption><tr><th style='text-align:left'>name</th><th style='text-align:left'>value</th><th style='text-align:left'>standard error</th><th style='text-align:left'>relative error</th><th style='text-align:left'>initial value</th><th style='text-align:left'>min</th><th style='text-align:left'>max</th><th style='text-align:right'>vary</th></tr><tr><td style='text-align:left'>z</td><td style='text-align:left'> 2.00000000</td><td style='text-align:left'> 0.00000000</td><td style='text-align:left'>(0.00%)</td><td style='text-align:left'>2</td><td style='text-align:left'> 0.00000000</td><td style='text-align:left'>        inf</td><td style='text-align:right'>False</td></tr><tr><td style='text-align:left'>bias</td><td style='text-align:left'> 1.76150396</td><td style='text-align:left'> 0.03767650</td><td style='text-align:left'>(2.14%)</td><td style='text-align:left'>3.0</td><td style='text-align:left'> 0.00000000</td><td style='text-align:left'>        inf</td><td style='text-align:right'>True</td></tr><tr><td style='text-align:left'>smooth_factor</td><td style='text-align:left'> 1.10000000</td><td style='text-align:left'> 0.00000000</td><td style='text-align:left'>(0.00%)</td><td style='text-align:left'>1.1</td><td style='text-align:left'> 0.00000000</td><td style='text-align:left'>        inf</td><td style='text-align:right'>False</td></tr><tr><td style='text-align:left'>smooth_factor_rsd</td><td style='text-align:left'> 1.00000000</td><td style='text-align:left'> 0.00000000</td><td style='text-align:left'>(0.00%)</td><td style='text-align:left'>1.0</td><td style='text-align:left'> 0.00000000</td><td style='text-align:left'>        inf</td><td style='text-align:right'>False</td></tr><tr><td style='text-align:left'>smooth_factor_cross</td><td style='text-align:left'> 2.10000000</td><td style='text-align:left'> 0.00000000</td><td style='text-align:left'>(0.00%)</td><td style='text-align:left'>2.1</td><td style='text-align:left'> 0.00000000</td><td style='text-align:left'>        inf</td><td style='text-align:right'>False</td></tr><tr><td style='text-align:left'>scale_factor</td><td style='text-align:left'> 1.00000000</td><td style='text-align:left'> 0.00000000</td><td style='text-align:left'>(0.00%)</td><td style='text-align:left'>1</td><td style='text-align:left'> 0.00000000</td><td style='text-align:left'>        inf</td><td style='text-align:right'>False</td></tr></table>"
      ],
      "text/plain": [
       "<lmfit.minimizer.MinimizerResult at 0x7ff3572c8390>"
      ]
     },
     "execution_count": 56,
     "metadata": {},
     "output_type": "execute_result"
    }
   ],
   "source": [
    "# Now we can perform the actual fit. It can take a while if the data\n",
    "# for the CoLoRe box has not been computed previously\n",
    "\n",
    "# We pass the free parameters to the fitter.\n",
    "# the parameters that can be set free in the fitter are:\n",
    "    # \"bias\",\n",
    "    # \"smooth_factor\",\n",
    "    # \"smooth_factor_rsd\",\n",
    "    # \"smooth_factor_cross\",\n",
    "    # \"bias2\",\n",
    "    # \"scale_factor\",\n",
    "    # \"z\",\n",
    "\n",
    "colore_fit.run_fit([\"bias\",]) \n",
    "# The fitter already outputs the results, but they can be accessed at any time\n",
    "# by getting the attribute .out -> colore_fit.out\n",
    "\n",
    "# colore_fit.out"
   ]
  },
  {
   "cell_type": "code",
   "execution_count": 57,
   "id": "4de68b32-993d-439e-b196-9c1981b5d3f5",
   "metadata": {
    "tags": []
   },
   "outputs": [],
   "source": [
    "# We can perform the same thing for Abacus\n",
    "# just hidding the output by assigning it to a dummy variable\n",
    "_ = abacus_fit.run_fit([\"bias\",])"
   ]
  },
  {
   "cell_type": "code",
   "execution_count": 58,
   "id": "d616554b-ec90-482e-9a56-77cc171926d1",
   "metadata": {
    "tags": []
   },
   "outputs": [],
   "source": [
    "from CoLoRe_corrf_analysis.plot_methods import Plots"
   ]
  },
  {
   "cell_type": "code",
   "execution_count": 61,
   "id": "2e9bd95a-cec2-474c-9dd4-91fe591a211d",
   "metadata": {
    "tags": []
   },
   "outputs": [
    {
     "data": {
      "text/plain": [
       "<matplotlib.legend.Legend at 0x7ff354cd2190>"
      ]
     },
     "execution_count": 61,
     "metadata": {},
     "output_type": "execute_result"
    },
    {
     "data": {
      "image/png": "[encoded data removed]",
      "text/plain": [
       "<Figure size 640x480 with 1 Axes>"
      ]
     },
     "metadata": {},
     "output_type": "display_data"
    }
   ],
   "source": [
    "# Finally, we can plot the model with the data at the same time.\n",
    "\n",
    "fig, ax = plt.subplots()\n",
    "\n",
    "pks = np.array([box.compute_npole(n=0) for box in abacus_boxes])\n",
    "\n",
    "ax.errorbar(\n",
    "    abacus_boxes[0].k, # k is the same for all of them, we can just pick the first one\n",
    "    pks.mean(axis=0),\n",
    "    yerr=pks.std(axis=0, ddof=1), #/len(abacus_boxes), If we divide by the number of boxes, we get the std of a single box.\n",
    "    label=\"Abacus\",\n",
    "    fmt='.',\n",
    ")\n",
    "\n",
    "pks = np.array([box.compute_npole(n=0) for box in colore_boxes])\n",
    "\n",
    "ax.errorbar(\n",
    "    colore_boxes[0].k, \n",
    "    pks.mean(axis=0),\n",
    "    yerr=pks.std(axis=0, ddof=1),\n",
    "    label=\"CoLoRe\",\n",
    "    fmt='.',\n",
    ")\n",
    "\n",
    "\n",
    "##########################\n",
    "### Adding the models\n",
    "##########################\n",
    "Plots.plot_best_fit_pk(\n",
    "    abacus_fit,\n",
    "    pole=0, # Multipole we want to plot.\n",
    "    ax=ax, # We pass the axis where we want to plot.\n",
    "    plot_args=dict(c='k', lw=1)\n",
    ")\n",
    "    \n",
    "Plots.plot_best_fit_pk(\n",
    "    colore_fit,\n",
    "    pole=0, # Multipole we want to plot.\n",
    "    ax=ax, # We pass the axis where we want to plot.\n",
    "    plot_args=dict(c='k', lw=1)\n",
    ")\n",
    "    \n",
    "\n",
    "ax.set_xscale(\"log\")\n",
    "ax.set_yscale(\"log\")\n",
    "ax.grid()\n",
    "ax.set_xlabel(r\"$k [h\\,\\mathrm{Mpc}^{-1}]$\")\n",
    "ax.set_ylabel(r\"$P(k)$\")\n",
    "\n",
    "\n",
    "ax.legend()"
   ]
  },
  {
   "cell_type": "code",
   "execution_count": null,
   "id": "c807a784-3805-4130-bf1c-8376b9a3dc13",
   "metadata": {},
   "outputs": [],
   "source": []
  },
  {
   "cell_type": "code",
   "execution_count": null,
   "id": "3e8d85b7-cab6-460b-8850-45017a93230d",
   "metadata": {},
   "outputs": [],
   "source": []
  }
 ],
 "metadata": {
  "kernelspec": {
   "display_name": "picca",
   "language": "python",
   "name": "picca"
  },
  "language_info": {
   "codemirror_mode": {
    "name": "ipython",
    "version": 3
   },
   "file_extension": ".py",
   "mimetype": "text/x-python",
   "name": "python",
   "nbconvert_exporter": "python",
   "pygments_lexer": "ipython3",
   "version": "3.11.4"
  },
  "widgets": {
   "application/vnd.jupyter.widget-state+json": {
    "state": {},
    "version_major": 2,
    "version_minor": 0
   }
  }
 },
 "nbformat": 4,
 "nbformat_minor": 5
}
