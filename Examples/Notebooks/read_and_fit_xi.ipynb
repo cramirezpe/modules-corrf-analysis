{
 "cells": [
  {
   "cell_type": "code",
   "execution_count": 1,
   "id": "a9783cb3-0409-4cfb-838d-0db88cb7483a",
   "metadata": {
    "tags": []
   },
   "outputs": [],
   "source": [
    "# This notebook is the equivalent to read_and_xi.ipynb\n",
    "# but it uses correlation measurements performed\n",
    "# with Corrfunc."
   ]
  },
  {
   "cell_type": "code",
   "execution_count": 2,
   "id": "24a4946a-ba2d-44a7-b27b-fd348cebf4f6",
   "metadata": {
    "tags": []
   },
   "outputs": [],
   "source": [
    "from pathlib import Path # Handle paths more easily\n",
    "import matplotlib.pyplot as plt # Make plots\n",
    "import numpy as np \n",
    "\n",
    "import fitsio # Handle fits files\n",
    "import sys # \n",
    "plt.style.use('tableau-colorblind10') # Change style to colorblind"
   ]
  },
  {
   "cell_type": "code",
   "execution_count": 3,
   "id": "7e28832c-16cd-46d8-a6e5-c92faaf585b7",
   "metadata": {
    "tags": []
   },
   "outputs": [],
   "source": [
    "# Import classes to read CoLoRe boxes and compute computations\n",
    "# read abacus power spectra files in a similar way.\n",
    "from CoLoRe_corrf_analysis.cf_helper import CFComputations, CFComputationsAbacus"
   ]
  },
  {
   "cell_type": "code",
   "execution_count": 4,
   "id": "94f190fd-475a-4556-bb1f-0bc335f57461",
   "metadata": {
    "tags": []
   },
   "outputs": [],
   "source": [
    "rsd = False"
   ]
  },
  {
   "cell_type": "markdown",
   "id": "56d000bd-e637-4bf9-afd5-37155d3bd85d",
   "metadata": {},
   "source": [
    "# Read Model"
   ]
  },
  {
   "cell_type": "code",
   "execution_count": 5,
   "id": "f2aa826d-5dea-4614-9dd3-5df58415bd41",
   "metadata": {
    "tags": []
   },
   "outputs": [],
   "source": [
    "from CoLoRe_corrf_analysis.read_colore import ComputeModelsCoLoRe"
   ]
  },
  {
   "cell_type": "code",
   "execution_count": 6,
   "id": "72921b86-6e66-4603-bc70-63ebb47ce13e",
   "metadata": {
    "tags": []
   },
   "outputs": [
    {
     "name": "stdout",
     "output_type": "stream",
     "text": [
      "Failed reading bias from param.cfg\n",
      "Failed reading nz from param.cfg\n"
     ]
    }
   ],
   "source": [
    "# The model to fit for Pks (or correlations) takes as an input a CoLoRe box\n",
    "# the model will be generated matching the cosmology of the given input box.\n",
    "colore_box = Path(\"/pscratch/sd/c/cramirez/oxford_visit/test_boxes/colore_box_512_0_v0/results\")\n",
    "\n",
    "model = ComputeModelsCoLoRe(\n",
    "    box_path=colore_box,\n",
    "    source=2, # Important to also match the source for bias, etc...\n",
    "    param_cfg_filename=colore_box.parent / \"param.cfg\", # Usually the code will try to find this file by reading the config, but it failis if it has been moved\n",
    "    snapshot=True, # We are reading snapshots. This is only used to freeze bias evolution, etc...\n",
    "    # smooth_factor=0, # For now we are going to ignore all smoothing factors\n",
    "    # smooth_factor_rsd=0,\n",
    "    # smooth_factor_cross=0,\n",
    "    # smooth_factor_analysis=0,\n",
    "    \n",
    ")\n",
    "\n",
    "# Ignore Failed reading bias and nz is using snapshot,\n",
    "# bias can still be accessed\n",
    "bias = model.bias(1)\n",
    "# and nz is not needed here."
   ]
  },
  {
   "cell_type": "code",
   "execution_count": 7,
   "id": "3bd0513c-85d1-462e-a349-edc8584d28cc",
   "metadata": {
    "tags": []
   },
   "outputs": [
    {
     "name": "stderr",
     "output_type": "stream",
     "text": [
      "/global/common/software/desi/users/cramirez/conda/envs/colore/lib/python3.8/site-packages/mcfit/mcfit.py:126: UserWarning: The default value of lowring has been changed to False, set it to True if you cannot reproduce previous results\n",
      "  warnings.warn(\"The default value of lowring has been changed to False, \"\n",
      "/global/common/software/desi/users/cramirez/conda/envs/colore/lib/python3.8/site-packages/mcfit/mcfit.py:217: UserWarning: The default value of extrap has been changed to False, set it to True if you cannot reproduce previous results\n",
      "  warnings.warn(\"The default value of extrap has been changed to False, \"\n"
     ]
    },
    {
     "data": {
      "text/plain": [
       "Text(0, 0.5, '$r^2 \\\\xi(r) \\\\, [Mpc^3 h^{-3}]$')"
      ]
     },
     "execution_count": 7,
     "metadata": {},
     "output_type": "execute_result"
    },
    {
     "data": {
      "image/png": "[encoded data removed]",
      "text/plain": [
       "<Figure size 640x480 with 1 Axes>"
      ]
     },
     "metadata": {},
     "output_type": "display_data"
    }
   ],
   "source": [
    "# Now a given model can be generated by using\n",
    "\n",
    "xi = model.get_npole(0, z=2)\n",
    "\n",
    "fig, ax = plt.subplots()\n",
    "\n",
    "ax.plot(\n",
    "    model.r,\n",
    "    xi*model.r**2,\n",
    ")\n",
    "ax.grid()\n",
    "ax.set_xlim(-10, 300)\n",
    "ax.set_xlabel(r\"$r [Mpc h^{-1}]$\")\n",
    "ax.set_ylabel(r\"$r^2 \\xi(r) \\, [Mpc^3 h^{-3}]$\")"
   ]
  },
  {
   "cell_type": "markdown",
   "id": "3d3a0519-3181-49b5-be23-307d41527c96",
   "metadata": {},
   "source": [
    "## Read Abacus boxes "
   ]
  },
  {
   "cell_type": "code",
   "execution_count": 8,
   "id": "0e7a32be-0268-4b3a-828a-f3a97ca0758e",
   "metadata": {
    "tags": []
   },
   "outputs": [],
   "source": [
    "# Path where PK output files are stored\n",
    "abacus_output_location = Path(\n",
    "    \"/global/cfs/cdirs/desicollab/cosmosim/FirstGenMocks/AbacusSummit/Clustering/\"\n",
    "    \"CubicBox/QSO/AbacusSummit_base_c000/z2.500/2PCF\"\n",
    ")\n",
    "\n",
    "# Iterate over files and read the PK files. In this case we need to search these files.\n",
    "# Whether we want to use rsd or not, we have different patterns\n",
    "if rsd:\n",
    "    pattern = \"*RSD.dat\"\n",
    "else:\n",
    "    pattern = \"*REAL.dat\"\n",
    "    \n",
    "# Create array to store the different power spectra\n",
    "# one element per simulation\n",
    "abacus_boxes = []\n",
    "\n",
    "# Iterate over files, create instance per file\n",
    "for pk_file in abacus_output_location.glob(pattern):\n",
    "    abacus_boxes.append(CFComputationsAbacus(pk_file))"
   ]
  },
  {
   "cell_type": "markdown",
   "id": "8d8bcd2d-8226-4dba-a0a6-5eece60b8667",
   "metadata": {},
   "source": [
    "## Read Corrf outputs"
   ]
  },
  {
   "cell_type": "markdown",
   "id": "c0cc4885-639d-41ad-8562-476e808b5273",
   "metadata": {},
   "source": [
    "Now we need to read Corrf output instead of directly CoLoRe."
   ]
  },
  {
   "cell_type": "code",
   "execution_count": 9,
   "id": "19286b7e-ea33-4f0a-b6da-72e36b7dcdad",
   "metadata": {
    "tags": []
   },
   "outputs": [],
   "source": [
    "x = CFComputations(\n",
    "    Path(\"/pscratch/sd/c/cramirez/oxford_visit/test_boxes/colore_box_512_0_v0/Corrf/source_3rsd/results\"))"
   ]
  },
  {
   "cell_type": "code",
   "execution_count": null,
   "id": "d85be6ab-a20d-49bc-b259-93381dfd3fbe",
   "metadata": {},
   "outputs": [],
   "source": []
  },
  {
   "cell_type": "code",
   "execution_count": 10,
   "id": "d5353e36-c005-4ce0-bbd8-18ba0fd281ca",
   "metadata": {
    "tags": []
   },
   "outputs": [],
   "source": [
    "# If we want to perform a similar analysis as with Abacus,\n",
    "# we need to look at multiple CoLoRe boxes with the same\n",
    "# cosmology.\n",
    "corrf_outputs_glob = Path(\n",
    "    \"/pscratch/sd/c/cramirez/oxford_visit/test_boxes/\"\n",
    ").glob(\"*v0/Corrf/source_3rsd/results\") # This will \"search\" all boxes finishing with v4, all of them are just variations with different seed\n",
    "\n",
    "# Create array to store the different measurements\n",
    "colore_boxes = []\n",
    "for result in corrf_outputs_glob:\n",
    "    # In the case of abacus, one file contains only one tracer\n",
    "    # With CoLoRe we can read multiple tracers.\n",
    "    colore_boxes.append(CFComputations(\n",
    "        results_path=result,\n",
    "    ))"
   ]
  },
  {
   "cell_type": "markdown",
   "id": "fc7b8e9a-5169-4f7d-9897-28d073ae4a18",
   "metadata": {},
   "source": [
    "## Make fits"
   ]
  },
  {
   "cell_type": "code",
   "execution_count": 11,
   "id": "b40ee274-6706-41e8-b28b-1abbbd9bc86f",
   "metadata": {
    "tags": []
   },
   "outputs": [],
   "source": [
    "from CoLoRe_corrf_analysis.fitter import Fitter"
   ]
  },
  {
   "cell_type": "code",
   "execution_count": 12,
   "id": "8d68a833-5454-42f5-9cb5-32553aa3329e",
   "metadata": {
    "tags": []
   },
   "outputs": [],
   "source": [
    "# A fitter takes as input both the boxes we want to use to read the data\n",
    "# and the model we want to fit\n",
    "\n",
    "colore_fit = Fitter(\n",
    "    boxes=colore_boxes,\n",
    "    z=2,\n",
    "    poles=[0,], # Multipoles to include in the fit (we are fitting only monopole now since norsd\n",
    "    theory=model, \n",
    "    rsd=rsd,\n",
    "    rmin={0: 40}, # k-min and k-max in the fit are defined per multipole.\n",
    "    rmax={0: 140},\n",
    ")\n",
    "\n",
    "# Let's define a similar fitter for Abacus\n",
    "abacus_fit = Fitter(\n",
    "    boxes=abacus_boxes,\n",
    "    z=2,\n",
    "    poles=[0,],\n",
    "    theory=model,\n",
    "    rsd=rsd,\n",
    "    rmin={0: 40},\n",
    "    rmax={0: 140},\n",
    ")"
   ]
  },
  {
   "cell_type": "code",
   "execution_count": 17,
   "id": "11bae681-101e-4752-a2e3-d7fcc0fc201a",
   "metadata": {
    "tags": []
   },
   "outputs": [
    {
     "data": {
      "text/html": [
       "<h2>Fit Result</h2> <table class=\"jp-toc-ignore\"><caption class=\"jp-toc-ignore\">Fit Statistics</caption><tr><td style='text-align:left'>fitting method</td><td style='text-align:right'>leastsq</td></tr><tr><td style='text-align:left'># function evals</td><td style='text-align:right'>2</td></tr><tr><td style='text-align:left'># data points</td><td style='text-align:right'>20</td></tr><tr><td style='text-align:left'># variables</td><td style='text-align:right'>1</td></tr><tr><td style='text-align:left'>chi-square</td><td style='text-align:right'> 9579.47072</td></tr><tr><td style='text-align:left'>reduced chi-square</td><td style='text-align:right'> 504.182669</td></tr><tr><td style='text-align:left'>Akaike info crit.</td><td style='text-align:right'> 125.432907</td></tr><tr><td style='text-align:left'>Bayesian info crit.</td><td style='text-align:right'> 126.428639</td></tr></table><table class=\"jp-toc-ignore\"><caption>Parameters</caption><tr><th style='text-align:left'>name</th><th style='text-align:left'>value</th><th style='text-align:left'>initial value</th><th style='text-align:left'>min</th><th style='text-align:left'>max</th><th style='text-align:right'>vary</th></tr><tr><td style='text-align:left'>z</td><td style='text-align:left'> 2.00000000</td><td style='text-align:left'>2</td><td style='text-align:left'> 0.00000000</td><td style='text-align:left'>        inf</td><td style='text-align:right'>False</td></tr><tr><td style='text-align:left'>smooth_factor</td><td style='text-align:left'> 1.10000000</td><td style='text-align:left'>1.1</td><td style='text-align:left'> 0.00000000</td><td style='text-align:left'>        inf</td><td style='text-align:right'>False</td></tr><tr><td style='text-align:left'>smooth_factor_rsd</td><td style='text-align:left'> 1.00000000</td><td style='text-align:left'>1.0</td><td style='text-align:left'> 0.00000000</td><td style='text-align:left'>        inf</td><td style='text-align:right'>False</td></tr><tr><td style='text-align:left'>smooth_factor_cross</td><td style='text-align:left'> 2.10000000</td><td style='text-align:left'>2.1</td><td style='text-align:left'> 0.00000000</td><td style='text-align:left'>        inf</td><td style='text-align:right'>False</td></tr><tr><td style='text-align:left'>bias</td><td style='text-align:left'> 0.00000000</td><td style='text-align:left'>0</td><td style='text-align:left'> 0.00000000</td><td style='text-align:left'>        inf</td><td style='text-align:right'>True</td></tr><tr><td style='text-align:left'>scale_factor</td><td style='text-align:left'> 1.00000000</td><td style='text-align:left'>1</td><td style='text-align:left'> 0.00000000</td><td style='text-align:left'>        inf</td><td style='text-align:right'>False</td></tr></table>"
      ],
      "text/plain": [
       "<lmfit.minimizer.MinimizerResult at 0x7f7aa733f700>"
      ]
     },
     "execution_count": 17,
     "metadata": {},
     "output_type": "execute_result"
    }
   ],
   "source": [
    "# Now we can perform the actual fit. It can take a while if the data\n",
    "# for the CoLoRe box has not been computed previously\n",
    "\n",
    "# We pass the free parameters to the fitter.\n",
    "# the parameters that can be set free in the fitter are:\n",
    "    # \"bias\",\n",
    "    # \"smooth_factor\",\n",
    "    # \"smooth_factor_rsd\",\n",
    "    # \"smooth_factor_cross\",\n",
    "    # \"bias2\",\n",
    "    # \"scale_factor\",\n",
    "    # \"z\",\n",
    "\n",
    "colore_fit.run_fit(bias=dict(vary=True, value=0))\n",
    "# The fitter already outputs the results, but they can be accessed at any time\n",
    "# by getting the attribute .out -> colore_fit.out\n",
    "\n",
    "# colore_fit.out"
   ]
  },
  {
   "cell_type": "code",
   "execution_count": 21,
   "id": "25510deb-7a4d-4e15-b653-2d81cfe8e08a",
   "metadata": {
    "tags": []
   },
   "outputs": [],
   "source": [
    "# We can perform the same thing for Abacus\n",
    "# just hidding the output by assigning it to a dummy variable\n",
    "_ = abacus_fit.run_fit(bias=dict(vary=True, value=0))"
   ]
  },
  {
   "cell_type": "code",
   "execution_count": 22,
   "id": "c6bac0cc-5b4c-403f-b909-5e7195c10ad0",
   "metadata": {
    "tags": []
   },
   "outputs": [],
   "source": [
    "from CoLoRe_corrf_analysis.plot_methods import Plots"
   ]
  },
  {
   "cell_type": "code",
   "execution_count": 23,
   "id": "0200763d-ba3c-4da6-93bb-eb94eda6d342",
   "metadata": {
    "tags": []
   },
   "outputs": [
    {
     "data": {
      "text/plain": [
       "<matplotlib.legend.Legend at 0x7f7aa7133ac0>"
      ]
     },
     "execution_count": 23,
     "metadata": {},
     "output_type": "execute_result"
    },
    {
     "data": {
      "image/png": "[encoded data removed]",
      "text/plain": [
       "<Figure size 640x480 with 1 Axes>"
      ]
     },
     "metadata": {},
     "output_type": "display_data"
    }
   ],
   "source": [
    "# Finally, we can plot the model with the data at the same time.\n",
    "\n",
    "fig, ax = plt.subplots()\n",
    "\n",
    "xis = np.array([box.compute_npole(n=0) for box in abacus_boxes])\n",
    "\n",
    "ax.errorbar(\n",
    "    abacus_boxes[0].savg, # r is the same for all of them, we can just pick the first one. savg means mean separation\n",
    "    xis.mean(axis=0)*abacus_boxes[0].savg**2,\n",
    "    yerr=xis.std(axis=0, ddof=1), #/len(abacus_boxes), If we divide by the number of boxes, we get the std of a single box.\n",
    "    label=\"Abacus\",\n",
    "    fmt='.',\n",
    ")\n",
    "\n",
    "xis = np.array([box.compute_npole(n=0) for box in colore_boxes])\n",
    "\n",
    "ax.errorbar(\n",
    "    colore_boxes[0].savg, \n",
    "    xis.mean(axis=0)*colore_boxes[0].savg**2,\n",
    "    yerr=xis.std(axis=0, ddof=1),\n",
    "    label=\"CoLoRe\",\n",
    "    fmt='.',\n",
    ")\n",
    "\n",
    "\n",
    "##########################\n",
    "### Adding the models\n",
    "##########################\n",
    "Plots.plot_best_fit(\n",
    "    abacus_fit,\n",
    "    pole=0, # Multipole we want to plot.\n",
    "    ax=ax, # We pass the axis where we want to plot.\n",
    "    plot_args=dict(c='k', lw=1)\n",
    ")\n",
    "    \n",
    "Plots.plot_best_fit(\n",
    "    colore_fit,\n",
    "    pole=0, # Multipole we want to plot.\n",
    "    ax=ax, # We pass the axis where we want to plot.\n",
    "    plot_args=dict(c='k', lw=1)\n",
    ")\n",
    "    \n",
    "\n",
    "ax.grid()\n",
    "ax.set_xlim(-10, 300)\n",
    "ax.set_xlabel(r\"$r [Mpc h^{-1}]$\")\n",
    "ax.set_ylabel(r\"$r^2 \\xi(r) \\, [Mpc^3 h^{-3}]$\")\n",
    "ax.legend()"
   ]
  },
  {
   "cell_type": "code",
   "execution_count": null,
   "id": "b6a02b11-9c0b-4f2f-bf3b-e2e9645c4ed4",
   "metadata": {},
   "outputs": [],
   "source": []
  }
 ],
 "metadata": {
  "kernelspec": {
   "display_name": "colore",
   "language": "python",
   "name": "colore"
  },
  "language_info": {
   "codemirror_mode": {
    "name": "ipython",
    "version": 3
   },
   "file_extension": ".py",
   "mimetype": "text/x-python",
   "name": "python",
   "nbconvert_exporter": "python",
   "pygments_lexer": "ipython3",
   "version": "3.8.19"
  },
  "widgets": {
   "application/vnd.jupyter.widget-state+json": {
    "state": {},
    "version_major": 2,
    "version_minor": 0
   }
  }
 },
 "nbformat": 4,
 "nbformat_minor": 5
}
