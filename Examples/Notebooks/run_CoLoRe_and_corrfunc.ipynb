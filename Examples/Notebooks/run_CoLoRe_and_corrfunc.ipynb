{
 "cells": [
  {
   "cell_type": "code",
   "execution_count": 2,
   "id": "553ba3fa-2265-49e5-9f4e-e0c8af95b20e",
   "metadata": {
    "tags": []
   },
   "outputs": [],
   "source": [
    "# This notebook shows how to run small!! colore boxes\n",
    "# within the jupyter shared node.\n",
    "\n",
    "# It also shows how to run corrfunc correlation function\n",
    "# measurements on these boxes.\n",
    "\n",
    "# For this notebook to work, picca_bookkeeper\n",
    "# needs to be installed so the runs can be sent and logged\n",
    "# properly with ease.\n",
    "# It can be downloaded from https://github.com/cramirezpe/picca_bookkeeper"
   ]
  },
  {
   "cell_type": "code",
   "execution_count": 14,
   "id": "acecbddc-4264-439f-8d32-2143b046760b",
   "metadata": {
    "tags": []
   },
   "outputs": [],
   "source": [
    "from pathlib import Path\n",
    "from subprocess import run # To send runs \n",
    "from multiprocessing import Pool # To run multiple seeds in parallel\n",
    "\n",
    "from picca_bookkeeper.tasker import get_Tasker # To organize runs outs and logs\n",
    "from picca_bookkeeper.dict_utils import DictUtils # To check if two dicts are the same \n",
    "\n",
    "import libconf # To read CoLoRe config file."
   ]
  },
  {
   "cell_type": "markdown",
   "id": "ffc7cf96-8478-414a-919b-a19615fcaec5",
   "metadata": {},
   "source": [
    "# Run CoLoRe "
   ]
  },
  {
   "cell_type": "code",
   "execution_count": 9,
   "id": "02e896f9-f56b-417e-8776-81988c62ab5d",
   "metadata": {
    "tags": []
   },
   "outputs": [],
   "source": [
    "# We need the path to the CoLoRe executable to run it.\n",
    "colore_executable = \"/global/common/software/desi/users/cramirez/colore_snap_threshold/CoLoRe_snap/CoLoRe\""
   ]
  },
  {
   "cell_type": "code",
   "execution_count": 6,
   "id": "8708797e-7a6c-4a8d-a734-2e8357311bb0",
   "metadata": {
    "tags": []
   },
   "outputs": [],
   "source": [
    "n_grid = 512 # Grid size\n",
    "z_snap = 2.0 # Redshift \n",
    "overwrite_colore = False # Overwrite if already exists.\n",
    "overwrite_corrf = False "
   ]
  },
  {
   "cell_type": "code",
   "execution_count": 7,
   "id": "cb5af5b7-46eb-4d90-8b68-62dc2707cb7c",
   "metadata": {
    "tags": []
   },
   "outputs": [],
   "source": [
    "colore_runs = Path(\n",
    "    \"/pscratch/sd/c/cramirez/oxford_visit/test_boxes\"\n",
    ").resolve() # The resolve here is important because we don't want relative paths, only absolute"
   ]
  },
  {
   "cell_type": "code",
   "execution_count": 37,
   "id": "e4bdc165-b8e3-42fa-9403-30bcff6b380a",
   "metadata": {
    "tags": []
   },
   "outputs": [],
   "source": [
    "def get_colore_box_name(seed):\n",
    "    return colore_runs / f\"colore_box_{n_grid}_{seed}_v0\" # Use anything here"
   ]
  },
  {
   "cell_type": "code",
   "execution_count": 46,
   "id": "291a4886-ba14-43cb-9452-b575f077a6d2",
   "metadata": {
    "tags": []
   },
   "outputs": [],
   "source": [
    "def compute_colore(seed): # We define function to then run multiple seeds using multiprocessing\n",
    "    colore_box = get_colore_box_name(seed)\n",
    "    print(colore_box, seed)\n",
    "    (colore_box / \"results\").mkdir(exist_ok=True, parents=True) # Create folder structure\n",
    "    \n",
    "    # Now we create the param.cfg for CoLoRe in a dict, so it can be customize\n",
    "    param_cfg = {\n",
    "        \"global\": {\n",
    "            \"prefix_out\": f\"{colore_box}/results/out\",\n",
    "            \"output_format\": \"FITS\",\n",
    "            \"output_density\": True,\n",
    "            \"pk_filename\": \"/global/cfs/cdirs/desicollab/users/cramirez/LyaCoLoRe_mocks_inputs/CoLoRe/PlanckDR12_kmax_matterpower_z0.dat\",\n",
    "            \"l_box\": 1000.0,\n",
    "            \"z_snap\": z_snap,\n",
    "            \"seed\": seed,\n",
    "        },\n",
    "        \"field_par\": {\n",
    "            \"r_smooth\": 0.001,\n",
    "            \"smooth_potential\": True,\n",
    "            \"n_grid\": n_grid,\n",
    "            \"dens_type\": 2,\n",
    "            \"lpt_buffer_fraction\": 0.6,\n",
    "            \"lpt_interp_type\": 1,\n",
    "            \"output_lpt\": 0,\n",
    "        },\n",
    "        \"cosmo_par\": {\n",
    "            \"omega_M\": 0.3147,\n",
    "            \"omega_L\": 0.6853,\n",
    "            \"omega_B\": 0.04904,\n",
    "            \"h\": 0.6731,\n",
    "            \"w\": -1.0,\n",
    "            \"ns\": 0.9655,\n",
    "            \"sigma_8\": 0.83,\n",
    "        },\n",
    "        \"srcs1\": { # here we are adding multiple sources with different choices of bias and threshold.\n",
    "            \"ndens\" : 0.0005,\n",
    "            \"bias\" : 1,\n",
    "            \"threshold\": 0.5\n",
    "        },\n",
    "        \"srcs2\": {\n",
    "            \"ndens\" : 0.0005,\n",
    "            \"bias\" : 2,\n",
    "            \"threshold\": -1,\n",
    "        },\n",
    "        \"srcs3\": {\n",
    "            \"ndens\" : 0.0005,\n",
    "            \"bias\" : 3,\n",
    "            \"threshold\": -1,\n",
    "        },\n",
    "        \"srcs4\": {\n",
    "            \"ndens\" : 0.0005,\n",
    "            \"bias\" : 4,\n",
    "            \"threshold\": -1,\n",
    "        },\n",
    "        # Now the same with threshold 1\n",
    "        \"srcs5\": {\n",
    "            \"ndens\" : 0.0005,\n",
    "            \"bias\" : 1,\n",
    "            \"threshold\": 1.5,\n",
    "        },\n",
    "        \"srcs6\": {\n",
    "            \"ndens\" : 0.0005,\n",
    "            \"bias\" : 2,\n",
    "            \"threshold\": 1.5,\n",
    "        },\n",
    "        \"srcs7\": {\n",
    "            \"ndens\" : 0.0005,\n",
    "            \"bias\" : 3,\n",
    "            \"threshold\": 1.5,\n",
    "        },\n",
    "        \"srcs8\": {\n",
    "            \n",
    "            \"ndens\" : 0.0005,\n",
    "            \"bias\" : 4,\n",
    "            \"threshold\": 1.5,   \n",
    "        },        \n",
    "    }\n",
    "    \n",
    "    # If paramcfg already exists, we  need to check that the content is the same\n",
    "    if (colore_box / \"param.cfg\").is_file():\n",
    "        with open(colore_box / \"param.cfg\") as f:\n",
    "            existing_config = libconf.load(f) # We use libconf to read the file\n",
    "        \n",
    "        diff = DictUtils.remove_empty(\n",
    "            DictUtils.diff_dicts(existing_config, param_cfg)\n",
    "        )\n",
    "        if diff != dict():\n",
    "            raise ValueError(\"Different param provided\", diff)        \n",
    "            \n",
    "    with open(colore_box / \"param.cfg\", \"w\") as f:\n",
    "        libconf.dump(param_cfg, f) # Write configuration to file.\n",
    "        \n",
    "    args = {\n",
    "        \"\": str(colore_box / \"param.cfg\"), # This is the only terminal arg needed to run CoLoRe\n",
    "    }\n",
    "    \n",
    "    # Create the logs directory\n",
    "    colore_logs_dir = colore_box / \"logs\"\n",
    "    colore_logs_dir.mkdir(exist_ok=True)\n",
    "    \n",
    "    # This is to appropiate set the output and error files\n",
    "    # j will be subtituted by the time of execution\n",
    "    # all of this is handled by picca_bookkeeper\n",
    "    slurm_header_args = dict(\n",
    "        output=str(colore_logs_dir / \"CoLoRe-%j.out\"),\n",
    "        error=str(colore_logs_dir / \"CoLoRe-%j.err\"),\n",
    "    )\n",
    "    \n",
    "    # Create the scripts directory\n",
    "    colore_scripts_dir = colore_box / \"scripts\"\n",
    "    colore_scripts_dir.mkdir(exist_ok=True)\n",
    "    \n",
    "    # Create the tasker instance that will be responsible of sending the job.\n",
    "    tasker = get_Tasker(\"bash\")( # bash means: do not run it in a computing node.\n",
    "        command = colore_executable,\n",
    "        command_args = args,\n",
    "        environment = \"picca\", # Name or path to the conda environment to be activated through ``source/conda activate``\n",
    "        slurm_header_args = slurm_header_args,\n",
    "        jobid_log_file = None, # This is only used for chaining slurm jobs, not needed here.\n",
    "        run_file = colore_scripts_dir.resolve() / \"run_colore.sh\", # This is the file that will be executed\n",
    "    )\n",
    "    \n",
    "    if len(list((colore_box/\"results\").glob(\"out_srcs*fits\"))) == 0 or overwrite_colore:\n",
    "        # If there are no results, we just run the job\n",
    "        tasker.write_job()\n",
    "        tasker.send_job()\n",
    "\n",
    "        if tasker.retcode.returncode != 0:\n",
    "            # If the task got a non-zero return code, we raise an error\n",
    "            # If the return code is 0, it doesnt' mean that the task was successful\n",
    "            raise ValueError(tasker.retcode)\n",
    "    else:\n",
    "        print(\"Skipping CoLoRe\")\n",
    "           \n",
    "    return colore_box    "
   ]
  },
  {
   "cell_type": "code",
   "execution_count": 48,
   "id": "c16d635f-7bc1-4dba-8df6-4d3016be2dc5",
   "metadata": {
    "tags": []
   },
   "outputs": [
    {
     "name": "stdout",
     "output_type": "stream",
     "text": [
      "/pscratch/sd/c/cramirez/oxford_visit/test_boxes/colore_box_512_0_v0/pscratch/sd/c/cramirez/oxford_visit/test_boxes/colore_box_512_3_v0/pscratch/sd/c/cramirez/oxford_visit/test_boxes/colore_box_512_2_v0/pscratch/sd/c/cramirez/oxford_visit/test_boxes/colore_box_512_1_v0    0213\n",
      "\n",
      "\n",
      "\n",
      "/pscratch/sd/c/cramirez/oxford_visit/test_boxes/colore_box_512_4_v0 4\n",
      "/pscratch/sd/c/cramirez/oxford_visit/test_boxes/colore_box_512_0_v0\n",
      "/pscratch/sd/c/cramirez/oxford_visit/test_boxes/colore_box_512_1_v0\n",
      "/pscratch/sd/c/cramirez/oxford_visit/test_boxes/colore_box_512_2_v0\n",
      "/pscratch/sd/c/cramirez/oxford_visit/test_boxes/colore_box_512_3_v0\n",
      "/pscratch/sd/c/cramirez/oxford_visit/test_boxes/colore_box_512_4_v0\n"
     ]
    }
   ],
   "source": [
    "# Opening the multiprocessing tool,\n",
    "# the use of imap allows us to see\n",
    "# which runs are finished\n",
    "\n",
    "nproc_colore = 4 # This should be keep to a small value to avoid running out of memory\n",
    "pool = Pool(nproc_colore)\n",
    "for out in pool.imap(\n",
    "    compute_colore,\n",
    "    [seed for seed in range(5)]\n",
    "):\n",
    "    print(out)\n"
   ]
  },
  {
   "cell_type": "markdown",
   "id": "d7d1e2ed-cc46-4fab-ab37-f7bcabc8d887",
   "metadata": {},
   "source": [
    "# Run Corrf"
   ]
  },
  {
   "cell_type": "code",
   "execution_count": 49,
   "id": "a8185e6e-55c3-4d99-9617-1070f097fd69",
   "metadata": {
    "tags": []
   },
   "outputs": [],
   "source": [
    "# In order to make this work, make sure that you can run corrf. \n",
    "# The README in https://github.com/cramirezpe/modules-corrf-analysis\n",
    "# details which packages are required for it."
   ]
  },
  {
   "cell_type": "code",
   "execution_count": 50,
   "id": "0f5ab56b-3ee7-49a4-8f3b-9355ddf25e7d",
   "metadata": {
    "tags": []
   },
   "outputs": [],
   "source": [
    "rsd = True # If we want to compute correlations to RSD quasars.\n",
    "source = 3 # Source number to compute correlations from."
   ]
  },
  {
   "cell_type": "code",
   "execution_count": 53,
   "id": "0eb2aca8-18e8-403a-a5df-1f5385ef5443",
   "metadata": {
    "tags": []
   },
   "outputs": [],
   "source": [
    "def compute_corrf(seed):\n",
    "    print(\"Corrf\", seed)\n",
    "    \n",
    "    # Define paths where to store the results.\n",
    "    colore_box = get_colore_box_name(seed)\n",
    "    rsd_string = \"rsd\" if rsd else \"no_rsd\"\n",
    "    corrf_directory = colore_box / \"Corrf\" / f\"source_{source}{rsd_string}\" \n",
    "    (corrf_directory / \"results\").mkdir(exist_ok=True, parents=True) \n",
    "    \n",
    "    # The actual script that we will be running is: \n",
    "    # https://github.com/cramirezpe/modules-corrf-analysis/blob/master/CoLoRe_corrf_analysis/compute_correlations.py\n",
    "    # The options available can also be found by running in a terminal\n",
    "    # CoLoRe_corrf_run_correlations --help\n",
    "    # Having the previous packaged installed.\n",
    "    args = {\n",
    "        \"data\": str(colore_box / \"results\" / f\"out_srcs_s{source}_*\"),\n",
    "        \"log-level\": \"DEBUG\", # We can select how fine we want the logs to be\n",
    "        \"data-format\": \"CoLoRe\", # Correlations can also be computed from catalogs (see script)\n",
    "        \"out-dir\": str(corrf_directory / \"results\"),\n",
    "        \"grid-format\": \"snapshot\", # Need this to run Corrf on CoLoRe snapshot. It can also be run in lightcones.\n",
    "        \"min-bin\": 0.1, # min-bin and max-bin defines the range of r (in Mpc/h)\n",
    "        \"max-bin\": 200,\n",
    "        \"n-bins\": 41,\n",
    "        \"compute-npoles\": \"0 2 4\", # Corrf compute counts as a 2D matrix (rper rpar counts). We can pre-compute multipoles afterwards using this option.\n",
    "        \"velocity-boost\": 1, # RSD velocities can be boosted, and it might be needed to build the final mocks. \n",
    "        \"box-size\": 1000, # Should of course match the one from CoLoRe\n",
    "        \"store-generated-rands\": \"\", # Randoms are not really needed in snapshot, but I haven't implemented the code to not using them yet.\n",
    "    }\n",
    "        \n",
    "    if not rsd:\n",
    "        # Extra args in case we don't want to compute RSD\n",
    "        args[\"data-norsd\"] = \"\"\n",
    "        \n",
    "    logs_dir = corrf_directory / \"logs\"\n",
    "    logs_dir.mkdir(exist_ok=True)\n",
    "    \n",
    "    slurm_header_args = dict(\n",
    "        output=str(logs_dir / \"corrf-%j.out\"),\n",
    "        error=str(logs_dir / \"corrf-%j.err\"),\n",
    "    )\n",
    "    \n",
    "    scripts_dir = corrf_directory / \"scripts\"\n",
    "    scripts_dir.mkdir(exist_ok=True)\n",
    "    \n",
    "    tasker = get_Tasker(\"bash\")( # bash means: do not run it in a computing node.\n",
    "        command = \"CoLoRe_corrf_run_correlations\",\n",
    "        command_args = args,\n",
    "        environment = \"picca\",\n",
    "        slurm_header_args = slurm_header_args,\n",
    "        jobid_log_file = None,\n",
    "        run_file = scripts_dir.resolve() / \"run_corrf.sh\",\n",
    "    )\n",
    "    \n",
    "    if len(list((corrf_directory / \"results\").glob(\"*.dat\"))) == 0 or overwrite_config:\n",
    "        tasker.write_job()\n",
    "        tasker.send_job()\n",
    "        \n",
    "        if tasker.retcode.returncode != 0:\n",
    "            raise ValueError(tasker.retcode)\n",
    "            \n",
    "    else:\n",
    "        print(\"Skipping Corrf\")"
   ]
  },
  {
   "cell_type": "code",
   "execution_count": 54,
   "id": "7f7816a7-9e5e-406a-88bd-5675299b6a5d",
   "metadata": {
    "tags": []
   },
   "outputs": [
    {
     "name": "stdout",
     "output_type": "stream",
     "text": [
      "CorrfCorrfCorrfCorrf    2130\n",
      "\n",
      "\n",
      "\n",
      "Corrf 4\n",
      "None\n",
      "None\n",
      "None\n",
      "None\n",
      "None\n"
     ]
    }
   ],
   "source": [
    "# Opening the multiprocessing tool,\n",
    "# the use of imap allows us to see\n",
    "# which runs are finished\n",
    "\n",
    "nproc_corrf = 5 # Not sure about the best value here.\n",
    "pool = Pool(nproc_colore)\n",
    "for out in pool.imap(\n",
    "    compute_corrf,\n",
    "    [seed for seed in range(5)]\n",
    "):\n",
    "    print(out)\n"
   ]
  }
 ],
 "metadata": {
  "kernelspec": {
   "display_name": "picca",
   "language": "python",
   "name": "picca"
  },
  "language_info": {
   "codemirror_mode": {
    "name": "ipython",
    "version": 3
   },
   "file_extension": ".py",
   "mimetype": "text/x-python",
   "name": "python",
   "nbconvert_exporter": "python",
   "pygments_lexer": "ipython3",
   "version": "3.11.4"
  },
  "widgets": {
   "application/vnd.jupyter.widget-state+json": {
    "state": {},
    "version_major": 2,
    "version_minor": 0
   }
  }
 },
 "nbformat": 4,
 "nbformat_minor": 5
}
